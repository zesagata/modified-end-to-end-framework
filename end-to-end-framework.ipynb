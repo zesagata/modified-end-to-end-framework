{
 "cells": [
  {
   "cell_type": "code",
   "execution_count": 3,
   "metadata": {
    "collapsed": true,
    "pycharm": {
     "name": "#%% importing library\n",
     "is_executing": false
    }
   },
   "outputs": [],
   "source": [
    "import torch\n",
    "import torchvision\n",
    "\n",
    "from os.path import exists\n",
    "from wheel.pep425tags import get_abbr_impl, get_impl_ver, get_abi_tag\n",
    "from torch import nn, optim\n",
    "from torchvision import datasets,transforms\n",
    "from torch.autograd import Variable\n",
    "from PIL import Image\n"
   ]
  },
  {
   "cell_type": "code",
   "execution_count": 4,
   "outputs": [],
   "source": [
    "import math\n",
    "irange = range\n",
    "\n",
    "\n",
    "def make_grid(tensor, nrow=8, padding=2,\n",
    "              normalize=False, range=None, scale_each=False, pad_value=0):\n",
    "    \"\"\"Make a grid of images.\n",
    "    Args:\n",
    "        tensor (Tensor or list): 4D mini-batch Tensor of shape (B x C x H x W)\n",
    "            or a list of images all of the same size.\n",
    "        nrow (int, optional): Number of images displayed in each row of the grid.\n",
    "            The Final grid size is (B / nrow, nrow). Default is 8.\n",
    "        padding (int, optional): amount of padding. Default is 2.\n",
    "        normalize (bool, optional): If True, shift the image to the range (0, 1),\n",
    "            by subtracting the minimum and dividing by the maximum pixel value.\n",
    "        range (tuple, optional): tuple (min, max) where min and max are numbers,\n",
    "            then these numbers are used to normalize the image. By default, min and max\n",
    "            are computed from the tensor.\n",
    "        scale_each (bool, optional): If True, scale each image in the batch of\n",
    "            images separately rather than the (min, max) over all images.\n",
    "        pad_value (float, optional): Value for the padded pixels.\n",
    "    Example:\n",
    "        See this notebook `here <https://gist.github.com/anonymous/bf16430f7750c023141c562f3e9f2a91>`_\n",
    "    \"\"\"\n",
    "    if not (torch.is_tensor(tensor) or\n",
    "            (isinstance(tensor, list) and all(torch.is_tensor(t) for t in tensor))):\n",
    "        raise TypeError('tensor or list of tensors expected, got {}'.format(type(tensor)))\n",
    "\n",
    "    # if list of tensors, convert to a 4D mini-batch Tensor\n",
    "    if isinstance(tensor, list):\n",
    "        tensor = torch.stack(tensor, dim=0)\n",
    "\n",
    "    if tensor.dim() == 2:  # single image H x W\n",
    "        tensor = tensor.view(1, tensor.size(0), tensor.size(1))\n",
    "    if tensor.dim() == 3:  # single image\n",
    "        if tensor.size(0) == 1:  # if single-channel, convert to 3-channel\n",
    "            tensor = torch.cat((tensor, tensor, tensor), 0)\n",
    "        tensor = tensor.view(1, tensor.size(0), tensor.size(1), tensor.size(2))\n",
    "\n",
    "    if tensor.dim() == 4 and tensor.size(1) == 1:  # single-channel images\n",
    "        tensor = torch.cat((tensor, tensor, tensor), 1)\n",
    "\n",
    "    if normalize is True:\n",
    "        tensor = tensor.clone()  # avoid modifying tensor in-place\n",
    "        if range is not None:\n",
    "            assert isinstance(range, tuple), \\\n",
    "                \"range has to be a tuple (min, max) if specified. min and max are numbers\"\n",
    "\n",
    "        def norm_ip(img, min, max):\n",
    "            img.clamp_(min=min, max=max)\n",
    "            img.add_(-min).div_(max - min + 1e-5)\n",
    "\n",
    "        def norm_range(t, range):\n",
    "            if range is not None:\n",
    "                norm_ip(t, range[0], range[1])\n",
    "            else:\n",
    "                norm_ip(t, float(t.min()), float(t.max()))\n",
    "\n",
    "        if scale_each is True:\n",
    "            for t in tensor:  # loop over mini-batch dimension\n",
    "                norm_range(t, range)\n",
    "        else:\n",
    "            norm_range(tensor, range)\n",
    "\n",
    "    if tensor.size(0) == 1:\n",
    "        return tensor.squeeze()\n",
    "\n",
    "    # make the mini-batch of images into a grid\n",
    "    nmaps = tensor.size(0)\n",
    "    xmaps = min(nrow, nmaps)\n",
    "    ymaps = int(math.ceil(float(nmaps) / xmaps))\n",
    "    height, width = int(tensor.size(2) + padding), int(tensor.size(3) + padding)\n",
    "    grid = tensor.new(3, height * ymaps + padding, width * xmaps + padding).fill_(pad_value)\n",
    "    k = 0\n",
    "    for y in irange(ymaps):\n",
    "        for x in irange(xmaps):\n",
    "            if k >= nmaps:\n",
    "                break\n",
    "            grid.narrow(1, y * height + padding, height - padding)\\\n",
    "                .narrow(2, x * width + padding, width - padding)\\\n",
    "                .copy_(tensor[k])\n",
    "            k = k + 1\n",
    "    return grid\n",
    "\n",
    "\n",
    "def save_image(tensor, filename, nrow=8, padding=2,\n",
    "               normalize=False, range=None, scale_each=False, pad_value=0):\n",
    "    \"\"\"Save a given Tensor into an image file.\n",
    "    Args:\n",
    "        tensor (Tensor or list): Image to be saved. If given a mini-batch tensor,\n",
    "            saves the tensor as a grid of images by calling ``make_grid``.\n",
    "        **kwargs: Other arguments are documented in ``make_grid``.\n",
    "    \"\"\"\n",
    "    from PIL import Image\n",
    "    grid = make_grid(tensor, nrow=nrow, padding=padding, pad_value=pad_value,\n",
    "                     normalize=normalize, range=range, scale_each=scale_each)\n",
    "    ndarr = grid.mul(255).clamp(0, 255).byte().permute(1, 2, 0).cpu().numpy()\n",
    "    im = Image.fromarray(ndarr)\n",
    "    im.save(filename)\n"
   ],
   "metadata": {
    "collapsed": false,
    "pycharm": {
     "name": "#%%\n",
     "is_executing": false
    }
   }
  },
  {
   "cell_type": "code",
   "execution_count": 5,
   "outputs": [
    {
     "name": "stdout",
     "text": [
      "Files already downloaded and verified\n",
      "Files already downloaded and verified\n"
     ],
     "output_type": "stream"
    }
   ],
   "source": [
    "image_transform = transforms.Compose([\n",
    "    transforms.ToTensor(),\n",
    "    transforms.Normalize((0.5,0.5,0.5),(0.24703223,  0.24348513 , 0.26158784))\n",
    "])\n",
    "\n",
    "train_set = datasets.CIFAR10(root='./data',train=True,download=True,transform=image_transform)\n",
    "\n",
    "train_loader = torch.utils.data.DataLoader(train_set, batch_size=16,\n",
    "                                          shuffle=True, num_workers=2)\n",
    "\n",
    "test_set = datasets.CIFAR10(root='./data',train=False,download=True,transform=image_transform)\n",
    "\n",
    "test_loader = torch.utils.data.DataLoader(test_set,batch_size=16,\n",
    "                                          shuffle=True,num_workers=2)\n"
   ],
   "metadata": {
    "collapsed": false,
    "pycharm": {
     "name": "#%% prepare dataset\n",
     "is_executing": false
    }
   }
  },
  {
   "cell_type": "code",
   "execution_count": 6,
   "outputs": [],
   "source": [
    "HEIGHT = 32\n",
    "WIDTH = 32\n",
    "EPOCH = 10\n",
    "LOG_INTERVAL = 500\n"
   ],
   "metadata": {
    "collapsed": false,
    "pycharm": {
     "name": "#%% parameters\n",
     "is_executing": false
    }
   }
  },
  {
   "cell_type": "code",
   "execution_count": 7,
   "outputs": [],
   "source": [
    "class Codex(nn.Module):\n",
    "    def __init__(self,size,mode):\n",
    "        super(Codex,self).__init__()\n",
    "        self.size = size\n",
    "        self.mode = mode\n",
    "        self.encode_decode = nn.functional.interpolate\n",
    "        \n",
    "    def forward(self,x):\n",
    "        x = self.encode_decode(x,size=self.size,mode=self.mode)\n",
    "        return x\n",
    "\n",
    "class EndToEnd(nn.Module):\n",
    "    def __init__(self,channel,height,mode):\n",
    "        super(EndToEnd,self).__init__()\n",
    "        \n",
    "        self.conv1 = nn.Conv2d(channel,out_channels=64,kernel_size=3,stride=1,padding=1)\n",
    "        self.conv2 = nn.Conv2d(64,64,kernel_size=3,stride=2,padding=0)\n",
    "        self.bn1 = nn.BatchNorm2d(64,affine=False)\n",
    "        self.conv3 = nn.Conv2d(64, channel, kernel_size=3, stride=1, padding=1)\n",
    "        \n",
    "        self.interpolate = Codex(size=height,mode=mode)\n",
    "        self.deconv1 = nn.Conv2d(channel,out_channels=64,kernel_size=3,stride=1,padding=1)\n",
    "        self.bn2 = nn.BatchNorm2d(64,affine=False)\n",
    "        \n",
    "        self.deconv_n = nn.Conv2d(in_channels=64,out_channels=64,kernel_size=3,stride=1,padding=1)\n",
    "        self.bn_n = nn.BatchNorm2d(64,affine=False)\n",
    "        \n",
    "        \n",
    "        self.deconv3 = nn.ConvTranspose2d(64,channel,kernel_size=3,stride=1,padding=1)\n",
    "        \n",
    "        self.relu = nn.ReLU()\n",
    "    \n",
    "    def reparameterize(self, mu, logvar):\n",
    "        pass\n",
    "    \n",
    "    def forward_comcnn(self,x):\n",
    "        out = self.relu(self.conv1(x))\n",
    "        out = self.relu(self.bn1(self.conv2(out)))\n",
    "        return self.conv3(out)\n",
    "    \n",
    "    def forward_reccnn(self,z):\n",
    "        decoded_image = self.interpolate(z)\n",
    "        out = self.relu(self.deconv1(decoded_image))\n",
    "        for _ in range(18):\n",
    "            out = self.relu(self.bn_n(self.deconv_n(out)))\n",
    "        out = self.deconv3(out)\n",
    "        final = out + decoded_image\n",
    "        return final,out,decoded_image\n",
    "    \n",
    "    def forward(self, x):\n",
    "        com_img = self.forward_comcnn(x)\n",
    "        final,out,upscaled = self.forward_reccnn(com_img)\n",
    "        return final,out,upscaled,com_img,x"
   ],
   "metadata": {
    "collapsed": false,
    "pycharm": {
     "name": "#%% Define Network\n",
     "is_executing": false
    }
   }
  },
  {
   "cell_type": "code",
   "execution_count": 8,
   "outputs": [
    {
     "name": "stdout",
     "text": [
      "Cuda is avaliable,using cuda instead of cpu\n"
     ],
     "output_type": "stream"
    }
   ],
   "source": [
    "CUDA = torch.cuda.is_available()\n",
    "\n",
    "if CUDA:\n",
    "    print(\"Cuda is avaliable,using cuda instead of cpu\")\n",
    "    model = EndToEnd(3,32,'bilinear').cuda()\n",
    "else:\n",
    "    print(\"Cuda is not available, using cpu\")\n",
    "    model = EndToEnd(3,32,'bilinear')\n",
    "    \n",
    "optimizer = optim.Adam(model.parameters(),lr=1e-3)"
   ],
   "metadata": {
    "collapsed": false,
    "pycharm": {
     "name": "#%% create a model\n",
     "is_executing": false
    }
   }
  },
  {
   "cell_type": "code",
   "execution_count": 9,
   "outputs": [],
   "source": [
    "def loss_function(final_image,residual_image,upscaled_image,com_image,original_image):\n",
    "    com_loss = nn.MSELoss(size_average=False)(original_image,final_image)\n",
    "    rec_loss = nn.MSELoss(size_average=False)(residual_image,original_image-upscaled_image)\n",
    "    return com_loss+rec_loss\n"
   ],
   "metadata": {
    "collapsed": false,
    "pycharm": {
     "name": "#%% create loss function\n",
     "is_executing": false
    }
   }
  },
  {
   "cell_type": "code",
   "execution_count": 10,
   "outputs": [],
   "source": [
    "def train(epoch):\n",
    "    model.train()\n",
    "    train_loss  =0\n",
    "    for batch_idx,(data,_) in enumerate(train_loader):\n",
    "        data = Variable(data)\n",
    "        optimizer.zero_grad()\n",
    "        final, residual_img, upscaled_image, com_img, orig_im = model(data.cuda())\n",
    "        loss = loss_function(final, residual_img, upscaled_image, com_img, orig_im)\n",
    "        loss.backward()\n",
    "        train_loss += loss.item()\n",
    "        optimizer.step()\n",
    "        if batch_idx % LOG_INTERVAL == 0:\n",
    "            print('Train Epoch: {} [{}/{} ({:.0f}%)]\\tLoss: {:.6f}'.format(\n",
    "                epoch, batch_idx * len(data), len(train_loader.dataset),\n",
    "                100. * batch_idx / len(train_loader),\n",
    "                loss.item() / len(data)))\n",
    "\n",
    "    print('====> Epoch: {} Average loss: {:.4f}'.format(\n",
    "          epoch, train_loss / len(train_loader.dataset)))\n",
    "    \n",
    "    "
   ],
   "metadata": {
    "collapsed": false,
    "pycharm": {
     "name": "#%% def training function\n",
     "is_executing": false
    }
   }
  },
  {
   "cell_type": "code",
   "execution_count": 11,
   "outputs": [],
   "source": [
    "def test(epoch):\n",
    "  \n",
    "  model.eval()\n",
    "  test_loss = 0\n",
    "  for i, (data, _) in enumerate(test_loader):\n",
    "        data = Variable(data, volatile=True)\n",
    "        final, residual_img, upscaled_image, com_img, orig_im = model(data.cuda())\n",
    "        test_loss += loss_function(final, residual_img, upscaled_image, com_img, orig_im).item()\n",
    "        if epoch == EPOCH and i == 0:\n",
    "#             save_image(final.data[0],'reconstruction_final',nrow=8)\n",
    "#             save_image(com_img.data[0],'com_img',nrow=8)\n",
    "            n = min(data.size(0), 6)\n",
    "            print(\"saving the image \"+str(n))\n",
    "            comparison = torch.cat([data[:n],\n",
    "              final[:n].cpu()])\n",
    "            comparison = comparison.cpu()\n",
    "#             print(comparison.data)\n",
    "            save_image(com_img[:n].data,\n",
    "                       'compressed_' + str(epoch) +'.png', nrow=n)\n",
    "            save_image(comparison.data,\n",
    "                       'reconstruction_' + str(epoch) +'.png', nrow=n)\n",
    "\n",
    "  test_loss /= len(test_loader.dataset)\n",
    "  print('====> Test set loss: {:.4f}'.format(test_loss))"
   ],
   "metadata": {
    "collapsed": false,
    "pycharm": {
     "name": "#%% deff test function\n",
     "is_executing": false
    }
   }
  },
  {
   "cell_type": "code",
   "execution_count": 52,
   "outputs": [
    {
     "name": "stdout",
     "text": [
      "Train Epoch: 1 [0/50000 (0%)]\tLoss: 521.416870\n",
      "Train Epoch: 1 [8000/50000 (16%)]\tLoss: 545.556519\n",
      "Train Epoch: 1 [16000/50000 (32%)]\tLoss: 596.161621\n",
      "Train Epoch: 1 [24000/50000 (48%)]\tLoss: 685.083496\n",
      "Train Epoch: 1 [32000/50000 (64%)]\tLoss: 610.646301\n",
      "Train Epoch: 1 [40000/50000 (80%)]\tLoss: 565.187012\n",
      "Train Epoch: 1 [48000/50000 (96%)]\tLoss: 614.079468\n",
      "====> Epoch: 1 Average loss: 629.0249\n",
      "====> Test set loss: 562.1685\nDONE---> total time  176.8578429222107\n",
      "Train Epoch: 2 [0/50000 (0%)]\tLoss: 577.578857\n",
      "Train Epoch: 2 [8000/50000 (16%)]\tLoss: 728.694214\n",
      "Train Epoch: 2 [16000/50000 (32%)]\tLoss: 634.941406\n",
      "Train Epoch: 2 [24000/50000 (48%)]\tLoss: 529.650635\n",
      "Train Epoch: 2 [32000/50000 (64%)]\tLoss: 482.004578\n",
      "Train Epoch: 2 [40000/50000 (80%)]\tLoss: 519.453003\n",
      "Train Epoch: 2 [48000/50000 (96%)]\tLoss: 415.552307\n",
      "====> Epoch: 2 Average loss: 564.1851\n",
      "====> Test set loss: 555.5524\nDONE---> total time  176.28355932235718\n",
      "Train Epoch: 3 [0/50000 (0%)]\tLoss: 481.267273\n",
      "Train Epoch: 3 [8000/50000 (16%)]\tLoss: 483.958008\n",
      "Train Epoch: 3 [16000/50000 (32%)]\tLoss: 263.203156\n",
      "Train Epoch: 3 [24000/50000 (48%)]\tLoss: 447.543884\n",
      "Train Epoch: 3 [32000/50000 (64%)]\tLoss: 238.876007\n",
      "Train Epoch: 3 [40000/50000 (80%)]\tLoss: 240.723969\n",
      "Train Epoch: 3 [48000/50000 (96%)]\tLoss: 275.360779\n",
      "====> Epoch: 3 Average loss: 328.2454\n",
      "====> Test set loss: 651.9151\nDONE---> total time  176.36132955551147\n",
      "Train Epoch: 4 [0/50000 (0%)]\tLoss: 213.867462\n",
      "Train Epoch: 4 [8000/50000 (16%)]\tLoss: 358.688477\n",
      "Train Epoch: 4 [16000/50000 (32%)]\tLoss: 198.311310\n",
      "Train Epoch: 4 [24000/50000 (48%)]\tLoss: 233.213516\n",
      "Train Epoch: 4 [32000/50000 (64%)]\tLoss: 283.876343\n",
      "Train Epoch: 4 [40000/50000 (80%)]\tLoss: 192.619263\n",
      "Train Epoch: 4 [48000/50000 (96%)]\tLoss: 278.185974\n",
      "====> Epoch: 4 Average loss: 238.0292\n",
      "====> Test set loss: 612.5775\nDONE---> total time  176.5442967414856\n",
      "Train Epoch: 5 [0/50000 (0%)]\tLoss: 182.500977\n",
      "Train Epoch: 5 [8000/50000 (16%)]\tLoss: 241.023285\n",
      "Train Epoch: 5 [16000/50000 (32%)]\tLoss: 227.986359\n",
      "Train Epoch: 5 [24000/50000 (48%)]\tLoss: 281.162109\n",
      "Train Epoch: 5 [32000/50000 (64%)]\tLoss: 244.346130\n",
      "Train Epoch: 5 [40000/50000 (80%)]\tLoss: 174.097046\n",
      "Train Epoch: 5 [48000/50000 (96%)]\tLoss: 255.570801\n",
      "====> Epoch: 5 Average loss: 216.9310\n",
      "====> Test set loss: 616.6415\nDONE---> total time  175.5963749885559\n",
      "Train Epoch: 6 [0/50000 (0%)]\tLoss: 152.022400\n",
      "Train Epoch: 6 [8000/50000 (16%)]\tLoss: 160.516113\n",
      "Train Epoch: 6 [16000/50000 (32%)]\tLoss: 169.325836\n",
      "Train Epoch: 6 [24000/50000 (48%)]\tLoss: 199.598785\n",
      "Train Epoch: 6 [32000/50000 (64%)]\tLoss: 152.009521\n",
      "Train Epoch: 6 [40000/50000 (80%)]\tLoss: 142.993881\n",
      "Train Epoch: 6 [48000/50000 (96%)]\tLoss: 215.669281\n",
      "====> Epoch: 6 Average loss: 205.5701\n",
      "====> Test set loss: 653.0567\nDONE---> total time  179.42620420455933\n",
      "Train Epoch: 7 [0/50000 (0%)]\tLoss: 248.392212\n",
      "Train Epoch: 7 [8000/50000 (16%)]\tLoss: 180.190491\n",
      "Train Epoch: 7 [16000/50000 (32%)]\tLoss: 176.018555\n",
      "Train Epoch: 7 [24000/50000 (48%)]\tLoss: 244.252563\n",
      "Train Epoch: 7 [32000/50000 (64%)]\tLoss: 170.816589\n",
      "Train Epoch: 7 [40000/50000 (80%)]\tLoss: 155.680634\n",
      "Train Epoch: 7 [48000/50000 (96%)]\tLoss: 238.132965\n",
      "====> Epoch: 7 Average loss: 199.2257\n",
      "====> Test set loss: 673.7499\nDONE---> total time  182.05132675170898\n",
      "Train Epoch: 8 [0/50000 (0%)]\tLoss: 228.138214\n",
      "Train Epoch: 8 [8000/50000 (16%)]\tLoss: 193.958069\n",
      "Train Epoch: 8 [16000/50000 (32%)]\tLoss: 165.636688\n",
      "Train Epoch: 8 [24000/50000 (48%)]\tLoss: 234.410339\n",
      "Train Epoch: 8 [32000/50000 (64%)]\tLoss: 206.477112\n",
      "Train Epoch: 8 [40000/50000 (80%)]\tLoss: 155.882675\n",
      "Train Epoch: 8 [48000/50000 (96%)]\tLoss: 168.035034\n",
      "====> Epoch: 8 Average loss: 199.4300\n",
      "====> Test set loss: 662.4085\nDONE---> total time  175.74607920646667\n",
      "Train Epoch: 9 [0/50000 (0%)]\tLoss: 160.884491\n",
      "Train Epoch: 9 [8000/50000 (16%)]\tLoss: 146.099701\n",
      "Train Epoch: 9 [16000/50000 (32%)]\tLoss: 188.762405\n",
      "Train Epoch: 9 [24000/50000 (48%)]\tLoss: 189.305817\n",
      "Train Epoch: 9 [32000/50000 (64%)]\tLoss: 161.869568\n",
      "Train Epoch: 9 [40000/50000 (80%)]\tLoss: 149.905991\n",
      "Train Epoch: 9 [48000/50000 (96%)]\tLoss: 117.038269\n",
      "====> Epoch: 9 Average loss: 179.5272\n",
      "====> Test set loss: 617.9073\nDONE---> total time  176.7314534187317\n",
      "Train Epoch: 10 [0/50000 (0%)]\tLoss: 165.785370\n",
      "Train Epoch: 10 [8000/50000 (16%)]\tLoss: 193.169922\n",
      "Train Epoch: 10 [16000/50000 (32%)]\tLoss: 163.093506\n",
      "Train Epoch: 10 [24000/50000 (48%)]\tLoss: 206.131073\n",
      "Train Epoch: 10 [32000/50000 (64%)]\tLoss: 247.006989\n",
      "Train Epoch: 10 [40000/50000 (80%)]\tLoss: 166.020599\n",
      "Train Epoch: 10 [48000/50000 (96%)]\tLoss: 202.326538\n",
      "====> Epoch: 10 Average loss: 179.9236\n",
      "saving the image 6\n",
      "====> Test set loss: 663.7216\nDONE---> total time  178.9847321510315\n",
      "Train Epoch: 11 [0/50000 (0%)]\tLoss: 254.327454\n",
      "Train Epoch: 11 [8000/50000 (16%)]\tLoss: 185.172852\n",
      "Train Epoch: 11 [16000/50000 (32%)]\tLoss: 147.174866\n",
      "Train Epoch: 11 [24000/50000 (48%)]\tLoss: 195.037994\n",
      "Train Epoch: 11 [32000/50000 (64%)]\tLoss: 150.392822\n",
      "Train Epoch: 11 [40000/50000 (80%)]\tLoss: 187.980621\n",
      "Train Epoch: 11 [48000/50000 (96%)]\tLoss: 170.544891\n",
      "====> Epoch: 11 Average loss: 172.0739\n",
      "====> Test set loss: 660.0120\nDONE---> total time  175.4170753955841\n",
      "Train Epoch: 12 [0/50000 (0%)]\tLoss: 133.083069\n",
      "Train Epoch: 12 [8000/50000 (16%)]\tLoss: 194.528030\n",
      "Train Epoch: 12 [16000/50000 (32%)]\tLoss: 204.993713\n",
      "Train Epoch: 12 [24000/50000 (48%)]\tLoss: 148.733337\n",
      "Train Epoch: 12 [32000/50000 (64%)]\tLoss: 166.820251\n",
      "Train Epoch: 12 [40000/50000 (80%)]\tLoss: 157.417526\n",
      "Train Epoch: 12 [48000/50000 (96%)]\tLoss: 116.891769\n",
      "====> Epoch: 12 Average loss: 170.8299\n",
      "====> Test set loss: 617.5516\nDONE---> total time  172.4139335155487\n",
      "Train Epoch: 13 [0/50000 (0%)]\tLoss: 164.648865\n",
      "Train Epoch: 13 [8000/50000 (16%)]\tLoss: 177.836288\n",
      "Train Epoch: 13 [16000/50000 (32%)]\tLoss: 201.769745\n",
      "Train Epoch: 13 [24000/50000 (48%)]\tLoss: 130.183136\n",
      "Train Epoch: 13 [32000/50000 (64%)]\tLoss: 147.601837\n",
      "Train Epoch: 13 [40000/50000 (80%)]\tLoss: 163.954208\n",
      "Train Epoch: 13 [48000/50000 (96%)]\tLoss: 214.085220\n",
      "====> Epoch: 13 Average loss: 176.7780\n",
      "====> Test set loss: 623.3955\nDONE---> total time  172.9624195098877\n",
      "Train Epoch: 14 [0/50000 (0%)]\tLoss: 92.603317\n",
      "Train Epoch: 14 [8000/50000 (16%)]\tLoss: 127.178474\n",
      "Train Epoch: 14 [16000/50000 (32%)]\tLoss: 252.366821\n",
      "Train Epoch: 14 [24000/50000 (48%)]\tLoss: 230.000610\n",
      "Train Epoch: 14 [32000/50000 (64%)]\tLoss: 168.688721\n",
      "Train Epoch: 14 [40000/50000 (80%)]\tLoss: 139.604248\n",
      "Train Epoch: 14 [48000/50000 (96%)]\tLoss: 167.367935\n",
      "====> Epoch: 14 Average loss: 162.6983\n",
      "====> Test set loss: 676.8577\nDONE---> total time  171.73076748847961\n",
      "Train Epoch: 15 [0/50000 (0%)]\tLoss: 196.060059\n",
      "Train Epoch: 15 [8000/50000 (16%)]\tLoss: 160.068512\n",
      "Train Epoch: 15 [16000/50000 (32%)]\tLoss: 114.420975\n",
      "Train Epoch: 15 [24000/50000 (48%)]\tLoss: 160.326965\n",
      "Train Epoch: 15 [32000/50000 (64%)]\tLoss: 136.237610\n",
      "Train Epoch: 15 [40000/50000 (80%)]\tLoss: 149.659790\n",
      "Train Epoch: 15 [48000/50000 (96%)]\tLoss: 145.777863\n",
      "====> Epoch: 15 Average loss: 159.2413\n",
      "====> Test set loss: 632.2012\nDONE---> total time  173.48698139190674\n",
      "Train Epoch: 16 [0/50000 (0%)]\tLoss: 149.401016\n",
      "Train Epoch: 16 [8000/50000 (16%)]\tLoss: 150.653015\n",
      "Train Epoch: 16 [16000/50000 (32%)]\tLoss: 136.906921\n",
      "Train Epoch: 16 [24000/50000 (48%)]\tLoss: 102.014084\n",
      "Train Epoch: 16 [32000/50000 (64%)]\tLoss: 133.865967\n",
      "Train Epoch: 16 [40000/50000 (80%)]\tLoss: 107.583405\n",
      "Train Epoch: 16 [48000/50000 (96%)]\tLoss: 147.035400\n",
      "====> Epoch: 16 Average loss: 155.8769\n",
      "====> Test set loss: 646.3364\nDONE---> total time  174.41573405265808\n",
      "Train Epoch: 17 [0/50000 (0%)]\tLoss: 142.756241\n",
      "Train Epoch: 17 [8000/50000 (16%)]\tLoss: 143.628937\n",
      "Train Epoch: 17 [16000/50000 (32%)]\tLoss: 194.566040\n",
      "Train Epoch: 17 [24000/50000 (48%)]\tLoss: 129.191284\n",
      "Train Epoch: 17 [32000/50000 (64%)]\tLoss: 143.958252\n",
      "Train Epoch: 17 [40000/50000 (80%)]\tLoss: 176.471252\n",
      "Train Epoch: 17 [48000/50000 (96%)]\tLoss: 167.738892\n",
      "====> Epoch: 17 Average loss: 156.2202\n",
      "====> Test set loss: 643.2394\nDONE---> total time  174.44387674331665\n",
      "Train Epoch: 18 [0/50000 (0%)]\tLoss: 174.667969\n",
      "Train Epoch: 18 [8000/50000 (16%)]\tLoss: 198.690765\n",
      "Train Epoch: 18 [16000/50000 (32%)]\tLoss: 141.184128\n",
      "Train Epoch: 18 [24000/50000 (48%)]\tLoss: 120.915588\n",
      "Train Epoch: 18 [32000/50000 (64%)]\tLoss: 146.079529\n",
      "Train Epoch: 18 [40000/50000 (80%)]\tLoss: 160.786407\n",
      "Train Epoch: 18 [48000/50000 (96%)]\tLoss: 224.730484\n",
      "====> Epoch: 18 Average loss: 160.8293\n",
      "====> Test set loss: 652.7813\nDONE---> total time  172.18948698043823\n",
      "Train Epoch: 19 [0/50000 (0%)]\tLoss: 140.701385\n",
      "Train Epoch: 19 [8000/50000 (16%)]\tLoss: 142.543533\n",
      "Train Epoch: 19 [16000/50000 (32%)]\tLoss: 152.399521\n",
      "Train Epoch: 19 [24000/50000 (48%)]\tLoss: 147.836960\n",
      "Train Epoch: 19 [32000/50000 (64%)]\tLoss: 141.403809\n",
      "Train Epoch: 19 [40000/50000 (80%)]\tLoss: 110.558578\n",
      "Train Epoch: 19 [48000/50000 (96%)]\tLoss: 139.822266\n",
      "====> Epoch: 19 Average loss: 152.9625\n",
      "====> Test set loss: 638.0865\nDONE---> total time  172.27229762077332\n",
      "Train Epoch: 20 [0/50000 (0%)]\tLoss: 172.609680\n",
      "Train Epoch: 20 [8000/50000 (16%)]\tLoss: 173.552887\n",
      "Train Epoch: 20 [16000/50000 (32%)]\tLoss: 131.475891\n",
      "Train Epoch: 20 [24000/50000 (48%)]\tLoss: 223.154648\n",
      "Train Epoch: 20 [32000/50000 (64%)]\tLoss: 146.491425\n",
      "Train Epoch: 20 [40000/50000 (80%)]\tLoss: 210.438370\n",
      "Train Epoch: 20 [48000/50000 (96%)]\tLoss: 132.250946\n",
      "====> Epoch: 20 Average loss: 150.5183\n",
      "====> Test set loss: 673.0693\nDONE---> total time  171.45246720314026\n",
      "Train Epoch: 21 [0/50000 (0%)]\tLoss: 154.500336\n",
      "Train Epoch: 21 [8000/50000 (16%)]\tLoss: 160.981750\n",
      "Train Epoch: 21 [16000/50000 (32%)]\tLoss: 159.283310\n",
      "Train Epoch: 21 [24000/50000 (48%)]\tLoss: 132.068665\n",
      "Train Epoch: 21 [32000/50000 (64%)]\tLoss: 128.177307\n",
      "Train Epoch: 21 [40000/50000 (80%)]\tLoss: 154.456177\n",
      "Train Epoch: 21 [48000/50000 (96%)]\tLoss: 125.485321\n",
      "====> Epoch: 21 Average loss: 148.5915\n",
      "====> Test set loss: 670.4310\nDONE---> total time  172.83082962036133\n",
      "Train Epoch: 22 [0/50000 (0%)]\tLoss: 147.190903\n",
      "Train Epoch: 22 [8000/50000 (16%)]\tLoss: 177.221573\n",
      "Train Epoch: 22 [16000/50000 (32%)]\tLoss: 121.938904\n",
      "Train Epoch: 22 [24000/50000 (48%)]\tLoss: 126.996140\n",
      "Train Epoch: 22 [32000/50000 (64%)]\tLoss: 135.844543\n",
      "Train Epoch: 22 [40000/50000 (80%)]\tLoss: 148.766937\n",
      "Train Epoch: 22 [48000/50000 (96%)]\tLoss: 152.478516\n",
      "====> Epoch: 22 Average loss: 145.5639\n",
      "====> Test set loss: 646.3126\nDONE---> total time  172.64626502990723\n",
      "Train Epoch: 23 [0/50000 (0%)]\tLoss: 110.364273\n",
      "Train Epoch: 23 [8000/50000 (16%)]\tLoss: 201.369415\n",
      "Train Epoch: 23 [16000/50000 (32%)]\tLoss: 181.852997\n",
      "Train Epoch: 23 [24000/50000 (48%)]\tLoss: 140.440704\n",
      "Train Epoch: 23 [32000/50000 (64%)]\tLoss: 150.047638\n",
      "Train Epoch: 23 [40000/50000 (80%)]\tLoss: 140.241302\n",
      "Train Epoch: 23 [48000/50000 (96%)]\tLoss: 158.900009\n",
      "====> Epoch: 23 Average loss: 146.2929\n",
      "====> Test set loss: 680.2111\nDONE---> total time  172.06496620178223\n",
      "Train Epoch: 24 [0/50000 (0%)]\tLoss: 132.683701\n",
      "Train Epoch: 24 [8000/50000 (16%)]\tLoss: 106.498245\n",
      "Train Epoch: 24 [16000/50000 (32%)]\tLoss: 106.687927\n",
      "Train Epoch: 24 [24000/50000 (48%)]\tLoss: 138.126068\n",
      "Train Epoch: 24 [32000/50000 (64%)]\tLoss: 181.935181\n",
      "Train Epoch: 24 [40000/50000 (80%)]\tLoss: 112.437439\n",
      "Train Epoch: 24 [48000/50000 (96%)]\tLoss: 158.622070\n",
      "====> Epoch: 24 Average loss: 145.4910\n",
      "====> Test set loss: 655.5969\nDONE---> total time  172.50966262817383\n",
      "Train Epoch: 25 [0/50000 (0%)]\tLoss: 170.530273\n",
      "Train Epoch: 25 [8000/50000 (16%)]\tLoss: 143.239288\n",
      "Train Epoch: 25 [16000/50000 (32%)]\tLoss: 119.234047\n",
      "Train Epoch: 25 [24000/50000 (48%)]\tLoss: 113.731094\n",
      "Train Epoch: 25 [32000/50000 (64%)]\tLoss: 140.004486\n",
      "Train Epoch: 25 [40000/50000 (80%)]\tLoss: 133.472778\n",
      "Train Epoch: 25 [48000/50000 (96%)]\tLoss: 117.887436\n",
      "====> Epoch: 25 Average loss: 144.7981\n",
      "====> Test set loss: 691.6640\nDONE---> total time  172.61456656455994\n"
     ],
     "output_type": "stream"
    },
    {
     "name": "stderr",
     "text": [
      "d:\\pycharmprojects\\end-to-end-compression-framework\\venv\\lib\\site-packages\\ipykernel_launcher.py:6: UserWarning: volatile was removed and now has no effect. Use `with torch.no_grad():` instead.\n  \n"
     ],
     "output_type": "stream"
    }
   ],
   "source": [
    "import time\n",
    "start = time.time()\n",
    "for epoch in range(1,25+1):\n",
    "    temp = time.time()\n",
    "    train(epoch)\n",
    "    test(epoch)\n",
    "    if epoch == EPOCH:\n",
    "        pass\n",
    "    temp1 = time.time()\n",
    "    print(\"DONE---> total time \",temp1-temp)\n",
    "\n",
    "end = time.time()\n",
    "torch.save(model.state_dict(),'./net.pth')\n",
    " "
   ],
   "metadata": {
    "collapsed": false,
    "pycharm": {
     "name": "#%% Run the code\n",
     "is_executing": false
    }
   }
  },
  {
   "cell_type": "code",
   "execution_count": 53,
   "outputs": [
    {
     "name": "stdout",
     "text": [
      "Total Time Execution  4368.165201663971\n"
     ],
     "output_type": "stream"
    }
   ],
   "source": [
    "print(\"Total Time Execution \",end-start)"
   ],
   "metadata": {
    "collapsed": false,
    "pycharm": {
     "name": "#%%\n",
     "is_executing": false
    }
   }
  },
  {
   "cell_type": "code",
   "execution_count": 13,
   "outputs": [
    {
     "name": "stderr",
     "text": [
      "d:\\pycharmprojects\\end-to-end-compression-framework\\venv\\lib\\site-packages\\ipykernel_launcher.py:8: UserWarning: volatile was removed and now has no effect. Use `with torch.no_grad():` instead.\n  \n",
      "d:\\pycharmprojects\\end-to-end-compression-framework\\venv\\lib\\site-packages\\torch\\nn\\functional.py:2479: UserWarning: Default upsampling behavior when mode=bilinear is changed to align_corners=False since 0.4.0. Please specify align_corners=True if the old behavior is desired. See the documentation of nn.Upsample for details.\n  \"See the documentation of nn.Upsample for details.\".format(mode))\nd:\\pycharmprojects\\end-to-end-compression-framework\\venv\\lib\\site-packages\\torch\\nn\\_reduction.py:43: UserWarning: size_average and reduce args will be deprecated, please use reduction='sum' instead.\n  warnings.warn(warning.format(ret))\n"
     ],
     "output_type": "stream"
    },
    {
     "name": "stdout",
     "text": [
      "saving the image 6\n",
      "====> Test set loss: 691.6640\n"
     ],
     "output_type": "stream"
    }
   ],
   "source": [
    "\n",
    "model.load_state_dict(torch.load('net.pth'))\n",
    "\n",
    "def save_images():\n",
    "  epoch = EPOCH\n",
    "  model.eval()\n",
    "  test_loss = 0\n",
    "  for i, (data, _) in enumerate(test_loader):\n",
    "        data = Variable(data, volatile=True)\n",
    "        final, residual_img, upscaled_image, com_img, orig_im = model(data.cuda())\n",
    "        test_loss += loss_function(final, residual_img, upscaled_image, com_img, orig_im).item()\n",
    "        if i == 3:\n",
    "#             save_image(final.data[0],'reconstruction_final',nrow=8)\n",
    "#             save_image(com_img.data[0],'com_img',nrow=8)\n",
    "            n = min(data.size(0), 6)\n",
    "            print(\"saving the image \"+str(n))\n",
    "            comparison = torch.cat([data[:n],\n",
    "              final[:n].cpu()])\n",
    "            comparison = comparison.cpu()\n",
    "#             print(comparison.data)\n",
    "            save_image(com_img[:1].data,\n",
    "                         'compressed_' + str(i) +'.png', nrow=n)\n",
    "            save_image(final[:1].data,\n",
    "                        'final_' + str(epoch) +'.png', nrow=n)\n",
    "            save_image(orig_im[:1].data,\n",
    "                        'original_' + str(epoch) +'.png', nrow=n)\n",
    "\n",
    "\n",
    "  test_loss /= len(test_loader.dataset)\n",
    "  print('====> Test set loss: {:.4f}'.format(test_loss))\n",
    "\n",
    "save_images()"
   ],
   "metadata": {
    "collapsed": false,
    "pycharm": {
     "name": "#%%\n",
     "is_executing": false
    }
   }
  },
  {
   "cell_type": "code",
   "execution_count": 15,
   "outputs": [
    {
     "name": "stdout",
     "text": [
      "32.90015044758086\n"
     ],
     "output_type": "stream"
    }
   ],
   "source": [
    "import numpy \n",
    "import math\n",
    "import cv2\n",
    "original = cv2.imread(\"original_10.png\")\n",
    "contrast = cv2.imread(\"final_10.png\",1)\n",
    "def psnr(img1, img2):\n",
    "    mse = numpy.mean( (img1 - img2) ** 2 )\n",
    "    if mse == 0:\n",
    "        return 100\n",
    "    PIXEL_MAX = 255.0\n",
    "    return 20 * math.log10(PIXEL_MAX / math.sqrt(mse))\n",
    "\n",
    "d=psnr(original,contrast)\n",
    "print(d)"
   ],
   "metadata": {
    "collapsed": false,
    "pycharm": {
     "name": "#%%\n",
     "is_executing": false
    }
   }
  }
 ],
 "metadata": {
  "language_info": {
   "codemirror_mode": {
    "name": "ipython",
    "version": 2
   },
   "file_extension": ".py",
   "mimetype": "text/x-python",
   "name": "python",
   "nbconvert_exporter": "python",
   "pygments_lexer": "ipython2",
   "version": "2.7.6"
  },
  "kernelspec": {
   "name": "python3",
   "language": "python",
   "display_name": "Python 3"
  },
  "pycharm": {
   "stem_cell": {
    "cell_type": "raw",
    "source": [],
    "metadata": {
     "collapsed": false
    }
   }
  }
 },
 "nbformat": 4,
 "nbformat_minor": 0
}