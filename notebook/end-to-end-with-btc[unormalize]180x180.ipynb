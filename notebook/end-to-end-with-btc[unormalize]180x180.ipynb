{
 "cells": [
  {
   "cell_type": "code",
   "execution_count": 1,
   "metadata": {
    "collapsed": true,
    "pycharm": {
     "name": "#%% importing library\n",
     "is_executing": false
    }
   },
   "outputs": [
    {
     "name": "stdout",
     "text": [
      "Importing Library...\n",
      "Importing Library Success\n"
     ],
     "output_type": "stream"
    }
   ],
   "source": [
    "print(\"Importing Library...\")\n",
    "import torch\n",
    "import torchvision\n",
    "import torch.utils.data as putils\n",
    "\n",
    "from torch import nn, optim\n",
    "from torchvision import datasets,transforms\n",
    "from torch.autograd import Variable\n",
    "from PIL import Image\n",
    "import numpy\n",
    "import numpy as np\n",
    "import math\n",
    "\n",
    "print(\"Importing Library Success\")\n"
   ]
  },
  {
   "cell_type": "code",
   "execution_count": 2,
   "outputs": [
    {
     "name": "stdout",
     "text": [
      "Creating Class...\nCreating Class Success\n"
     ],
     "output_type": "stream"
    }
   ],
   "source": [
    "print(\"Creating Class...\")\n",
    "\n",
    "class Codec():\n",
    "    def __init__(self, size, interpolate_size, mode):\n",
    "        self.size = size\n",
    "        self.interpolate_size = interpolate_size\n",
    "        self.mode = mode\n",
    "\n",
    "    def btc(self, image):\n",
    "        if image.shape[0] % self.size != 0:\n",
    "            n = ((self.size * int(image.shape[0] / self.size)) + self.size) - image.shape[0]\n",
    "            image = numpy.pad(array=image, pad_width=(0, n))\n",
    "\n",
    "        x = image.shape[0] / self.size\n",
    "        y = image.shape[1] / self.size\n",
    "        block_image = numpy.split(numpy.concatenate(numpy.split(image, y, axis=1)), x * y)\n",
    "        for i in range(len(block_image)):\n",
    "            mean = numpy.mean(numpy.mean(block_image[i], axis=1))\n",
    "            std = numpy.std(block_image[i])\n",
    "            m = self.size * self.size\n",
    "            q = numpy.sum(block_image[i] > mean)\n",
    "\n",
    "            a = mean - std * numpy.sqrt(q / (m - q))\n",
    "            b = mean + std * numpy.sqrt((m - q) / q)\n",
    "\n",
    "            block_image[i][block_image[i] > mean] = b\n",
    "            block_image[i][block_image[i] < mean] = a\n",
    "\n",
    "        block_image = numpy.concatenate(block_image)\n",
    "        block_image = numpy.split(block_image, x)\n",
    "\n",
    "        temp = numpy.concatenate(block_image, axis=1)\n",
    "\n",
    "        if image.shape[0] % self.size != 0:\n",
    "            temp = temp[1:-n + 1, 1:-n + 1]\n",
    "\n",
    "        return torch.Tensor(temp)\n",
    "\n",
    "    def BlockTruncationCoding(self, images_tensor):\n",
    "        results_tensor = images_tensor.new_empty(size=images_tensor.size())\n",
    "        for i in range(len(images_tensor)):\n",
    "            compact_image = images_tensor[i][0]\n",
    "            compressed_image = self.btc(compact_image)\n",
    "            results_tensor[i][0] = compressed_image\n",
    "        return results_tensor\n",
    "\n",
    "    def Interpolate(self, image):\n",
    "        return nn.functional.interpolate(input=image, scale_factor=self.interpolate_size, mode=self.mode,\n",
    "                                         align_corners=False)\n",
    "\n",
    "class RecCNN(nn.Module):\n",
    "    def __init__(self, channel):\n",
    "        super(RecCNN, self).__init__()\n",
    "        self.deconv1 = nn.Conv2d(channel, out_channels=64, kernel_size=3, padding=1)\n",
    "        self.bn2 = nn.BatchNorm2d(64, affine=False)\n",
    "        self.deconv_n = nn.Conv2d(in_channels=64, out_channels=64, kernel_size=3, padding=1)\n",
    "        self.bn_n = nn.BatchNorm2d(64, affine=False)\n",
    "        self.deconv3 = nn.ConvTranspose2d(64, channel, kernel_size=3, padding=1)\n",
    "        self.relu = nn.ReLU()\n",
    "\n",
    "    def forward(self, x):\n",
    "        out = self.relu(self.deconv1(x))\n",
    "        for _ in range(18):\n",
    "            out = self.relu(self.bn_n(self.deconv_n(out)))\n",
    "        out = self.deconv3(out)\n",
    "        final = out.add(x)\n",
    "        return final, out\n",
    "class ComCNN(nn.Module):\n",
    "    def __init__(self, channel):\n",
    "        super(ComCNN, self).__init__()\n",
    "        self.conv1 = nn.Conv2d(channel, out_channels=64, kernel_size=3, padding=1)\n",
    "        self.conv2 = nn.Conv2d(64, 64, kernel_size=3, stride=2, padding=1)\n",
    "        self.bn1 = nn.BatchNorm2d(64, affine=False)\n",
    "        self.conv3 = nn.Conv2d(64, channel, kernel_size=3, padding=1)\n",
    "        self.relu = nn.ReLU()\n",
    "\n",
    "    def forward(self, x):\n",
    "        out = self.relu(self.conv1(x))\n",
    "        out = self.relu(self.bn1(self.conv2(out)))\n",
    "        return self.conv3(out)\n",
    "\n",
    "\n",
    "def loss_function_l1(reconstructed_image,original_image):\n",
    "    return nn.MSELoss(size_average=False)(reconstructed_image,original_image)\n",
    "\n",
    "def loss_function_l2(residual_image,decoded_image,original_image):\n",
    "    return nn.MSELoss(size_average=False)(residual_image,original_image-decoded_image)\n",
    "\n",
    "def psnr(img1, img2):\n",
    "    mse = numpy.mean( (img1 - img2) ** 2 )\n",
    "    if mse == 0:\n",
    "        return 100\n",
    "    PIXEL_MAX = 255.0\n",
    "    return 20 * math.log10(PIXEL_MAX / math.sqrt(mse))\n",
    "\n",
    "import math\n",
    "irange = range\n",
    "\n",
    "\n",
    "def make_grid(tensor, nrow=8, padding=2,\n",
    "              normalize=False, range=None, scale_each=False, pad_value=0):\n",
    "    \"\"\"Make a grid of images.\n",
    "    Args:\n",
    "        tensor (Tensor or list): 4D mini-batch Tensor of shape (B x C x H x W)\n",
    "            or a list of images all of the same size.\n",
    "        nrow (int, optional): Number of images displayed in each row of the grid.\n",
    "            The Final grid size is (B / nrow, nrow). Default is 8.\n",
    "        padding (int, optional): amount of padding. Default is 2.\n",
    "        normalize (bool, optional): If True, shift the image to the range (0, 1),\n",
    "            by subtracting the minimum and dividing by the maximum pixel value.\n",
    "        range (tuple, optional): tuple (min, max) where min and max are numbers,\n",
    "            then these numbers are used to normalize the image. By default, min and max\n",
    "            are computed from the tensor.\n",
    "        scale_each (bool, optional): If True, scale each image in the batch of\n",
    "            images separately rather than the (min, max) over all images.\n",
    "        pad_value (float, optional): Value for the padded pixels.\n",
    "    Example:\n",
    "        See this notebook `here <https://gist.github.com/anonymous/bf16430f7750c023141c562f3e9f2a91>`_\n",
    "    \"\"\"\n",
    "    if not (torch.is_tensor(tensor) or\n",
    "            (isinstance(tensor, list) and all(torch.is_tensor(t) for t in tensor))):\n",
    "        raise TypeError('tensor or list of tensors expected, got {}'.format(type(tensor)))\n",
    "\n",
    "    # if list of tensors, convert to a 4D mini-batch Tensor\n",
    "    if isinstance(tensor, list):\n",
    "        tensor = torch.stack(tensor, dim=0)\n",
    "\n",
    "    if tensor.dim() == 2:  # single image H x W\n",
    "        tensor = tensor.view(1, tensor.size(0), tensor.size(1))\n",
    "    if tensor.dim() == 3:  # single image\n",
    "        if tensor.size(0) == 1:  # if single-channel, convert to 3-channel\n",
    "            tensor = torch.cat((tensor, tensor, tensor), 0)\n",
    "        tensor = tensor.view(1, tensor.size(0), tensor.size(1), tensor.size(2))\n",
    "\n",
    "    if tensor.dim() == 4 and tensor.size(1) == 1:  # single-channel images\n",
    "        tensor = torch.cat((tensor, tensor, tensor), 1)\n",
    "\n",
    "    if normalize is True:\n",
    "        tensor = tensor.clone()  # avoid modifying tensor in-place\n",
    "        if range is not None:\n",
    "            assert isinstance(range, tuple), \\\n",
    "                \"range has to be a tuple (min, max) if specified. min and max are numbers\"\n",
    "\n",
    "        def norm_ip(img, min, max):\n",
    "            img.clamp_(min=min, max=max)\n",
    "            img.add_(-min).div_(max - min + 1e-5)\n",
    "\n",
    "        def norm_range(t, range):\n",
    "            if range is not None:\n",
    "                norm_ip(t, range[0], range[1])\n",
    "            else:\n",
    "                norm_ip(t, float(t.min()), float(t.max()))\n",
    "\n",
    "        if scale_each is True:\n",
    "            for t in tensor:  # loop over mini-batch dimension\n",
    "                norm_range(t, range)\n",
    "        else:\n",
    "            norm_range(tensor, range)\n",
    "\n",
    "    if tensor.size(0) == 1:\n",
    "        return tensor.squeeze()\n",
    "\n",
    "    # make the mini-batch of images into a grid\n",
    "    nmaps = tensor.size(0)\n",
    "    xmaps = min(nrow, nmaps)\n",
    "    ymaps = int(math.ceil(float(nmaps) / xmaps))\n",
    "    height, width = int(tensor.size(2) + padding), int(tensor.size(3) + padding)\n",
    "    grid = tensor.new(3, height * ymaps + padding, width * xmaps + padding).fill_(pad_value)\n",
    "    k = 0\n",
    "    for y in irange(ymaps):\n",
    "        for x in irange(xmaps):\n",
    "            if k >= nmaps:\n",
    "                break\n",
    "            grid.narrow(1, y * height + padding, height - padding)\\\n",
    "                .narrow(2, x * width + padding, width - padding)\\\n",
    "                .copy_(tensor[k])\n",
    "            k = k + 1\n",
    "    return grid\n",
    "\n",
    "\n",
    "def save_image(tensor, filename, nrow=8, padding=2,\n",
    "               normalize=False, range=None, scale_each=False, pad_value=0):\n",
    "    \"\"\"Save a given Tensor into an image file.\n",
    "    Args:\n",
    "        tensor (Tensor or list): Image to be saved. If given a mini-batch tensor,\n",
    "            saves the tensor as a grid of images by calling ``make_grid``.\n",
    "        **kwargs: Other arguments are documented in ``make_grid``.\n",
    "    \"\"\"\n",
    "    from PIL import Image\n",
    "    grid = make_grid(tensor, nrow=nrow, padding=padding, pad_value=pad_value,\n",
    "                     normalize=normalize, range=range, scale_each=scale_each)\n",
    "    ndarr = grid.mul(255).clamp(0, 255).byte().permute(1, 2, 0).cpu().numpy()\n",
    "    im = Image.fromarray(ndarr)\n",
    "    im.save(filename)\n",
    "\n",
    "\n",
    "print(\"Creating Class Success\")\n",
    " "
   ],
   "metadata": {
    "collapsed": false,
    "pycharm": {
     "name": "#%% Create Class\n",
     "is_executing": false
    }
   }
  },
  {
   "cell_type": "code",
   "execution_count": 3,
   "outputs": [
    {
     "name": "stdout",
     "text": [
      "Load Image Dataset\nLoad Image Dataset Success\n"
     ],
     "output_type": "stream"
    }
   ],
   "source": [
    "print(\"Load Image Dataset\")\n",
    "train_image_transform = transforms.Compose([\n",
    "    transforms.Grayscale(num_output_channels=1),\n",
    "    transforms.Resize(size=(160,160)),\n",
    "    transforms.ToTensor(),\n",
    "    # transforms.Normalize((105.97411112882654,),(63.11390135470555,))\n",
    "])\n",
    "\n",
    "test_image_transform = transforms.Compose([\n",
    "    transforms.Grayscale(num_output_channels=1),\n",
    "    transforms.Resize(size=(160,160)),\n",
    "    transforms.ToTensor(),\n",
    "    # transforms.Normalize((85.35398198341836,),(65.0054783896806,))\n",
    "])\n",
    "\n",
    "\n",
    "train_path = '../dataset/train/'\n",
    "test_path = '../dataset/test/'\n",
    "train_dataset = torchvision.datasets.ImageFolder(\n",
    "    root=train_path,\n",
    "    transform=train_image_transform\n",
    ")\n",
    "\n",
    "train_loader = torch.utils.data.DataLoader(train_dataset, batch_size=8,\n",
    "                                          shuffle=True, num_workers=2)\n",
    "\n",
    "test_dataset = torchvision.datasets.ImageFolder(\n",
    "    root=test_path,\n",
    "    transform=test_image_transform\n",
    ")\n",
    "\n",
    "test_loader = torch.utils.data.DataLoader(test_dataset,batch_size=2,\n",
    "                                          shuffle=True,num_workers=2)\n",
    "\n",
    "print(\"Load Image Dataset Success\")\n",
    "\n"
   ],
   "metadata": {
    "collapsed": false,
    "pycharm": {
     "name": "#%% Prepared Dataset\n",
     "is_executing": false
    }
   }
  },
  {
   "cell_type": "code",
   "execution_count": 5,
   "outputs": [
    {
     "name": "stdout",
     "text": [
      "Initialize Model....\n",
      "Cuda is available, using gpu instead\nInitialize Model Success\n"
     ],
     "output_type": "stream"
    }
   ],
   "source": [
    "print(\"Initialize Model....\")\n",
    "CUDA = torch.cuda.is_available()\n",
    "\n",
    "codec = Codec(4,2,'bicubic')\n",
    "\n",
    "if CUDA:\n",
    "    comCNN = ComCNN(1).cuda()\n",
    "    recCNN = RecCNN(1).cuda()\n",
    "    print(\"Cuda is available, using gpu instead\")\n",
    "else:\n",
    "    comCNN = ComCNN(1)\n",
    "    recCNN = RecCNN(1)\n",
    "    print(\"Cuda is not available, using cpu instead\")\n",
    "\n",
    "comCNNOptimizer = optim.Adam(comCNN.parameters(),lr=1e-3)\n",
    "\n",
    "recCNNOptimizer = optim.Adam(recCNN.parameters(),lr=1e-3)\n",
    "\n",
    "print(\"Initialize Model Success\")\n"
   ],
   "metadata": {
    "collapsed": false,
    "pycharm": {
     "name": "#%% Create a model\n",
     "is_executing": false
    }
   }
  },
  {
   "cell_type": "code",
   "execution_count": 5,
   "outputs": [
    {
     "name": "stdout",
     "text": [
      "Begin Training....\n",
      "====> Epoch: 0\nAverage loss 1: 6797.7882\nAverage Loss 2: 11563.9231\nRunning Time : 70.35264015197754\n",
      "====> Epoch: 1\nAverage loss 1: 534.1275\nAverage Loss 2: 602.6628\nRunning Time : 68.25013518333435\n",
      "====> Epoch: 2\nAverage loss 1: 341.4486\nAverage Loss 2: 405.1644\nRunning Time : 68.52384948730469\n",
      "====> Epoch: 3\nAverage loss 1: 245.7747\nAverage Loss 2: 303.9269\nRunning Time : 68.7713303565979\n",
      "====> Epoch: 4\nAverage loss 1: 211.5614\nAverage Loss 2: 271.6208\nRunning Time : 68.70369148254395\n",
      "====> Epoch: 5\nAverage loss 1: 236.3643\nAverage Loss 2: 297.2492\nRunning Time : 68.42552471160889\n",
      "====> Epoch: 6\nAverage loss 1: 257.9400\nAverage Loss 2: 322.5731\nRunning Time : 68.61772751808167\n",
      "====> Epoch: 7\nAverage loss 1: 211.2627\nAverage Loss 2: 269.9493\nRunning Time : 68.72628855705261\n",
      "====> Epoch: 8\nAverage loss 1: 217.9087\nAverage Loss 2: 281.0742\nRunning Time : 68.4809308052063\n",
      "====> Epoch: 9\nAverage loss 1: 269.5107\nAverage Loss 2: 337.5214\nRunning Time : 68.59562253952026\n",
      "====> Epoch: 10\nAverage loss 1: 158.1577\nAverage Loss 2: 219.2307\nRunning Time : 68.37141966819763\n",
      "====> Epoch: 11\nAverage loss 1: 207.2653\nAverage Loss 2: 271.7461\nRunning Time : 68.56670069694519\n",
      "====> Epoch: 12\nAverage loss 1: 235.8384\nAverage Loss 2: 308.4890\nRunning Time : 68.38155698776245\n",
      "====> Epoch: 13\nAverage loss 1: 190.4068\nAverage Loss 2: 251.3047\nRunning Time : 68.86521100997925\n",
      "====> Epoch: 14\nAverage loss 1: 254.3504\nAverage Loss 2: 317.8069\nRunning Time : 68.95379328727722\n",
      "====> Epoch: 15\nAverage loss 1: 196.0923\nAverage Loss 2: 254.5358\nRunning Time : 71.08690667152405\n",
      "====> Epoch: 16\nAverage loss 1: 236.8484\nAverage Loss 2: 307.9437\nRunning Time : 68.9775710105896\n",
      "====> Epoch: 17\nAverage loss 1: 243.0294\nAverage Loss 2: 307.6914\nRunning Time : 68.56068873405457\n",
      "====> Epoch: 18\nAverage loss 1: 212.1657\nAverage Loss 2: 276.8603\nRunning Time : 69.43936848640442\n",
      "====> Epoch: 19\nAverage loss 1: 224.7718\nAverage Loss 2: 286.4088\nRunning Time : 68.67172265052795\n",
      "====> Epoch: 20\nAverage loss 1: 335.0068\nAverage Loss 2: 412.3974\nRunning Time : 68.71368741989136\n",
      "====> Epoch: 21\nAverage loss 1: 219.8110\nAverage Loss 2: 285.5343\nRunning Time : 68.59114718437195\n",
      "====> Epoch: 22\nAverage loss 1: 145.6116\nAverage Loss 2: 203.2154\nRunning Time : 68.31893491744995\n",
      "====> Epoch: 23\nAverage loss 1: 209.4631\nAverage Loss 2: 272.2398\nRunning Time : 68.64403939247131\n",
      "====> Epoch: 24\nAverage loss 1: 165.6977\nAverage Loss 2: 226.2809\nRunning Time : 68.38471603393555\n",
      "====> Epoch: 25\nAverage loss 1: 218.6332\nAverage Loss 2: 294.5815\nRunning Time : 68.36673593521118\n",
      "====> Epoch: 26\nAverage loss 1: 176.2004\nAverage Loss 2: 230.1196\nRunning Time : 68.50121521949768\n",
      "====> Epoch: 27\nAverage loss 1: 223.2702\nAverage Loss 2: 291.2443\nRunning Time : 68.63174366950989\n",
      "====> Epoch: 28\nAverage loss 1: 269.4565\nAverage Loss 2: 337.2180\nRunning Time : 68.63892197608948\n",
      "====> Epoch: 29\nAverage loss 1: 247.9569\nAverage Loss 2: 310.6775\nRunning Time : 68.4978518486023\n",
      "====> Epoch: 30\nAverage loss 1: 250.1554\nAverage Loss 2: 321.5591\nRunning Time : 68.85396909713745\n",
      "====> Epoch: 31\nAverage loss 1: 180.5907\nAverage Loss 2: 246.8072\nRunning Time : 68.57579708099365\n",
      "====> Epoch: 32\nAverage loss 1: 151.9703\nAverage Loss 2: 213.0749\nRunning Time : 68.44218516349792\n",
      "====> Epoch: 33\nAverage loss 1: 259.2189\nAverage Loss 2: 321.4923\nRunning Time : 68.54018759727478\n",
      "====> Epoch: 34\nAverage loss 1: 456.2499\nAverage Loss 2: 527.0076\nRunning Time : 68.4954423904419\n",
      "====> Epoch: 35\nAverage loss 1: 355.4644\nAverage Loss 2: 417.6804\nRunning Time : 68.44410300254822\n",
      "====> Epoch: 36\nAverage loss 1: 257.9321\nAverage Loss 2: 322.8527\nRunning Time : 68.42618680000305\n",
      "====> Epoch: 37\nAverage loss 1: 495.9972\nAverage Loss 2: 587.0915\nRunning Time : 68.4002332687378\n",
      "====> Epoch: 38\nAverage loss 1: 471.2756\nAverage Loss 2: 549.4457\nRunning Time : 68.69616651535034\n",
      "====> Epoch: 39\nAverage loss 1: 327.1419\nAverage Loss 2: 437.2349\nRunning Time : 68.44478416442871\n",
      "====> Epoch: 40\nAverage loss 1: 165.2707\nAverage Loss 2: 229.2018\nRunning Time : 68.39237689971924\n",
      "====> Epoch: 41\nAverage loss 1: 168.5179\nAverage Loss 2: 232.9656\nRunning Time : 68.45598816871643\n",
      "====> Epoch: 42\nAverage loss 1: 228.8315\nAverage Loss 2: 304.9594\nRunning Time : 68.48093056678772\n",
      "====> Epoch: 43\nAverage loss 1: 228.9213\nAverage Loss 2: 309.4607\nRunning Time : 68.59193587303162\n",
      "====> Epoch: 44\nAverage loss 1: 433.9140\nAverage Loss 2: 502.3704\nRunning Time : 68.29759860038757\n",
      "====> Epoch: 45\nAverage loss 1: 275.5966\nAverage Loss 2: 350.5130\nRunning Time : 68.57471823692322\n",
      "====> Epoch: 46\nAverage loss 1: 202.8599\nAverage Loss 2: 281.8578\nRunning Time : 68.42411518096924\n",
      "====> Epoch: 47\nAverage loss 1: 202.1632\nAverage Loss 2: 271.8598\nRunning Time : 68.50386667251587\n",
      "====> Epoch: 48\nAverage loss 1: 294.0006\nAverage Loss 2: 380.8418\nRunning Time : 68.61542057991028\n",
      "====> Epoch: 49\nAverage loss 1: 222.3461\nAverage Loss 2: 305.1852\nRunning Time : 68.63537549972534\n\n========>Training Complete....\nTotal Running Time : 3432.9147896766663\n"
     ],
     "output_type": "stream"
    },
    {
     "name": "stderr",
     "text": [
      "d:\\pycharmprojects\\end-to-end-compression-framework\\venv\\lib\\site-packages\\ipykernel_launcher.py:24: RuntimeWarning: divide by zero encountered in long_scalars\nd:\\pycharmprojects\\end-to-end-compression-framework\\venv\\lib\\site-packages\\ipykernel_launcher.py:24: RuntimeWarning: invalid value encountered in multiply\n",
      "d:\\pycharmprojects\\end-to-end-compression-framework\\venv\\lib\\site-packages\\torch\\nn\\_reduction.py:43: UserWarning: size_average and reduce args will be deprecated, please use reduction='sum' instead.\n  warnings.warn(warning.format(ret))\n"
     ],
     "output_type": "stream"
    }
   ],
   "source": [
    "import time\n",
    "print(\"Begin Training....\")\n",
    "epochs = 50\n",
    "comCNN.train()\n",
    "recCNN.train()\n",
    "graph_l1 = np.empty(epochs)\n",
    "graph_l2 = np.empty(epochs)\n",
    "global_start = time.time()\n",
    "for epoch in range(epochs):\n",
    "    start = time.time()\n",
    "    train_loss_1 = 0\n",
    "    train_loss_2 = 0\n",
    "    for batch_idx,(data,_) in enumerate(train_loader):\n",
    "        \n",
    "        data = Variable(data)\n",
    "        \n",
    "        compact_image = comCNN(data.cuda())\n",
    "        compact_image_temp = compact_image.cpu().detach()\n",
    "        compressed_image_btc = codec.BlockTruncationCoding(compact_image_temp)\n",
    "        upscaled_image_btc = codec.Interpolate(compressed_image_btc)\n",
    "        \n",
    "        torch.cuda.empty_cache()\n",
    "        \n",
    "        # update beta with eq 5\n",
    "    \n",
    "        recCNNOptimizer.zero_grad()\n",
    "        reconstructed_image,residual = recCNN(upscaled_image_btc.cuda())\n",
    "        loss2 = loss_function_l2(\n",
    "            residual_image=residual,\n",
    "            decoded_image=upscaled_image_btc.cuda(),\n",
    "            original_image=data.cuda()\n",
    "        )\n",
    "        loss2.backward()\n",
    "        \n",
    "        train_loss_2 += loss2.item()\n",
    "        recCNNOptimizer.step()\n",
    "    \n",
    "    \n",
    "        comCNNOptimizer.zero_grad()\n",
    "        upscaled_image_nonbtc = codec.Interpolate(compact_image)\n",
    "        reconstructed_without_btc,_ = recCNN(upscaled_image_nonbtc.cuda())\n",
    "        loss1 = loss_function_l1(\n",
    "            reconstructed_image=reconstructed_without_btc.cuda(),\n",
    "            original_image=data.cuda()\n",
    "        )\n",
    "        loss1.backward()\n",
    "        train_loss_1 += loss1.item()\n",
    "        comCNNOptimizer.step()\n",
    "        # print('Train Epoch: {} [{}/{} ({:.0f}%)]\\tLoss: {:.6f} - {:.6f}'.format(\n",
    "        #         epoch, batch_idx * len(data), len(train_loader.dataset),\n",
    "        #         100. * batch_idx / len(train_loader),\n",
    "        #         loss1.item() / len(data) , loss2.item()/len(data)))\n",
    "    end = time.time()\n",
    "    graph_l1[epoch] = train_loss_1/len(train_loader.dataset)\n",
    "    graph_l2[epoch] = train_loss_2/len(train_loader.dataset)\n",
    "    print('====> Epoch: {}\\nAverage loss 1: {:.4f}\\nAverage Loss 2: {:.4f}\\nRunning Time : {}'.format(\n",
    "          epoch, train_loss_1/len(train_loader.dataset),train_loss_2/len(train_loader.dataset),(end-start)))\n",
    "\n",
    "global_end = time.time()\n",
    "print(\"\\n========>Training Complete....\")\n",
    "print('Total Running Time : {}'.format((global_end-global_start)))"
   ],
   "metadata": {
    "collapsed": false,
    "pycharm": {
     "name": "#%% Train\n",
     "is_executing": false
    }
   }
  },
  {
   "cell_type": "code",
   "execution_count": 6,
   "outputs": [
    {
     "name": "stdout",
     "text": [
      "Saving Model...\n",
      "Model saved\n"
     ],
     "output_type": "stream"
    },
    {
     "name": "stderr",
     "text": [
      "d:\\pycharmprojects\\end-to-end-compression-framework\\venv\\lib\\site-packages\\torch\\serialization.py:256: UserWarning: Couldn't retrieve source code for container of type ComCNN. It won't be checked for correctness upon loading.\n  \"type \" + obj.__name__ + \". It won't be checked \"\n",
      "d:\\pycharmprojects\\end-to-end-compression-framework\\venv\\lib\\site-packages\\torch\\serialization.py:256: UserWarning: Couldn't retrieve source code for container of type RecCNN. It won't be checked for correctness upon loading.\n  \"type \" + obj.__name__ + \". It won't be checked \"\n"
     ],
     "output_type": "stream"
    }
   ],
   "source": [
    "print(\"Saving Model...\")\n",
    "torch.save(comCNN,'../model/ComCNN-with-btc[unormalize]180x180.pt')\n",
    "torch.save(recCNN,'../model/RecCNN-with-btc[unormalize]180x180.pt')\n",
    "print(\"Model saved\")"
   ],
   "metadata": {
    "collapsed": false,
    "pycharm": {
     "name": "#%% Saving Model\n",
     "is_executing": false
    }
   }
  },
  {
   "cell_type": "code",
   "execution_count": 8,
   "outputs": [
    {
     "data": {
      "text/plain": "<Figure size 432x288 with 2 Axes>",
      "image/png": "[encoded data removed]"
     },
     "metadata": {
      "needs_background": "light"
     },
     "output_type": "display_data"
    }
   ],
   "source": [
    "import matplotlib.pyplot as plt\n",
    "plt.figure(1)\n",
    "\n",
    "plt.subplot(221)\n",
    "plt.plot(graph_l1)\n",
    "plt.title(\"MSE L1\")\n",
    "plt.grid(True)\n",
    "\n",
    "plt.subplot(222)\n",
    "plt.plot(graph_l2)\n",
    "plt.title('MSE L2')\n",
    "plt.grid(True)\n",
    "plt.subplots_adjust(top=0.92, bottom=0.08, left=0.10, right=0.95, hspace=0.25,\n",
    "                    wspace=0.35)\n",
    "plt.show()\n"
   ],
   "metadata": {
    "collapsed": false,
    "pycharm": {
     "name": "#%% create graph\n",
     "is_executing": false
    }
   }
  },
  {
   "cell_type": "code",
   "execution_count": 5,
   "outputs": [
    {
     "name": "stdout",
     "text": [
      "Load trained model...\n",
      "Load success\n"
     ],
     "output_type": "stream"
    }
   ],
   "source": [
    "print(\"Load trained model...\")\n",
    "trainedComCNN = torch.load('../model/ComCNN-with-btc[unormalize]180x180.pt')\n",
    "trainedRecCNN = torch.load('../model/RecCNN-with-btc[unormalize]180x180.pt')\n",
    "codec = Codec(4,2,'bicubic')\n",
    "print(\"Load success\")"
   ],
   "metadata": {
    "collapsed": false,
    "pycharm": {
     "name": "#%% Load Model\n",
     "is_executing": false
    }
   }
  },
  {
   "cell_type": "code",
   "execution_count": 7,
   "outputs": [
    {
     "name": "stdout",
     "text": [
      "Begin Testing....\n",
      "Test Set 0 -> psnr : 27.923144055274093\nTest Set 1 -> psnr : 25.540622731005183\nTest Set 0 -> psnr : 24.973386524359938\n",
      "Test Set 1 -> psnr : 23.311567569500315\n",
      "Test Set 0 -> psnr : 22.301821984848544\nTest Set 1 -> psnr : 27.04430208545127\n",
      "Test Set 0 -> psnr : 24.148660094965514\nTest Set 1 -> psnr : 20.522669337335614\n",
      "Test Set 0 -> psnr : 23.963504389133977\nTest Set 1 -> psnr : 24.740511781305123\n\n========>Teesting Complete....\nTotal Running Time : 2.2140767574310303\nLoss Function ComCNN Average : 60.70562591552734\nLoss Function RecCNN Average : 102.90635681152344\nAverage PSNR                 : 24.44701905531796\n"
     ],
     "output_type": "stream"
    },
    {
     "name": "stderr",
     "text": [
      "d:\\pycharmprojects\\end-to-end-compression-framework\\venv\\lib\\site-packages\\ipykernel_launcher.py:24: RuntimeWarning: divide by zero encountered in long_scalars\nd:\\pycharmprojects\\end-to-end-compression-framework\\venv\\lib\\site-packages\\ipykernel_launcher.py:24: RuntimeWarning: invalid value encountered in multiply\n"
     ],
     "output_type": "stream"
    }
   ],
   "source": [
    "import time\n",
    "trainedComCNN.eval()\n",
    "trainedRecCNN.eval()\n",
    "print(\"Begin Testing....\")\n",
    "\n",
    "graph_l1_test = np.empty(len(test_loader.dataset))\n",
    "graph_l2_test = np.empty(len(test_loader.dataset))\n",
    "global_start = time.time()\n",
    "\n",
    "i = 0\n",
    "psnr_total = np.empty(len(test_loader.dataset))\n",
    "\n",
    "for batch_idx,(data,_) in enumerate(test_loader):\n",
    "    data = Variable(data)\n",
    "    compact_image = trainedComCNN(data.cuda())\n",
    "    compact_image_temp = compact_image.cpu().detach()\n",
    "    compressed_image_btc = codec.BlockTruncationCoding(compact_image_temp)\n",
    "    upscaled_image_btc = codec.Interpolate(compressed_image_btc)\n",
    "    \n",
    "    \n",
    "    reconstructed_image,residual = trainedRecCNN(upscaled_image_btc.cuda())\n",
    "    loss2 = loss_function_l2(\n",
    "            residual_image=residual,\n",
    "            decoded_image=upscaled_image_btc.cuda(),\n",
    "            original_image=data.cuda()\n",
    "        )\n",
    "    \n",
    "    upscaled_image_nonbtc = codec.Interpolate(compact_image)\n",
    "    reconstructed_without_btc,_ = trainedRecCNN(upscaled_image_nonbtc.cuda())\n",
    "    loss1 = loss_function_l1(\n",
    "            reconstructed_image=reconstructed_without_btc.cuda(),\n",
    "            original_image=data.cuda()\n",
    "        )\n",
    "    \n",
    "    graph_l1_test[i] = loss1.item()\n",
    "    \n",
    "    graph_l2_test[i] = loss2.item()\n",
    "    temp = 0\n",
    "    \n",
    "    for j in range(len(data)):\n",
    "        img1 = reconstructed_image[j][0].cpu().detach().numpy()*255.0\n",
    "        img2 = data[j][0].cpu().detach().numpy()*255.0\n",
    "        psnr_temp = psnr(img1,img2)\n",
    "        print(\"Test Set {} -> psnr : {}\".format(j,psnr_temp))\n",
    "        temp += psnr_temp\n",
    "        save_image(data[j],'../result/end-to-end-with-btc[unormalize]160x160/ori-{}-{}.png'.format(batch_idx,j))\n",
    "        save_image(reconstructed_image[j],'../result/end-to-end-with-btc[unormalize]160x160/recon-{}-{}.png'.format(batch_idx,j))\n",
    "    psnr_total[i] = temp\n",
    "    i+=1\n",
    "    \n",
    "global_end = time.time()\n",
    "print(\"\\n========>Teesting Complete....\")\n",
    "print('Total Running Time : {}'.format((global_end-global_start)))\n",
    "print('Loss Function ComCNN Average : {}'.format(np.mean(graph_l1_test)))\n",
    "print('Loss Function RecCNN Average : {}'.format(np.mean(graph_l2_test)))\n",
    "print('Average PSNR                 : {}'.format(np.mean(psnr_total)))"
   ],
   "metadata": {
    "collapsed": false,
    "pycharm": {
     "name": "#%% Test Model\n",
     "is_executing": false
    }
   }
  },
  {
   "cell_type": "code",
   "execution_count": 8,
   "outputs": [
    {
     "name": "stdout",
     "text": [
      "23.311567569500315\n"
     ],
     "output_type": "stream"
    }
   ],
   "source": [],
   "metadata": {
    "collapsed": false,
    "pycharm": {
     "name": "#%% Test Set 1\n",
     "is_executing": false
    }
   }
  }
 ],
 "metadata": {
  "language_info": {
   "codemirror_mode": {
    "name": "ipython",
    "version": 2
   },
   "file_extension": ".py",
   "mimetype": "text/x-python",
   "name": "python",
   "nbconvert_exporter": "python",
   "pygments_lexer": "ipython2",
   "version": "2.7.6"
  },
  "kernelspec": {
   "name": "python3",
   "language": "python",
   "display_name": "Python 3"
  },
  "pycharm": {
   "stem_cell": {
    "cell_type": "raw",
    "source": [],
    "metadata": {
     "collapsed": false
    }
   }
  }
 },
 "nbformat": 4,
 "nbformat_minor": 0
}