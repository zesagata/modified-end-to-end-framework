{
 "cells": [
  {
   "cell_type": "code",
   "execution_count": 1,
   "metadata": {
    "collapsed": true,
    "pycharm": {
     "name": "#%% importing library\n",
     "is_executing": false
    }
   },
   "outputs": [
    {
     "name": "stdout",
     "text": [
      "Importing Library...\n",
      "Importing Library Success\n"
     ],
     "output_type": "stream"
    }
   ],
   "source": [
    "print(\"Importing Library...\")\n",
    "import torch\n",
    "import torchvision\n",
    "import torch.utils.data as putils\n",
    "\n",
    "from torch import nn, optim\n",
    "from torchvision import datasets,transforms\n",
    "from torch.autograd import Variable\n",
    "from PIL import Image\n",
    "import numpy\n",
    "import numpy as np\n",
    "\n",
    "print(\"Importing Library Success\")\n"
   ]
  },
  {
   "cell_type": "code",
   "execution_count": 2,
   "outputs": [
    {
     "name": "stdout",
     "text": [
      "Creating Class...\nCreating Class Success\n"
     ],
     "output_type": "stream"
    }
   ],
   "source": [
    "print(\"Creating Class...\")\n",
    "\n",
    "class Codec():\n",
    "    def __init__(self, size, interpolate_size, mode):\n",
    "        self.size = size\n",
    "        self.interpolate_size = interpolate_size\n",
    "        self.mode = mode\n",
    "\n",
    "    def btc(self, image):\n",
    "        if image.shape[0] % self.size != 0:\n",
    "            n = ((self.size * int(image.shape[0] / self.size)) + self.size) - image.shape[0]\n",
    "            image = numpy.pad(array=image, pad_width=(0, n))\n",
    "\n",
    "        x = image.shape[0] / self.size\n",
    "        y = image.shape[1] / self.size\n",
    "        block_image = numpy.split(numpy.concatenate(numpy.split(image, y, axis=1)), x * y)\n",
    "        for i in range(len(block_image)):\n",
    "            mean = numpy.mean(numpy.mean(block_image[i], axis=1))\n",
    "            std = numpy.std(block_image[i])\n",
    "            m = self.size * self.size\n",
    "            q = numpy.sum(block_image[i] > mean)\n",
    "\n",
    "            a = mean - std * numpy.sqrt(q / (m - q))\n",
    "            b = mean + std * numpy.sqrt((m - q) / q)\n",
    "\n",
    "            block_image[i][block_image[i] > mean] = b\n",
    "            block_image[i][block_image[i] < mean] = a\n",
    "\n",
    "        block_image = numpy.concatenate(block_image)\n",
    "        block_image = numpy.split(block_image, x)\n",
    "\n",
    "        temp = numpy.concatenate(block_image, axis=1)\n",
    "\n",
    "        if image.shape[0] % self.size != 0:\n",
    "            temp = temp[1:-n + 1, 1:-n + 1]\n",
    "\n",
    "        return torch.Tensor(temp)\n",
    "\n",
    "    def BlockTruncationCoding(self, images_tensor):\n",
    "        results_tensor = images_tensor.new_empty(size=images_tensor.size())\n",
    "        for i in range(len(images_tensor)):\n",
    "            compact_image = images_tensor[i][0]\n",
    "            compressed_image = self.btc(compact_image)\n",
    "            results_tensor[i][0] = compressed_image\n",
    "        return results_tensor\n",
    "\n",
    "    def Interpolate(self, image):\n",
    "        return nn.functional.interpolate(input=image, scale_factor=self.interpolate_size, mode=self.mode,\n",
    "                                         align_corners=False)\n",
    "\n",
    "class RecCNN(nn.Module):\n",
    "    def __init__(self, channel):\n",
    "        super(RecCNN, self).__init__()\n",
    "        self.deconv1 = nn.Conv2d(channel, out_channels=64, kernel_size=3, padding=1)\n",
    "        self.bn2 = nn.BatchNorm2d(64, affine=False)\n",
    "        self.deconv_n = nn.Conv2d(in_channels=64, out_channels=64, kernel_size=3, padding=1)\n",
    "        self.bn_n = nn.BatchNorm2d(64, affine=False)\n",
    "        self.deconv3 = nn.ConvTranspose2d(64, channel, kernel_size=3, padding=1)\n",
    "        self.relu = nn.ReLU()\n",
    "\n",
    "    def forward(self, x):\n",
    "        out = self.relu(self.deconv1(x))\n",
    "        for _ in range(18):\n",
    "            out = self.relu(self.bn_n(self.deconv_n(out)))\n",
    "        out = self.deconv3(out)\n",
    "        final = out.add(x)\n",
    "        return final, out\n",
    "class ComCNN(nn.Module):\n",
    "    def __init__(self, channel):\n",
    "        super(ComCNN, self).__init__()\n",
    "        self.conv1 = nn.Conv2d(channel, out_channels=64, kernel_size=3, padding=1)\n",
    "        self.conv2 = nn.Conv2d(64, 64, kernel_size=3, stride=2, padding=1)\n",
    "        self.bn1 = nn.BatchNorm2d(64, affine=False)\n",
    "        self.conv3 = nn.Conv2d(64, channel, kernel_size=3, padding=1)\n",
    "        self.relu = nn.ReLU()\n",
    "\n",
    "    def forward(self, x):\n",
    "        out = self.relu(self.conv1(x))\n",
    "        out = self.relu(self.bn1(self.conv2(out)))\n",
    "        return self.conv3(out)\n",
    "\n",
    "\n",
    "def loss_function_l1(reconstructed_image,original_image):\n",
    "    return nn.MSELoss(size_average=False)(reconstructed_image,original_image)\n",
    "\n",
    "def loss_function_l2(residual_image,decoded_image,original_image):\n",
    "    return nn.MSELoss(size_average=False)(residual_image,original_image-decoded_image)\n",
    "\n",
    "print(\"Creating Class Success\")\n",
    " "
   ],
   "metadata": {
    "collapsed": false,
    "pycharm": {
     "name": "#%% Create Class\n",
     "is_executing": false
    }
   }
  },
  {
   "cell_type": "code",
   "execution_count": 3,
   "outputs": [
    {
     "name": "stdout",
     "text": [
      "Load Image Dataset\nLoad Image Dataset Success\n"
     ],
     "output_type": "stream"
    }
   ],
   "source": [
    "print(\"Load Image Dataset\")\n",
    "train_image_transform = transforms.Compose([\n",
    "    transforms.Grayscale(num_output_channels=1),\n",
    "    transforms.Resize(size=(64,64)),\n",
    "    transforms.ToTensor(),\n",
    "    transforms.Normalize((105.97411112882654,),(63.11390135470555,))\n",
    "])\n",
    "\n",
    "test_image_transform = transforms.Compose([\n",
    "    transforms.Grayscale(num_output_channels=1),\n",
    "    transforms.Resize(size=(64,64)),\n",
    "    transforms.ToTensor(),\n",
    "    transforms.Normalize((85.35398198341836,),(65.0054783896806,))\n",
    "])\n",
    "\n",
    "\n",
    "train_path = '../dataset/train/'\n",
    "test_path = '../dataset/test/'\n",
    "train_dataset = torchvision.datasets.ImageFolder(\n",
    "    root=train_path,\n",
    "    transform=train_image_transform\n",
    ")\n",
    "\n",
    "train_loader = torch.utils.data.DataLoader(train_dataset, batch_size=32,\n",
    "                                          shuffle=True, num_workers=2)\n",
    "\n",
    "test_dataset = torchvision.datasets.ImageFolder(\n",
    "    root=test_path,\n",
    "    transform=test_image_transform\n",
    ")\n",
    "\n",
    "test_loader = torch.utils.data.DataLoader(test_dataset,batch_size=32,\n",
    "                                          shuffle=True,num_workers=2)\n",
    "\n",
    "print(\"Load Image Dataset Success\")\n",
    "\n"
   ],
   "metadata": {
    "collapsed": false,
    "pycharm": {
     "name": "#%% Prepared Dataset\n",
     "is_executing": false
    }
   }
  },
  {
   "cell_type": "code",
   "execution_count": 4,
   "outputs": [
    {
     "name": "stdout",
     "text": [
      "Initialize Model....\n",
      "Cuda is available, using gpu instead\nInitialize Model Success\n"
     ],
     "output_type": "stream"
    }
   ],
   "source": [
    "print(\"Initialize Model....\")\n",
    "CUDA = torch.cuda.is_available()\n",
    "\n",
    "codec = Codec(4,2,'bicubic')\n",
    "\n",
    "if CUDA:\n",
    "    comCNN = ComCNN(1).cuda()\n",
    "    recCNN = RecCNN(1).cuda()\n",
    "    print(\"Cuda is available, using gpu instead\")\n",
    "else:\n",
    "    comCNN = ComCNN(1)\n",
    "    recCNN = RecCNN(1)\n",
    "    print(\"Cuda is not available, using cpu instead\")\n",
    "\n",
    "comCNNOptimizer = optim.Adam(comCNN.parameters(),lr=1e-3)\n",
    "\n",
    "recCNNOptimizer = optim.Adam(recCNN.parameters(),lr=1e-3)\n",
    "\n",
    "print(\"Initialize Model Success\")\n"
   ],
   "metadata": {
    "collapsed": false,
    "pycharm": {
     "name": "#%% Create a model\n",
     "is_executing": false
    }
   }
  },
  {
   "cell_type": "code",
   "execution_count": 5,
   "outputs": [
    {
     "name": "stdout",
     "text": [
      "Begin Training....\n",
      "====> Epoch: 0\nAverage loss 1: 33724.2991\nAverage Loss 2: 38206.2141\nRunning Time : 19.61069416999817\n",
      "====> Epoch: 1\nAverage loss 1: 4146.6972\nAverage Loss 2: 4616.0969\nRunning Time : 13.101742506027222\n",
      "====> Epoch: 2\nAverage loss 1: 1407.3147\nAverage Loss 2: 1442.4496\nRunning Time : 12.537521600723267\n",
      "====> Epoch: 3\nAverage loss 1: 918.7409\nAverage Loss 2: 728.5411\nRunning Time : 12.420795440673828\n",
      "====> Epoch: 4\nAverage loss 1: 448.7482\nAverage Loss 2: 319.5321\nRunning Time : 12.67118501663208\n",
      "====> Epoch: 5\nAverage loss 1: 200.0275\nAverage Loss 2: 161.7914\nRunning Time : 12.564449310302734\n",
      "====> Epoch: 6\nAverage loss 1: 111.1691\nAverage Loss 2: 114.3468\nRunning Time : 12.29818868637085\n",
      "====> Epoch: 7\nAverage loss 1: 74.0542\nAverage Loss 2: 86.1845\nRunning Time : 12.436760425567627\n",
      "====> Epoch: 8\nAverage loss 1: 62.3926\nAverage Loss 2: 71.5521\nRunning Time : 12.790975570678711\n",
      "====> Epoch: 9\nAverage loss 1: 57.3775\nAverage Loss 2: 62.8966\nRunning Time : 12.4846773147583\n",
      "====> Epoch: 10\nAverage loss 1: 53.3536\nAverage Loss 2: 56.5835\nRunning Time : 12.562492370605469\n",
      "====> Epoch: 11\nAverage loss 1: 50.1495\nAverage Loss 2: 51.6127\nRunning Time : 12.453776121139526\n",
      "====> Epoch: 12\nAverage loss 1: 47.5871\nAverage Loss 2: 47.3937\nRunning Time : 12.976386785507202\n",
      "====> Epoch: 13\nAverage loss 1: 45.5753\nAverage Loss 2: 43.4615\nRunning Time : 12.403928518295288\n",
      "====> Epoch: 14\nAverage loss 1: 43.5018\nAverage Loss 2: 39.8717\nRunning Time : 12.453941106796265\n",
      "====> Epoch: 15\nAverage loss 1: 41.8646\nAverage Loss 2: 36.4707\nRunning Time : 12.354970693588257\n",
      "====> Epoch: 16\nAverage loss 1: 40.6144\nAverage Loss 2: 33.6182\nRunning Time : 12.929981708526611\n",
      "====> Epoch: 17\nAverage loss 1: 39.7794\nAverage Loss 2: 31.0999\nRunning Time : 12.550021886825562\n",
      "====> Epoch: 18\nAverage loss 1: 38.6331\nAverage Loss 2: 28.7368\nRunning Time : 12.403895378112793\n",
      "====> Epoch: 19\nAverage loss 1: 37.3305\nAverage Loss 2: 26.6091\nRunning Time : 12.926442861557007\n",
      "====> Epoch: 20\nAverage loss 1: 36.0768\nAverage Loss 2: 24.7994\nRunning Time : 12.371019840240479\n",
      "====> Epoch: 21\nAverage loss 1: 34.9854\nAverage Loss 2: 23.1825\nRunning Time : 12.610296487808228\n",
      "====> Epoch: 22\nAverage loss 1: 34.0331\nAverage Loss 2: 21.6677\nRunning Time : 12.40785813331604\n",
      "====> Epoch: 23\nAverage loss 1: 33.1320\nAverage Loss 2: 20.1060\nRunning Time : 12.577482223510742\n",
      "====> Epoch: 24\nAverage loss 1: 32.7219\nAverage Loss 2: 18.7401\nRunning Time : 12.376986503601074\n",
      "====> Epoch: 25\nAverage loss 1: 32.2505\nAverage Loss 2: 17.5492\nRunning Time : 12.669299840927124\n",
      "====> Epoch: 26\nAverage loss 1: 31.5690\nAverage Loss 2: 16.4735\nRunning Time : 12.57039475440979\n",
      "====> Epoch: 27\nAverage loss 1: 30.8108\nAverage Loss 2: 15.4960\nRunning Time : 12.394913673400879\n",
      "====> Epoch: 28\nAverage loss 1: 30.0597\nAverage Loss 2: 14.6240\nRunning Time : 12.768972873687744\n",
      "====> Epoch: 29\nAverage loss 1: 29.3430\nAverage Loss 2: 13.8269\nRunning Time : 12.527677059173584\n",
      "====> Epoch: 30\nAverage loss 1: 28.6407\nAverage Loss 2: 13.0584\nRunning Time : 12.432761192321777\n",
      "====> Epoch: 31\nAverage loss 1: 28.0865\nAverage Loss 2: 12.2360\nRunning Time : 12.37990689277649\n",
      "====> Epoch: 32\nAverage loss 1: 27.5308\nAverage Loss 2: 11.3126\nRunning Time : 12.325049638748169\n",
      "====> Epoch: 33\nAverage loss 1: 26.7931\nAverage Loss 2: 10.3873\nRunning Time : 12.339003801345825\n",
      "====> Epoch: 34\nAverage loss 1: 25.9917\nAverage Loss 2: 9.6029\nRunning Time : 12.393878698348999\n",
      "====> Epoch: 35\nAverage loss 1: 25.1446\nAverage Loss 2: 8.9666\nRunning Time : 12.44074535369873\n",
      "====> Epoch: 36\nAverage loss 1: 24.2908\nAverage Loss 2: 8.4206\nRunning Time : 12.383857011795044\n",
      "====> Epoch: 37\nAverage loss 1: 23.4397\nAverage Loss 2: 7.9346\nRunning Time : 12.374954223632812\n",
      "====> Epoch: 38\nAverage loss 1: 22.6087\nAverage Loss 2: 7.5015\nRunning Time : 12.387916326522827\n",
      "====> Epoch: 39\nAverage loss 1: 21.8648\nAverage Loss 2: 7.1219\nRunning Time : 12.536486387252808\n",
      "====> Epoch: 40\nAverage loss 1: 21.1695\nAverage Loss 2: 6.7780\nRunning Time : 12.32904052734375\n",
      "====> Epoch: 41\nAverage loss 1: 20.5179\nAverage Loss 2: 6.4747\nRunning Time : 12.360956907272339\n",
      "====> Epoch: 42\nAverage loss 1: 19.9125\nAverage Loss 2: 6.2055\nRunning Time : 12.380903959274292\n",
      "====> Epoch: 43\nAverage loss 1: 19.3531\nAverage Loss 2: 5.9460\nRunning Time : 12.391876935958862\n",
      "====> Epoch: 44\nAverage loss 1: 18.8443\nAverage Loss 2: 5.7118\nRunning Time : 12.4239182472229\n",
      "====> Epoch: 45\nAverage loss 1: 18.4064\nAverage Loss 2: 5.5096\nRunning Time : 12.30312967300415\n",
      "====> Epoch: 46\nAverage loss 1: 17.9644\nAverage Loss 2: 5.3232\nRunning Time : 12.393945932388306\n",
      "====> Epoch: 47\nAverage loss 1: 17.5378\nAverage Loss 2: 5.1544\nRunning Time : 12.440742254257202\n",
      "====> Epoch: 48\nAverage loss 1: 17.0721\nAverage Loss 2: 5.0008\nRunning Time : 12.526515007019043\n",
      "====> Epoch: 49\nAverage loss 1: 16.3516\nAverage Loss 2: 4.8654\nRunning Time : 12.657167911529541\n\n========>Training Complete....\nTotal Running Time : 632.4193983078003\n"
     ],
     "output_type": "stream"
    },
    {
     "name": "stderr",
     "text": [
      "d:\\pycharmprojects\\end-to-end-compression-framework\\venv\\lib\\site-packages\\torch\\nn\\_reduction.py:43: UserWarning: size_average and reduce args will be deprecated, please use reduction='sum' instead.\n  warnings.warn(warning.format(ret))\n",
      "d:\\pycharmprojects\\end-to-end-compression-framework\\venv\\lib\\site-packages\\ipykernel_launcher.py:24: RuntimeWarning: divide by zero encountered in long_scalars\nd:\\pycharmprojects\\end-to-end-compression-framework\\venv\\lib\\site-packages\\ipykernel_launcher.py:24: RuntimeWarning: invalid value encountered in multiply\n"
     ],
     "output_type": "stream"
    }
   ],
   "source": [
    "import time\n",
    "print(\"Begin Training....\")\n",
    "epochs = 50\n",
    "comCNN.train()\n",
    "recCNN.train()\n",
    "graph_l1 = np.empty(epochs)\n",
    "graph_l2 = np.empty(epochs)\n",
    "global_start = time.time()\n",
    "for epoch in range(epochs):\n",
    "    start = time.time()\n",
    "    train_loss_1 = 0\n",
    "    train_loss_2 = 0\n",
    "    for batch_idx,(data,_) in enumerate(train_loader):\n",
    "        \n",
    "        data = Variable(data)\n",
    "        \n",
    "        compact_image = comCNN(data.cuda())\n",
    "        compact_image_temp = compact_image.cpu().detach()\n",
    "        compressed_image_btc = codec.BlockTruncationCoding(compact_image_temp)\n",
    "        upscaled_image_btc = codec.Interpolate(compressed_image_btc)\n",
    "        \n",
    "        torch.cuda.empty_cache()\n",
    "        \n",
    "        # update beta with eq 5\n",
    "    \n",
    "        recCNNOptimizer.zero_grad()\n",
    "        reconstructed_image,residual = recCNN(upscaled_image_btc.cuda())\n",
    "        loss2 = loss_function_l2(\n",
    "            residual_image=residual,\n",
    "            decoded_image=upscaled_image_btc.cuda(),\n",
    "            original_image=data.cuda()\n",
    "        )\n",
    "        loss2.backward()\n",
    "        \n",
    "        train_loss_2 += loss2.item()\n",
    "        recCNNOptimizer.step()\n",
    "    \n",
    "    \n",
    "        comCNNOptimizer.zero_grad()\n",
    "        upscaled_image_nonbtc = codec.Interpolate(compact_image)\n",
    "        reconstructed_without_btc,_ = recCNN(upscaled_image_nonbtc.cuda())\n",
    "        loss1 = loss_function_l1(\n",
    "            reconstructed_image=reconstructed_without_btc.cuda(),\n",
    "            original_image=data.cuda()\n",
    "        )\n",
    "        loss1.backward()\n",
    "        train_loss_1 += loss1.item()\n",
    "        comCNNOptimizer.step()\n",
    "        # print('Train Epoch: {} [{}/{} ({:.0f}%)]\\tLoss: {:.6f} - {:.6f}'.format(\n",
    "        #         epoch, batch_idx * len(data), len(train_loader.dataset),\n",
    "        #         100. * batch_idx / len(train_loader),\n",
    "        #         loss1.item() / len(data) , loss2.item()/len(data)))\n",
    "    end = time.time()\n",
    "    graph_l1[epoch] = train_loss_1/len(train_loader.dataset)\n",
    "    graph_l2[epoch] = train_loss_2/len(train_loader.dataset)\n",
    "    print('====> Epoch: {}\\nAverage loss 1: {:.4f}\\nAverage Loss 2: {:.4f}\\nRunning Time : {}'.format(\n",
    "          epoch, train_loss_1/len(train_loader.dataset),train_loss_2/len(train_loader.dataset),(end-start)))\n",
    "\n",
    "global_end = time.time()\n",
    "print(\"\\n========>Training Complete....\")\n",
    "print('Total Running Time : {}'.format((global_end-global_start)))"
   ],
   "metadata": {
    "collapsed": false,
    "pycharm": {
     "name": "#%% Train\n",
     "is_executing": false
    }
   }
  },
  {
   "cell_type": "code",
   "execution_count": 8,
   "outputs": [
    {
     "name": "stdout",
     "text": [
      "Saving Model...\n",
      "Model saved\n"
     ],
     "output_type": "stream"
    }
   ],
   "source": [
    "print(\"Saving Model...\")\n",
    "torch.save(comCNN.state_dict(),'../model/end-to-end-with-btc')\n",
    "print(\"Model saved\")"
   ],
   "metadata": {
    "collapsed": false,
    "pycharm": {
     "name": "#%% Saving Model\n",
     "is_executing": false
    }
   }
  },
  {
   "cell_type": "code",
   "execution_count": 7,
   "outputs": [
    {
     "data": {
      "text/plain": "<Figure size 432x288 with 2 Axes>",
      "image/png": "[encoded data removed]"
     },
     "metadata": {
      "needs_background": "light"
     },
     "output_type": "display_data"
    }
   ],
   "source": [
    "import matplotlib.pyplot as plt\n",
    "plt.figure(1)\n",
    "\n",
    "plt.subplot(221)\n",
    "plt.plot(graph_l1)\n",
    "plt.title(\"MSE L1\")\n",
    "plt.grid(True)\n",
    "\n",
    "plt.subplot(222)\n",
    "plt.plot(graph_l2)\n",
    "plt.title('MSE L2')\n",
    "plt.grid(True)\n",
    "plt.subplots_adjust(top=0.92, bottom=0.08, left=0.10, right=0.95, hspace=0.25,\n",
    "                    wspace=0.35)\n",
    "plt.show()\n"
   ],
   "metadata": {
    "collapsed": false,
    "pycharm": {
     "name": "#%% create graph\n",
     "is_executing": false
    }
   }
  },
  {
   "cell_type": "code",
   "execution_count": 9,
   "outputs": [],
   "source": [
    "# TODO Create psnr comparation end-to-end vs btc"
   ],
   "metadata": {
    "collapsed": false,
    "pycharm": {
     "name": "#%%\n",
     "is_executing": false
    }
   }
  },
  {
   "cell_type": "code",
   "execution_count": null,
   "outputs": [],
   "source": [
    "\n"
   ],
   "metadata": {
    "collapsed": false,
    "pycharm": {
     "name": "#%%\n"
    }
   }
  }
 ],
 "metadata": {
  "language_info": {
   "codemirror_mode": {
    "name": "ipython",
    "version": 2
   },
   "file_extension": ".py",
   "mimetype": "text/x-python",
   "name": "python",
   "nbconvert_exporter": "python",
   "pygments_lexer": "ipython2",
   "version": "2.7.6"
  },
  "kernelspec": {
   "name": "python3",
   "language": "python",
   "display_name": "Python 3"
  },
  "pycharm": {
   "stem_cell": {
    "cell_type": "raw",
    "source": [],
    "metadata": {
     "collapsed": false
    }
   }
  }
 },
 "nbformat": 4,
 "nbformat_minor": 0
}