{
 "cells": [
  {
   "cell_type": "code",
   "execution_count": 1,
   "outputs": [
    {
     "name": "stdout",
     "text": [
      "Importing module...\n",
      "Importing module sucess\n"
     ],
     "output_type": "stream"
    }
   ],
   "source": [
    "'''\n",
    "        Importing Library\n",
    "'''\n",
    "%load_ext autoreload\n",
    "%reload_ext autoreload\n",
    "%autoreload 2\n",
    "print(\"Importing module...\")\n",
    "import torch\n",
    "import numpy as np\n",
    "import torch\n",
    "\n",
    "from PIL import Image\n",
    "from src.utils.ODBTC import ODBTC\n",
    "from src.utils.Codec import Codec\n",
    "print(\"Importing module sucess\")"
   ],
   "metadata": {
    "collapsed": false,
    "pycharm": {
     "name": "#%% import lib\n",
     "is_executing": false
    }
   }
  },
  {
   "cell_type": "code",
   "execution_count": 2,
   "outputs": [
    {
     "name": "stdout",
     "text": [
      "(400, 1, 224, 224)\n"
     ],
     "output_type": "stream"
    }
   ],
   "source": [
    "img_arr = np.load('../dataset/npy/dataset_npy.npy')\n",
    "print(img_arr.shape)\n",
    "img_target = img_arr[0]"
   ],
   "metadata": {
    "collapsed": false,
    "pycharm": {
     "name": "#%% create odbt\n",
     "is_executing": false
    }
   }
  },
  {
   "cell_type": "code",
   "execution_count": 3,
   "outputs": [
    {
     "name": "stdout",
     "text": [
      "(224, 224)\n"
     ],
     "output_type": "stream"
    }
   ],
   "source": [
    "img_target = img_target[0]\n",
    "print(img_target.shape)"
   ],
   "metadata": {
    "collapsed": false,
    "pycharm": {
     "name": "#%%\n",
     "is_executing": false
    }
   }
  },
  {
   "cell_type": "code",
   "execution_count": 18,
   "outputs": [],
   "source": [
    "codec = Codec(4,4,'bilinear')"
   ],
   "metadata": {
    "collapsed": false,
    "pycharm": {
     "name": "#%%\n",
     "is_executing": false
    }
   }
  },
  {
   "cell_type": "code",
   "execution_count": 19,
   "outputs": [
    {
     "name": "stdout",
     "text": [
      "torch.Size([224, 224])\n"
     ],
     "output_type": "stream"
    }
   ],
   "source": [
    "new_tensor = torch.Tensor(img_target)\n",
    "print(new_tensor.shape)\n",
    "img_temp = codec.btc(img_target)"
   ],
   "metadata": {
    "collapsed": false,
    "pycharm": {
     "name": "#%%\n",
     "is_executing": false
    }
   }
  },
  {
   "cell_type": "code",
   "execution_count": 21,
   "outputs": [],
   "source": [
    "data = Image.fromarray(img_temp.numpy().astype(np.uint8))\n",
    "data.save('../dataset/temp/len_bmp.png')"
   ],
   "metadata": {
    "collapsed": false,
    "pycharm": {
     "name": "#%%\n",
     "is_executing": false
    }
   }
  }
 ],
 "metadata": {
  "language_info": {
   "codemirror_mode": {
    "name": "ipython",
    "version": 2
   },
   "file_extension": ".py",
   "mimetype": "text/x-python",
   "name": "python",
   "nbconvert_exporter": "python",
   "pygments_lexer": "ipython2",
   "version": "2.7.6"
  },
  "kernelspec": {
   "name": "python3",
   "language": "python",
   "display_name": "Python 3"
  },
  "pycharm": {
   "stem_cell": {
    "cell_type": "raw",
    "source": [],
    "metadata": {
     "collapsed": false
    }
   }
  }
 },
 "nbformat": 4,
 "nbformat_minor": 0
}