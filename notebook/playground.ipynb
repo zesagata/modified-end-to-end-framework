{
 "cells": [
  {
   "cell_type": "code",
   "execution_count": 10,
   "outputs": [],
   "source": [
    "import numpy as np\n",
    "import numpy\n",
    "import torch"
   ],
   "metadata": {
    "collapsed": false,
    "pycharm": {
     "name": "#%%\n",
     "is_executing": false
    }
   }
  },
  {
   "cell_type": "code",
   "execution_count": 138,
   "outputs": [],
   "source": [
    "def btc(bitmap,minmax):\n",
    "        for i in range(len(minmax)):\n",
    "            x = int(len(bitmap[i][0])/len(minmax[0][0]))\n",
    "            y = int(len(bitmap[i][0])/len(minmax[0][0]))\n",
    "            temp_output = bitmap[i][0].clone()\n",
    "            block_image = torch.split(torch.cat(torch.split(bitmap[i][0], y, dim=1)), x)\n",
    "            # min = numpy.split(numpy.concatenate(numpy.split(minmax[i][0],4,axis=1)),4)\n",
    "            # max = numpy.split(numpy.concatenate(numpy.split(minmax[i][1],4,axis=1)),4)\n",
    "            min = minmax[i][0].transpose(0,1).flatten()\n",
    "            max = minmax[i][1].transpose(0,1).flatten()\n",
    "            \n",
    "            # print(block_image[0])\n",
    "            # block_image[0][block_image[0] == 1] = 99\n",
    "            # print(block_image[0])\n",
    "            # \n",
    "            # print(len(min))\n",
    "            # print(len(max))\n",
    "            # print(len(block_image))\n",
    "            \n",
    "            for j in range(len(min)):\n",
    "                block_image[j][block_image[j] == 1] = max[j]\n",
    "                block_image[j][block_image[j] == 0] = min[j]\n",
    "            \n",
    "            # print(len(min))\n",
    "            # print(len(max))\n",
    "            # print(min)\n",
    "            # print(max)\n",
    "            \n",
    "            block_image = torch.cat(block_image)\n",
    "            temp_split = torch.split(block_image,8)\n",
    "            temp_cat = torch.cat(temp_split,dim=1)\n",
    "            \n",
    "            bitmap[i][0]  = temp_cat\n",
    "            \n",
    "            # print(min[0])\n",
    "            # print(block_image)\n",
    "            # block_image_merge = torch.cat(block_image,out=temp_output)\n",
    "            # print(block_image_merge)\n",
    "            # print(block_image_merge.shape)\n",
    "            # print(temp_output)\n",
    "            \n",
    "        return bitmap\n",
    "\n",
    "\n",
    "temp = np.random.randint(0,2,(1,1,8,8))\n",
    "minmax = np.random.randint(0,10,(1,2,4,4))\n",
    "temp = torch.Tensor(temp)\n",
    "minmax = torch.Tensor(minmax)"
   ],
   "metadata": {
    "collapsed": false,
    "pycharm": {
     "name": "#%%\n",
     "is_executing": false
    }
   }
  },
  {
   "cell_type": "code",
   "execution_count": 139,
   "outputs": [
    {
     "name": "stdout",
     "text": [
      "tensor([[[[0., 0., 0., 1., 1., 1., 0., 0.],\n          [1., 1., 1., 1., 0., 1., 0., 0.],\n          [0., 0., 1., 1., 0., 0., 0., 1.],\n          [0., 1., 1., 1., 1., 1., 1., 0.],\n          [1., 1., 1., 0., 0., 0., 1., 1.],\n          [1., 0., 0., 1., 1., 0., 0., 0.],\n          [1., 0., 1., 1., 1., 0., 0., 0.],\n          [0., 1., 0., 0., 0., 0., 1., 0.]]]])\ntensor([[[[7., 6., 6., 5.],\n          [1., 8., 0., 3.],\n          [0., 5., 7., 7.],\n          [9., 2., 5., 1.]],\n\n         [[7., 7., 5., 7.],\n          [2., 4., 0., 1.],\n          [4., 9., 5., 2.],\n          [7., 2., 1., 7.]]]])\ntorch.Size([1, 1, 8, 8])\ntorch.Size([1, 2, 4, 4])\n"
     ],
     "output_type": "stream"
    }
   ],
   "source": [
    "print(temp)\n",
    "print(minmax)\n",
    "print(temp.shape)\n",
    "print(minmax.shape)"
   ],
   "metadata": {
    "collapsed": false,
    "pycharm": {
     "name": "#%%\n",
     "is_executing": false
    }
   }
  },
  {
   "cell_type": "code",
   "execution_count": 140,
   "outputs": [],
   "source": [
    "btm = btc(temp,minmax)"
   ],
   "metadata": {
    "collapsed": false,
    "pycharm": {
     "name": "#%%\n",
     "is_executing": false
    }
   }
  },
  {
   "cell_type": "code",
   "execution_count": 141,
   "outputs": [
    {
     "name": "stdout",
     "text": [
      "tensor([[[[7., 7., 6., 7., 5., 5., 5., 5.],\n          [7., 7., 7., 7., 6., 5., 5., 5.],\n          [1., 1., 4., 4., 0., 0., 3., 1.],\n          [1., 2., 4., 4., 0., 0., 1., 3.],\n          [4., 4., 9., 5., 7., 7., 2., 2.],\n          [4., 0., 5., 9., 5., 7., 7., 7.],\n          [7., 9., 2., 2., 1., 5., 1., 1.],\n          [9., 7., 2., 2., 5., 5., 7., 1.]]]])\n"
     ],
     "output_type": "stream"
    }
   ],
   "source": [
    "print(btm)"
   ],
   "metadata": {
    "collapsed": false,
    "pycharm": {
     "name": "#%%\n",
     "is_executing": false
    }
   }
  },
  {
   "cell_type": "code",
   "execution_count": null,
   "outputs": [],
   "source": [
    "\n"
   ],
   "metadata": {
    "collapsed": false,
    "pycharm": {
     "name": "#%%\n"
    }
   }
  }
 ],
 "metadata": {
  "language_info": {
   "codemirror_mode": {
    "name": "ipython",
    "version": 2
   },
   "file_extension": ".py",
   "mimetype": "text/x-python",
   "name": "python",
   "nbconvert_exporter": "python",
   "pygments_lexer": "ipython2",
   "version": "2.7.6"
  },
  "kernelspec": {
   "name": "python3",
   "language": "python",
   "display_name": "Python 3"
  },
  "pycharm": {
   "stem_cell": {
    "cell_type": "raw",
    "source": [],
    "metadata": {
     "collapsed": false
    }
   }
  }
 },
 "nbformat": 4,
 "nbformat_minor": 0
}