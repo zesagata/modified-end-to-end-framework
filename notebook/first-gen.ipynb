{
 "cells": [
  {
   "cell_type": "code",
   "execution_count": 1,
   "metadata": {
    "collapsed": true,
    "pycharm": {
     "name": "#%% importing library\n",
     "is_executing": false
    }
   },
   "outputs": [],
   "source": [
    "import torch\n",
    "import torchvision\n",
    "\n",
    "from os.path import exists\n",
    "from wheel.pep425tags import get_abbr_impl, get_impl_ver, get_abi_tag\n",
    "from torch import nn, optim\n",
    "from torchvision import datasets,transforms\n",
    "from torch.autograd import Variable\n",
    "from PIL import Image\n"
   ]
  },
  {
   "cell_type": "code",
   "execution_count": 2,
   "outputs": [],
   "source": [
    "import math\n",
    "irange = range\n",
    "\n",
    "\n",
    "def make_grid(tensor, nrow=8, padding=2,\n",
    "              normalize=False, range=None, scale_each=False, pad_value=0):\n",
    "    \"\"\"Make a grid of images.\n",
    "    Args:\n",
    "        tensor (Tensor or list): 4D mini-batch Tensor of shape (B x C x H x W)\n",
    "            or a list of images all of the same size.\n",
    "        nrow (int, optional): Number of images displayed in each row of the grid.\n",
    "            The Final grid size is (B / nrow, nrow). Default is 8.\n",
    "        padding (int, optional): amount of padding. Default is 2.\n",
    "        normalize (bool, optional): If True, shift the image to the range (0, 1),\n",
    "            by subtracting the minimum and dividing by the maximum pixel value.\n",
    "        range (tuple, optional): tuple (min, max) where min and max are numbers,\n",
    "            then these numbers are used to normalize the image. By default, min and max\n",
    "            are computed from the tensor.\n",
    "        scale_each (bool, optional): If True, scale each image in the batch of\n",
    "            images separately rather than the (min, max) over all images.\n",
    "        pad_value (float, optional): Value for the padded pixels.\n",
    "    Example:\n",
    "        See this notebook `here <https://gist.github.com/anonymous/bf16430f7750c023141c562f3e9f2a91>`_\n",
    "    \"\"\"\n",
    "    if not (torch.is_tensor(tensor) or\n",
    "            (isinstance(tensor, list) and all(torch.is_tensor(t) for t in tensor))):\n",
    "        raise TypeError('tensor or list of tensors expected, got {}'.format(type(tensor)))\n",
    "\n",
    "    # if list of tensors, convert to a 4D mini-batch Tensor\n",
    "    if isinstance(tensor, list):\n",
    "        tensor = torch.stack(tensor, dim=0)\n",
    "\n",
    "    if tensor.dim() == 2:  # single image H x W\n",
    "        tensor = tensor.view(1, tensor.size(0), tensor.size(1))\n",
    "    if tensor.dim() == 3:  # single image\n",
    "        if tensor.size(0) == 1:  # if single-channel, convert to 3-channel\n",
    "            tensor = torch.cat((tensor, tensor, tensor), 0)\n",
    "        tensor = tensor.view(1, tensor.size(0), tensor.size(1), tensor.size(2))\n",
    "\n",
    "    if tensor.dim() == 4 and tensor.size(1) == 1:  # single-channel images\n",
    "        tensor = torch.cat((tensor, tensor, tensor), 1)\n",
    "\n",
    "    if normalize is True:\n",
    "        tensor = tensor.clone()  # avoid modifying tensor in-place\n",
    "        if range is not None:\n",
    "            assert isinstance(range, tuple), \\\n",
    "                \"range has to be a tuple (min, max) if specified. min and max are numbers\"\n",
    "\n",
    "        def norm_ip(img, min, max):\n",
    "            img.clamp_(min=min, max=max)\n",
    "            img.add_(-min).div_(max - min + 1e-5)\n",
    "\n",
    "        def norm_range(t, range):\n",
    "            if range is not None:\n",
    "                norm_ip(t, range[0], range[1])\n",
    "            else:\n",
    "                norm_ip(t, float(t.min()), float(t.max()))\n",
    "\n",
    "        if scale_each is True:\n",
    "            for t in tensor:  # loop over mini-batch dimension\n",
    "                norm_range(t, range)\n",
    "        else:\n",
    "            norm_range(tensor, range)\n",
    "\n",
    "    if tensor.size(0) == 1:\n",
    "        return tensor.squeeze()\n",
    "\n",
    "    # make the mini-batch of images into a grid\n",
    "    nmaps = tensor.size(0)\n",
    "    xmaps = min(nrow, nmaps)\n",
    "    ymaps = int(math.ceil(float(nmaps) / xmaps))\n",
    "    height, width = int(tensor.size(2) + padding), int(tensor.size(3) + padding)\n",
    "    grid = tensor.new(3, height * ymaps + padding, width * xmaps + padding).fill_(pad_value)\n",
    "    k = 0\n",
    "    for y in irange(ymaps):\n",
    "        for x in irange(xmaps):\n",
    "            if k >= nmaps:\n",
    "                break\n",
    "            grid.narrow(1, y * height + padding, height - padding)\\\n",
    "                .narrow(2, x * width + padding, width - padding)\\\n",
    "                .copy_(tensor[k])\n",
    "            k = k + 1\n",
    "    return grid\n",
    "\n",
    "\n",
    "def save_image(tensor, filename, nrow=8, padding=2,\n",
    "               normalize=False, range=None, scale_each=False, pad_value=0):\n",
    "    \"\"\"Save a given Tensor into an image file.\n",
    "    Args:\n",
    "        tensor (Tensor or list): Image to be saved. If given a mini-batch tensor,\n",
    "            saves the tensor as a grid of images by calling ``make_grid``.\n",
    "        **kwargs: Other arguments are documented in ``make_grid``.\n",
    "    \"\"\"\n",
    "    from PIL import Image\n",
    "    grid = make_grid(tensor, nrow=nrow, padding=padding, pad_value=pad_value,\n",
    "                     normalize=normalize, range=range, scale_each=scale_each)\n",
    "    ndarr = grid.mul(255).clamp(0, 255).byte().permute(1, 2, 0).cpu().numpy()\n",
    "    im = Image.fromarray(ndarr)\n",
    "    im.save(filename)\n"
   ],
   "metadata": {
    "collapsed": false,
    "pycharm": {
     "name": "#%%\n",
     "is_executing": false
    }
   }
  },
  {
   "cell_type": "code",
   "execution_count": 3,
   "outputs": [
    {
     "name": "stdout",
     "text": [
      "Files already downloaded and verified\n",
      "Files already downloaded and verified\n"
     ],
     "output_type": "stream"
    }
   ],
   "source": [
    "image_transform = transforms.Compose([\n",
    "    transforms.ToTensor(),\n",
    "    transforms.Normalize((0.5,0.5,0.5),(0.24703223,  0.24348513 , 0.26158784))\n",
    "])\n",
    "\n",
    "train_set = datasets.CIFAR10(root='./data',train=True,download=True,transform=image_transform)\n",
    "\n",
    "train_loader = torch.utils.data.DataLoader(train_set, batch_size=16,\n",
    "                                          shuffle=True, num_workers=2)\n",
    "\n",
    "test_set = datasets.CIFAR10(root='./data',train=False,download=True,transform=image_transform)\n",
    "\n",
    "test_loader = torch.utils.data.DataLoader(test_set,batch_size=16,\n",
    "                                          shuffle=True,num_workers=2)\n"
   ],
   "metadata": {
    "collapsed": false,
    "pycharm": {
     "name": "#%% prepare dataset\n",
     "is_executing": false
    }
   }
  },
  {
   "cell_type": "code",
   "execution_count": 4,
   "outputs": [],
   "source": [
    "HEIGHT = 32\n",
    "WIDTH = 32\n",
    "EPOCH = 10\n",
    "LOG_INTERVAL = 500\n"
   ],
   "metadata": {
    "collapsed": false,
    "pycharm": {
     "name": "#%% parameters\n",
     "is_executing": false
    }
   }
  },
  {
   "cell_type": "code",
   "execution_count": 5,
   "outputs": [],
   "source": [
    "class Codex(nn.Module):\n",
    "    def __init__(self,size,mode):\n",
    "        super(Codex,self).__init__()\n",
    "        self.size = size\n",
    "        self.mode = mode\n",
    "        self.encode_decode = nn.functional.interpolate\n",
    "        \n",
    "    def forward(self,x):\n",
    "        x = self.encode_decode(x,size=self.size,mode=self.mode)\n",
    "        return x\n",
    "\n",
    "class EndToEnd(nn.Module):\n",
    "    def __init__(self,channel,height,mode):\n",
    "        super(EndToEnd,self).__init__()\n",
    "        \n",
    "        self.conv1 = nn.Conv2d(channel,out_channels=64,kernel_size=3,stride=1,padding=1)\n",
    "        self.conv2 = nn.Conv2d(64,64,kernel_size=3,stride=2,padding=0)\n",
    "        self.bn1 = nn.BatchNorm2d(64,affine=False)\n",
    "        self.conv3 = nn.Conv2d(64, channel, kernel_size=3, stride=1, padding=1)\n",
    "        \n",
    "        self.interpolate = Codex(size=height,mode=mode)\n",
    "        self.deconv1 = nn.Conv2d(channel,out_channels=64,kernel_size=3,stride=1,padding=1)\n",
    "        self.bn2 = nn.BatchNorm2d(64,affine=False)\n",
    "        \n",
    "        self.deconv_n = nn.Conv2d(in_channels=64,out_channels=64,kernel_size=3,stride=1,padding=1)\n",
    "        self.bn_n = nn.BatchNorm2d(64,affine=False)\n",
    "        \n",
    "        \n",
    "        self.deconv3 = nn.ConvTranspose2d(64,channel,kernel_size=3,stride=1,padding=1)\n",
    "        \n",
    "        self.relu = nn.ReLU()\n",
    "    \n",
    "    def reparameterize(self, mu, logvar):\n",
    "        pass\n",
    "    \n",
    "    def forward_comcnn(self,x):\n",
    "        out = self.relu(self.conv1(x))\n",
    "        out = self.relu(self.bn1(self.conv2(out)))\n",
    "        return self.conv3(out)\n",
    "    \n",
    "    def forward_reccnn(self,z):\n",
    "        decoded_image = self.interpolate(z)\n",
    "        out = self.relu(self.deconv1(decoded_image))\n",
    "        for _ in range(18):\n",
    "            out = self.relu(self.bn_n(self.deconv_n(out)))\n",
    "        out = self.deconv3(out)\n",
    "        final = out + decoded_image\n",
    "        return final,out,decoded_image\n",
    "    \n",
    "    def forward(self, x):\n",
    "        com_img = self.forward_comcnn(x)\n",
    "        final,out,upscaled = self.forward_reccnn(com_img)\n",
    "        return final,out,upscaled,com_img,x"
   ],
   "metadata": {
    "collapsed": false,
    "pycharm": {
     "name": "#%% Define Network\n",
     "is_executing": false
    }
   }
  },
  {
   "cell_type": "code",
   "execution_count": 6,
   "outputs": [
    {
     "name": "stdout",
     "text": [
      "Cuda is avaliable,using cuda instead of cpu\n"
     ],
     "output_type": "stream"
    }
   ],
   "source": [
    "CUDA = torch.cuda.is_available()\n",
    "\n",
    "if CUDA:\n",
    "    print(\"Cuda is avaliable,using cuda instead of cpu\")\n",
    "    model = EndToEnd(3,32,'bicubic').cuda()\n",
    "else:\n",
    "    print(\"Cuda is not available, using cpu\")\n",
    "    model = EndToEnd(3,32,'bicubic')\n",
    "    \n",
    "optimizer = optim.Adam(model.parameters(),lr=1e-3)"
   ],
   "metadata": {
    "collapsed": false,
    "pycharm": {
     "name": "#%% create a model\n",
     "is_executing": false
    }
   }
  },
  {
   "cell_type": "code",
   "execution_count": 7,
   "outputs": [],
   "source": [
    "def loss_function(final_image,residual_image,upscaled_image,com_image,original_image):\n",
    "    com_loss = nn.MSELoss(size_average=False)(original_image,final_image)\n",
    "    rec_loss = nn.MSELoss(size_average=False)(residual_image,upscaled_image-upscaled_image)\n",
    "    return com_loss+rec_loss\n"
   ],
   "metadata": {
    "collapsed": false,
    "pycharm": {
     "name": "#%% create loss function\n",
     "is_executing": false
    }
   }
  },
  {
   "cell_type": "code",
   "execution_count": 8,
   "outputs": [],
   "source": [
    "def train(epoch):\n",
    "    model.train()\n",
    "    train_loss  =0\n",
    "    for batch_idx,(data,_) in enumerate(train_loader):\n",
    "        data = Variable(data)\n",
    "        optimizer.zero_grad()\n",
    "        final, residual_img, upscaled_image, com_img, orig_im = model(data.cuda())\n",
    "        loss = loss_function(final, residual_img, upscaled_image, com_img, orig_im)\n",
    "        loss.backward()\n",
    "        train_loss += loss.item()\n",
    "        optimizer.step()\n",
    "        if batch_idx % LOG_INTERVAL == 0:\n",
    "            print('Train Epoch: {} [{}/{} ({:.0f}%)]\\tLoss: {:.6f}'.format(\n",
    "                epoch, batch_idx * len(data), len(train_loader.dataset),\n",
    "                100. * batch_idx / len(train_loader),\n",
    "                loss.item() / len(data)))\n",
    "\n",
    "    print('====> Epoch: {} Average loss: {:.4f}'.format(\n",
    "          epoch, train_loss / len(train_loader.dataset)))\n",
    "    \n",
    "    "
   ],
   "metadata": {
    "collapsed": false,
    "pycharm": {
     "name": "#%% def training function\n",
     "is_executing": false
    }
   }
  },
  {
   "cell_type": "code",
   "execution_count": 9,
   "outputs": [],
   "source": [
    "def test(epoch):\n",
    "  \n",
    "  model.eval()\n",
    "  test_loss = 0\n",
    "  for i, (data, _) in enumerate(test_loader):\n",
    "        data = Variable(data, volatile=True)\n",
    "        final, residual_img, upscaled_image, com_img, orig_im = model(data.cuda())\n",
    "        test_loss += loss_function(final, residual_img, upscaled_image, com_img, orig_im).item()\n",
    "        if epoch == EPOCH and i == 0:\n",
    "#             save_image(final.data[0],'reconstruction_final',nrow=8)\n",
    "#             save_image(com_img.data[0],'com_img',nrow=8)\n",
    "            n = min(data.size(0), 6)\n",
    "            print(\"saving the image \"+str(n))\n",
    "            comparison = torch.cat([data[:n],\n",
    "              final[:n].cpu()])\n",
    "            comparison = comparison.cpu()\n",
    "#             print(comparison.data)\n",
    "            save_image(com_img[:n].data,\n",
    "                       'compressed_' + str(epoch) +'.png', nrow=n)\n",
    "            save_image(comparison.data,\n",
    "                       'reconstruction_' + str(epoch) +'.png', nrow=n)\n",
    "\n",
    "  test_loss /= len(test_loader.dataset)\n",
    "  print('====> Test set loss: {:.4f}'.format(test_loss))"
   ],
   "metadata": {
    "collapsed": false,
    "pycharm": {
     "name": "#%% deff test function\n",
     "is_executing": false
    }
   }
  },
  {
   "cell_type": "code",
   "execution_count": 10,
   "outputs": [
    {
     "name": "stderr",
     "text": [
      "d:\\pycharmprojects\\end-to-end-compression-framework\\venv\\lib\\site-packages\\torch\\nn\\functional.py:2479: UserWarning: Default upsampling behavior when mode=bicubic is changed to align_corners=False since 0.4.0. Please specify align_corners=True if the old behavior is desired. See the documentation of nn.Upsample for details.\n  \"See the documentation of nn.Upsample for details.\".format(mode))\nd:\\pycharmprojects\\end-to-end-compression-framework\\venv\\lib\\site-packages\\torch\\nn\\_reduction.py:43: UserWarning: size_average and reduce args will be deprecated, please use reduction='sum' instead.\n  warnings.warn(warning.format(ret))\n",
      "d:\\pycharmprojects\\end-to-end-compression-framework\\venv\\lib\\site-packages\\ipykernel_launcher.py:6: UserWarning: volatile was removed and now has no effect. Use `with torch.no_grad():` instead.\n  \n"
     ],
     "output_type": "stream"
    },
    {
     "name": "stdout",
     "text": [
      "Train Epoch: 1 [0/50000 (0%)]\tLoss: 25140.876953\n",
      "Train Epoch: 1 [8000/50000 (16%)]\tLoss: 574.305481\n",
      "Train Epoch: 1 [16000/50000 (32%)]\tLoss: 614.861206\n",
      "Train Epoch: 1 [24000/50000 (48%)]\tLoss: 747.359131\n",
      "Train Epoch: 1 [32000/50000 (64%)]\tLoss: 683.592896\n",
      "Train Epoch: 1 [40000/50000 (80%)]\tLoss: 481.753296\n",
      "Train Epoch: 1 [48000/50000 (96%)]\tLoss: 548.614685\n",
      "====> Epoch: 1 Average loss: 751.8062\n",
      "====> Test set loss: 514.8993\nDONE---> total time  174.5798966884613\n"
     ],
     "output_type": "stream"
    }
   ],
   "source": [
    "import time\n",
    "start = time.time()\n",
    "for epoch in range(1,1+1):\n",
    "    temp = time.time()\n",
    "    train(epoch)\n",
    "    test(epoch)\n",
    "    if epoch == EPOCH:\n",
    "        pass\n",
    "    temp1 = time.time()\n",
    "    print(\"DONE---> total time \",temp1-temp)\n",
    "\n",
    "end = time.time()\n",
    "torch.save(model.state_dict(),'./net.pth')\n",
    " "
   ],
   "metadata": {
    "collapsed": false,
    "pycharm": {
     "name": "#%% Run the code\n",
     "is_executing": false
    }
   }
  },
  {
   "cell_type": "code",
   "execution_count": 53,
   "outputs": [
    {
     "name": "stdout",
     "text": [
      "Total Time Execution  4368.165201663971\n"
     ],
     "output_type": "stream"
    }
   ],
   "source": [
    "print(\"Total Time Execution \",end-start)"
   ],
   "metadata": {
    "collapsed": false,
    "pycharm": {
     "name": "#%%\n",
     "is_executing": false
    }
   }
  },
  {
   "cell_type": "code",
   "execution_count": 13,
   "outputs": [
    {
     "name": "stderr",
     "text": [
      "d:\\pycharmprojects\\end-to-end-compression-framework\\venv\\lib\\site-packages\\ipykernel_launcher.py:8: UserWarning: volatile was removed and now has no effect. Use `with torch.no_grad():` instead.\n  \n",
      "d:\\pycharmprojects\\end-to-end-compression-framework\\venv\\lib\\site-packages\\torch\\nn\\functional.py:2479: UserWarning: Default upsampling behavior when mode=bilinear is changed to align_corners=False since 0.4.0. Please specify align_corners=True if the old behavior is desired. See the documentation of nn.Upsample for details.\n  \"See the documentation of nn.Upsample for details.\".format(mode))\nd:\\pycharmprojects\\end-to-end-compression-framework\\venv\\lib\\site-packages\\torch\\nn\\_reduction.py:43: UserWarning: size_average and reduce args will be deprecated, please use reduction='sum' instead.\n  warnings.warn(warning.format(ret))\n"
     ],
     "output_type": "stream"
    },
    {
     "name": "stdout",
     "text": [
      "saving the image 6\n",
      "====> Test set loss: 691.6640\n"
     ],
     "output_type": "stream"
    }
   ],
   "source": [
    "\n",
    "model.load_state_dict(torch.load('net.pth'))\n",
    "\n",
    "def save_images():\n",
    "  epoch = EPOCH\n",
    "  model.eval()\n",
    "  test_loss = 0\n",
    "  for i, (data, _) in enumerate(test_loader):\n",
    "        data = Variable(data, volatile=True)\n",
    "        final, residual_img, upscaled_image, com_img, orig_im = model(data.cuda())\n",
    "        test_loss += loss_function(final, residual_img, upscaled_image, com_img, orig_im).item()\n",
    "        if i == 3:\n",
    "#             save_image(final.data[0],'reconstruction_final',nrow=8)\n",
    "#             save_image(com_img.data[0],'com_img',nrow=8)\n",
    "            n = min(data.size(0), 6)\n",
    "            print(\"saving the image \"+str(n))\n",
    "            comparison = torch.cat([data[:n],\n",
    "              final[:n].cpu()])\n",
    "            comparison = comparison.cpu()\n",
    "#             print(comparison.data)\n",
    "            save_image(com_img[:1].data,\n",
    "                         'compressed_' + str(i) +'.png', nrow=n)\n",
    "            save_image(final[:1].data,\n",
    "                        'final_' + str(epoch) +'.png', nrow=n)\n",
    "            save_image(orig_im[:1].data,\n",
    "                        'original_' + str(epoch) +'.png', nrow=n)\n",
    "\n",
    "\n",
    "  test_loss /= len(test_loader.dataset)\n",
    "  print('====> Test set loss: {:.4f}'.format(test_loss))\n",
    "\n",
    "save_images()"
   ],
   "metadata": {
    "collapsed": false,
    "pycharm": {
     "name": "#%%\n",
     "is_executing": false
    }
   }
  },
  {
   "cell_type": "code",
   "execution_count": 15,
   "outputs": [
    {
     "name": "stdout",
     "text": [
      "32.90015044758086\n"
     ],
     "output_type": "stream"
    }
   ],
   "source": [
    "import numpy \n",
    "import math\n",
    "import cv2\n",
    "original = cv2.imread(\"original_10.png\")\n",
    "contrast = cv2.imread(\"final_10.png\",1)\n",
    "def psnr(img1, img2):\n",
    "    mse = numpy.mean( (img1 - img2) ** 2 )\n",
    "    if mse == 0:\n",
    "        return 100\n",
    "    PIXEL_MAX = 255.0\n",
    "    return 20 * math.log10(PIXEL_MAX / math.sqrt(mse))\n",
    "\n",
    "d=psnr(original,contrast)\n",
    "print(d)"
   ],
   "metadata": {
    "collapsed": false,
    "pycharm": {
     "name": "#%%\n",
     "is_executing": false
    }
   }
  }
 ],
 "metadata": {
  "language_info": {
   "codemirror_mode": {
    "name": "ipython",
    "version": 2
   },
   "file_extension": ".py",
   "mimetype": "text/x-python",
   "name": "python",
   "nbconvert_exporter": "python",
   "pygments_lexer": "ipython2",
   "version": "2.7.6"
  },
  "kernelspec": {
   "name": "python3",
   "language": "python",
   "display_name": "Python 3"
  },
  "pycharm": {
   "stem_cell": {
    "cell_type": "raw",
    "source": [],
    "metadata": {
     "collapsed": false
    }
   }
  }
 },
 "nbformat": 4,
 "nbformat_minor": 0
}