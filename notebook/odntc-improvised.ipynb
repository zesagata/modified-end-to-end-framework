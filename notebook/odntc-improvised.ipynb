{
 "cells": [
  {
   "cell_type": "code",
   "execution_count": 2,
   "outputs": [
    {
     "name": "stdout",
     "text": [
      "Importing Library...\n",
      "Importing Library Success\n"
     ],
     "output_type": "stream"
    }
   ],
   "source": [
    "print(\"Importing Library...\")\n",
    "import torch\n",
    "import torchvision\n",
    "import torch.utils.data as putils\n",
    "\n",
    "from torch import nn, optim\n",
    "from torchvision import datasets,transforms\n",
    "from torch.autograd import Variable\n",
    "from PIL import Image\n",
    "import numpy\n",
    "import numpy as np\n",
    "import math\n",
    "\n",
    "print(\"Importing Library Success\")\n"
   ],
   "metadata": {
    "collapsed": false,
    "pycharm": {
     "name": "#%% importing library\n",
     "is_executing": false
    }
   }
  },
  {
   "cell_type": "code",
   "execution_count": 3,
   "outputs": [
    {
     "name": "stdout",
     "text": [
      "Defining Class...\nDefining Class Succes\n"
     ],
     "output_type": "stream"
    }
   ],
   "source": [
    "print(\"Defining Class...\")\n",
    "class ComCNN(nn.Module):\n",
    "    def __init__(self, channel):\n",
    "        super(ComCNN, self).__init__()\n",
    "        self.conv1 = nn.Conv2d(channel, out_channels=64, kernel_size=3, padding=1)\n",
    "        self.conv2 = nn.Conv2d(64, 64, kernel_size=3, stride=2, padding=1)\n",
    "        self.bn1 = nn.BatchNorm2d(64, affine=False)\n",
    "        self.conv3 = nn.Conv2d(64, channel, kernel_size=3, padding=1)\n",
    "        self.relu = nn.ReLU()\n",
    "\n",
    "    def forward(self, x):\n",
    "        out = self.relu(self.conv1(x))\n",
    "        out = self.relu(self.bn1(self.conv2(out)))\n",
    "        return self.conv3(out)\n",
    "\n",
    "class MinMaxCNN(nn.Module):\n",
    "    def __init__(self, channel,interpolate_size=2,mode='bicubic',deep=3):\n",
    "        super(MinMaxCNN, self).__init__()\n",
    "        self.deconv1 = nn.Conv2d(channel, out_channels=64, kernel_size=3, padding=1)\n",
    "        self.bn2 = nn.BatchNorm2d(64, affine=False)\n",
    "        self.deconv_n = nn.Conv2d(in_channels=64, out_channels=64,kernel_size=3, padding=1)\n",
    "        self.bn_n = nn.BatchNorm2d(64, affine=False)\n",
    "        self.deconv3 = nn.ConvTranspose2d(64, 2, kernel_size=3, padding=1)\n",
    "        self.maxpool = nn.MaxPool2d(kernel_size=3,stride=1,padding=1)\n",
    "        self.relu = nn.ReLU()\n",
    "        self.sigmoid = nn.Sigmoid()\n",
    "        self.interpolate_size = interpolate_size\n",
    "        self.mode = mode\n",
    "\n",
    "    def forward(self, x):\n",
    "        # out = self.interpolate(x)\n",
    "        out = x\n",
    "        out = self.relu(self.deconv1(x))\n",
    "        out = self.relu(self.bn_n(self.deconv_n(out)))\n",
    "        out = (self.deconv3(out))\n",
    "        out = self.maxpool(out)\n",
    "        return self.sigmoid(out)\n",
    "    \n",
    "    def interpolate(self,x):\n",
    "        return nn.functional.interpolate(input=x, scale_factor=self.interpolate_size, mode=self.mode,\n",
    "                                         align_corners=False)\n",
    "\n",
    "class BitmapRecCNN(nn.Module):\n",
    "    def __init__(self, channel,interpolate_size=2,mode='bicubic',deep=3):\n",
    "        super(BitmapRecCNN, self).__init__()\n",
    "        self.deconv1 = nn.Conv2d(channel, out_channels=64, kernel_size=3, padding=1)\n",
    "        self.bn2 = nn.BatchNorm2d(64, affine=False)\n",
    "        self.deconv_n = nn.Conv2d(in_channels=64, out_channels=64, kernel_size=3, padding=1)\n",
    "        self.bn_n = nn.BatchNorm2d(64, affine=False)\n",
    "        self.deconv3 = nn.ConvTranspose2d(64, channel, kernel_size=3, padding=1)\n",
    "        self.relu = nn.ReLU()\n",
    "        self.sigmoid = nn.Sigmoid()\n",
    "\n",
    "        self.interpolate_size = interpolate_size\n",
    "        self.mode = mode\n",
    "        self.deep = 5\n",
    "\n",
    "    def forward(self, x):\n",
    "        x = self.interpolate(x)\n",
    "        out = self.relu(self.deconv1(x))\n",
    "        for _ in range(self.deep):\n",
    "            out = self.relu(self.bn_n(self.deconv_n(out)))\n",
    "        out = self.sigmoid(self.deconv3(out))\n",
    "        rounding = self.rounding_layer(out)\n",
    "        return rounding\n",
    "\n",
    "    def interpolate(self,x):\n",
    "        return nn.functional.interpolate(input=x, scale_factor=self.interpolate_size, mode=self.mode,\n",
    "                                         align_corners=False)\n",
    "\n",
    "    def rounding_layer(self,batch_image):\n",
    "        return batch_image.round()\n",
    "    \n",
    "    \n",
    "class Network(nn.Module):\n",
    "    def __init__(self,comCNN,bitmapCNN,minmaxCNN):\n",
    "        super(Network,self).__init__()\n",
    "        self.first = comCNN\n",
    "        self.second = bitmapCNN\n",
    "        self.third = minmaxCNN\n",
    "        \n",
    "    def forward(self, x):\n",
    "        compact_repre = self.first(x.cuda())\n",
    "        # print(\"repre : {}\".format(compact_repre.shape))\n",
    "        bitmap_repre = self.second(compact_repre.cuda())\n",
    "        # print(\"bitmap : {}\".format(bitmap_repre.shape))\n",
    "        minmax_repre = self.third(compact_repre.cuda())\n",
    "        # print(\"minmax : {}\".format(minmax_repre.shape))\n",
    "        recon = self.btc(bitmap_repre,minmax_repre)\n",
    "        # print(recon.shape)\n",
    "        \n",
    "        \n",
    "        return recon,minmax_repre,bitmap_repre,compact_repre\n",
    "    \n",
    "    def btc(self,bitmap,minmax):\n",
    "        result = bitmap.clone()\n",
    "        for i in range(len(minmax)):\n",
    "            x = int(len(bitmap[i][0])/len(minmax[0][0]))\n",
    "            y = int(len(bitmap[i][0])/len(minmax[0][0]))\n",
    "            temp_output = bitmap[i][0].clone()\n",
    "            block_image = torch.split(torch.cat(torch.split(bitmap[i][0], y, dim=1)), x)\n",
    "            # min = numpy.split(numpy.concatenate(numpy.split(minmax[i][0],4,axis=1)),4)\n",
    "            # max = numpy.split(numpy.concatenate(numpy.split(minmax[i][1],4,axis=1)),4)\n",
    "            min = minmax[i][0].transpose(0,1).flatten()\n",
    "            max = minmax[i][1].transpose(0,1).flatten()\n",
    "            \n",
    "            # print(block_image[0])\n",
    "            # block_image[0][block_image[0] == 1] = 99\n",
    "            # print(block_image[0])\n",
    "            # \n",
    "            # print(len(min))\n",
    "            # print(len(max))\n",
    "            # print(len(block_image))\n",
    "            \n",
    "            for j in range(len(min)):\n",
    "                block_image[j][block_image[j] == 1] = max[j]\n",
    "                block_image[j][block_image[j] == 0] = min[j]\n",
    "            \n",
    "            # print(len(min))\n",
    "            # print(len(max))\n",
    "            # print(min)\n",
    "            # print(max)\n",
    "            \n",
    "            block_image = torch.cat(block_image)\n",
    "            temp_split = torch.split(block_image,int(len(bitmap[i][0])))\n",
    "            temp_cat = torch.cat(temp_split,dim=1)\n",
    "            \n",
    "            result[i][0]  = temp_cat\n",
    "            \n",
    "            # print(min[0])\n",
    "            # print(block_image)\n",
    "            # block_image_merge = torch.cat(block_image,out=temp_output)\n",
    "            # print(block_image_merge)\n",
    "            # print(block_image_merge.shape)\n",
    "            # print(temp_output)\n",
    "            \n",
    "        return result\n",
    "\n",
    "\n",
    "\n",
    "def loss(original_image,reconstructed_image):\n",
    "    return torch.nn.MSELoss(size_average=False)(reconstructed_image,original_image)\n",
    "\n",
    "def psnr(img1, img2):\n",
    "    mse = numpy.mean( (img1 - img2) ** 2 )\n",
    "    if mse == 0:\n",
    "        return 100\n",
    "    PIXEL_MAX = 1\n",
    "    return 20 * math.log10(PIXEL_MAX / math.sqrt(mse))\n",
    "\n",
    "print(\"Defining Class Succes\")\n",
    "    "
   ],
   "metadata": {
    "collapsed": false,
    "pycharm": {
     "name": "#%% Create Class\n",
     "is_executing": false
    }
   }
  },
  {
   "cell_type": "code",
   "execution_count": 4,
   "outputs": [
    {
     "name": "stdout",
     "text": [
      "Load Image Dataset\nLoad Image Dataset Success\n"
     ],
     "output_type": "stream"
    }
   ],
   "source": [
    "print(\"Load Image Dataset\")\n",
    "train_image_transform = transforms.Compose([\n",
    "    transforms.Grayscale(num_output_channels=1),\n",
    "    transforms.CenterCrop(size=(32,32)),\n",
    "    transforms.ToTensor()\n",
    "    # transforms.Normalize((0.5,),(0.5,))\n",
    "])\n",
    "\n",
    "test_image_transform = transforms.Compose([\n",
    "    transforms.Grayscale(num_output_channels=1),\n",
    "    transforms.CenterCrop(size=(32,32)),\n",
    "    transforms.ToTensor()\n",
    "    # transforms.Normalize((0.5,),(0.5,))\n",
    "])\n",
    "\n",
    "\n",
    "train_path = '../dataset/train/'\n",
    "test_path = '../dataset/test/'\n",
    "train_dataset = torchvision.datasets.ImageFolder(\n",
    "    root=train_path,\n",
    "    transform=train_image_transform\n",
    ")\n",
    "\n",
    "train_loader = torch.utils.data.DataLoader(train_dataset, batch_size=32,\n",
    "                                          shuffle=True, num_workers=2)\n",
    "\n",
    "test_dataset = torchvision.datasets.ImageFolder(\n",
    "    root=test_path,\n",
    "    transform=test_image_transform\n",
    ")\n",
    "\n",
    "test_loader = torch.utils.data.DataLoader(test_dataset,batch_size=32,\n",
    "                                          shuffle=True,num_workers=2)\n",
    "\n",
    "print(\"Load Image Dataset Success\")\n",
    "\n"
   ],
   "metadata": {
    "collapsed": false,
    "pycharm": {
     "name": "#%% Prepared Dataset\n",
     "is_executing": false
    }
   }
  },
  {
   "cell_type": "code",
   "execution_count": 7,
   "outputs": [
    {
     "name": "stdout",
     "text": [
      "Initialize Model....\nCuda is available, using gpu instead\nInitialize Model Success\n"
     ],
     "output_type": "stream"
    }
   ],
   "source": [
    "print(\"Initialize Model....\")\n",
    "CUDA = torch.cuda.is_available()\n",
    "\n",
    "if CUDA:\n",
    "    comCNN = ComCNN(1).cuda()\n",
    "    bitmapRecCNN = BitmapRecCNN(1).cuda()\n",
    "    minMaxCNN = MinMaxCNN(1).cuda()\n",
    "    network = Network(bitmapCNN=bitmapRecCNN,comCNN=comCNN,minmaxCNN=minMaxCNN).cuda()\n",
    "    print(\"Cuda is available, using gpu instead\")\n",
    "else:\n",
    "    comCNN = ComCNN(1)\n",
    "    bitmapRecCNN = BitmapRecCNN(1)\n",
    "    minMaxCNN = MinMaxCNN(1).cuda()\n",
    "    network = Network(bitmapCNN=bitmapRecCNN,comCNN=comCNN,minmaxCNN=minMaxCNN)\n",
    "    print(\"Cuda is not available, using cpu instead\")\n",
    "\n",
    "optimizer = optim.Adam(network.parameters(),lr=1e-3)\n",
    "\n",
    "\n",
    "print(\"Initialize Model Success\")\n",
    "\n"
   ],
   "metadata": {
    "collapsed": false,
    "pycharm": {
     "name": "#%% Create a model\n",
     "is_executing": false
    }
   }
  },
  {
   "cell_type": "code",
   "execution_count": 8,
   "outputs": [
    {
     "name": "stdout",
     "text": [
      "Begin Training...\n",
      "Train Epoch: 0 [0/400 (0%)]\tLoss: 147.520157\n",
      "Train Epoch: 0 [32/400 (8%)]\tLoss: 111.259521\n",
      "Train Epoch: 0 [64/400 (15%)]\tLoss: 46.635883\n",
      "Train Epoch: 0 [96/400 (23%)]\tLoss: 39.095215\n",
      "Train Epoch: 0 [128/400 (31%)]\tLoss: 41.750526\n",
      "Train Epoch: 0 [160/400 (38%)]\tLoss: 36.132721\n",
      "Train Epoch: 0 [192/400 (46%)]\tLoss: 28.263687\n",
      "Train Epoch: 0 [224/400 (54%)]\tLoss: 31.354431\n",
      "Train Epoch: 0 [256/400 (62%)]\tLoss: 36.416275\n"
     ],
     "output_type": "stream"
    },
    {
     "traceback": [
      "\u001b[1;31m---------------------------------------------------------------------------\u001b[0m",
      "\u001b[1;31mKeyboardInterrupt\u001b[0m                         Traceback (most recent call last)",
      "\u001b[1;32m<ipython-input-8-5da85174cd4f>\u001b[0m in \u001b[0;36m<module>\u001b[1;34m\u001b[0m\n\u001b[0;32m     23\u001b[0m         \u001b[0mloss_val\u001b[0m \u001b[1;33m=\u001b[0m \u001b[0mloss\u001b[0m\u001b[1;33m(\u001b[0m\u001b[0mdata\u001b[0m\u001b[1;33m.\u001b[0m\u001b[0mcuda\u001b[0m\u001b[1;33m(\u001b[0m\u001b[1;33m)\u001b[0m\u001b[1;33m,\u001b[0m\u001b[0mrecon\u001b[0m\u001b[1;33m)\u001b[0m\u001b[1;33m\u001b[0m\u001b[1;33m\u001b[0m\u001b[0m\n\u001b[0;32m     24\u001b[0m         \u001b[0mloss_temp\u001b[0m \u001b[1;33m+=\u001b[0m \u001b[0mloss_val\u001b[0m\u001b[1;33m.\u001b[0m\u001b[0mitem\u001b[0m\u001b[1;33m(\u001b[0m\u001b[1;33m)\u001b[0m\u001b[1;33m/\u001b[0m\u001b[0mlen\u001b[0m\u001b[1;33m(\u001b[0m\u001b[0mdata\u001b[0m\u001b[1;33m)\u001b[0m\u001b[1;33m\u001b[0m\u001b[1;33m\u001b[0m\u001b[0m\n\u001b[1;32m---> 25\u001b[1;33m         \u001b[0mloss_val\u001b[0m\u001b[1;33m.\u001b[0m\u001b[0mbackward\u001b[0m\u001b[1;33m(\u001b[0m\u001b[1;33m)\u001b[0m\u001b[1;33m\u001b[0m\u001b[1;33m\u001b[0m\u001b[0m\n\u001b[0m\u001b[0;32m     26\u001b[0m \u001b[1;33m\u001b[0m\u001b[0m\n\u001b[0;32m     27\u001b[0m         \u001b[0moptimizer\u001b[0m\u001b[1;33m.\u001b[0m\u001b[0mstep\u001b[0m\u001b[1;33m(\u001b[0m\u001b[1;33m)\u001b[0m\u001b[1;33m\u001b[0m\u001b[1;33m\u001b[0m\u001b[0m\n",
      "\u001b[1;32md:\\pycharmprojects\\end-to-end-compression-framework\\venv\\lib\\site-packages\\torch\\tensor.py\u001b[0m in \u001b[0;36mbackward\u001b[1;34m(self, gradient, retain_graph, create_graph)\u001b[0m\n\u001b[0;32m    116\u001b[0m                 \u001b[0mproducts\u001b[0m\u001b[1;33m.\u001b[0m \u001b[0mDefaults\u001b[0m \u001b[0mto\u001b[0m\u001b[0;31m \u001b[0m\u001b[0;31m`\u001b[0m\u001b[0;31m`\u001b[0m\u001b[1;32mFalse\u001b[0m\u001b[0;31m`\u001b[0m\u001b[0;31m`\u001b[0m\u001b[1;33m.\u001b[0m\u001b[1;33m\u001b[0m\u001b[1;33m\u001b[0m\u001b[0m\n\u001b[0;32m    117\u001b[0m         \"\"\"\n\u001b[1;32m--> 118\u001b[1;33m         \u001b[0mtorch\u001b[0m\u001b[1;33m.\u001b[0m\u001b[0mautograd\u001b[0m\u001b[1;33m.\u001b[0m\u001b[0mbackward\u001b[0m\u001b[1;33m(\u001b[0m\u001b[0mself\u001b[0m\u001b[1;33m,\u001b[0m \u001b[0mgradient\u001b[0m\u001b[1;33m,\u001b[0m \u001b[0mretain_graph\u001b[0m\u001b[1;33m,\u001b[0m \u001b[0mcreate_graph\u001b[0m\u001b[1;33m)\u001b[0m\u001b[1;33m\u001b[0m\u001b[1;33m\u001b[0m\u001b[0m\n\u001b[0m\u001b[0;32m    119\u001b[0m \u001b[1;33m\u001b[0m\u001b[0m\n\u001b[0;32m    120\u001b[0m     \u001b[1;32mdef\u001b[0m \u001b[0mregister_hook\u001b[0m\u001b[1;33m(\u001b[0m\u001b[0mself\u001b[0m\u001b[1;33m,\u001b[0m \u001b[0mhook\u001b[0m\u001b[1;33m)\u001b[0m\u001b[1;33m:\u001b[0m\u001b[1;33m\u001b[0m\u001b[1;33m\u001b[0m\u001b[0m\n",
      "\u001b[1;32md:\\pycharmprojects\\end-to-end-compression-framework\\venv\\lib\\site-packages\\torch\\autograd\\__init__.py\u001b[0m in \u001b[0;36mbackward\u001b[1;34m(tensors, grad_tensors, retain_graph, create_graph, grad_variables)\u001b[0m\n\u001b[0;32m     91\u001b[0m     Variable._execution_engine.run_backward(\n\u001b[0;32m     92\u001b[0m         \u001b[0mtensors\u001b[0m\u001b[1;33m,\u001b[0m \u001b[0mgrad_tensors\u001b[0m\u001b[1;33m,\u001b[0m \u001b[0mretain_graph\u001b[0m\u001b[1;33m,\u001b[0m \u001b[0mcreate_graph\u001b[0m\u001b[1;33m,\u001b[0m\u001b[1;33m\u001b[0m\u001b[1;33m\u001b[0m\u001b[0m\n\u001b[1;32m---> 93\u001b[1;33m         allow_unreachable=True)  # allow_unreachable flag\n\u001b[0m\u001b[0;32m     94\u001b[0m \u001b[1;33m\u001b[0m\u001b[0m\n\u001b[0;32m     95\u001b[0m \u001b[1;33m\u001b[0m\u001b[0m\n",
      "\u001b[1;31mKeyboardInterrupt\u001b[0m: "
     ],
     "ename": "KeyboardInterrupt",
     "evalue": "",
     "output_type": "error"
    }
   ],
   "source": [
    "import time\n",
    "print(\"Begin Training...\")\n",
    "epoch = 5\n",
    "network.train()\n",
    "for i in range(epoch):\n",
    "    loss_temp = 0\n",
    "    psnr_avg = 0\n",
    "    start = time.time()\n",
    "    for batch_idx,(data,_) in enumerate(train_loader):\n",
    "        optimizer.zero_grad()\n",
    "        data = Variable(data)\n",
    "        recon,minmax,bitmap,compact = network(data.cuda())\n",
    "        \n",
    "        # print(\"min\")\n",
    "        # print(minmax[0][0][0][0].detach().cpu().numpy())\n",
    "        # \n",
    "        # print(\"max\")\n",
    "        # print(minmax[0][1][0][0].detach().cpu().numpy())\n",
    "        # \n",
    "        # print(bitmap[0][0][0:2,0:2].detach().cpu().numpy())\n",
    "        # print(recon[0][0][0:2,0:2])\n",
    "        # break\n",
    "        loss_val = loss(data.cuda(),recon)\n",
    "        loss_temp += loss_val.item()/len(data)\n",
    "        loss_val.backward()\n",
    "        \n",
    "        optimizer.step()\n",
    "        \n",
    "        print('Train Epoch: {} [{}/{} ({:.0f}%)]\\tLoss: {:.6f}'.format(\n",
    "                i, batch_idx * len(data), len(train_loader.dataset),\n",
    "                100. * batch_idx / len(train_loader),\n",
    "                loss_val.item() / len(data)))\n",
    "    # break\n",
    "    end = time.time()\n",
    "    print(\"====>Epoch {}\\nLoss Average : {}\\nTime     : {}\\nAvg psnr    : {}\"\n",
    "          .format(i,\n",
    "                  (loss_temp/len(train_loader)),\n",
    "                  (end-start),\n",
    "                  (psnr_avg/len(train_loader))\n",
    "                  ))\n",
    "print(\"Training Success\")"
   ],
   "metadata": {
    "collapsed": false,
    "pycharm": {
     "name": "#%%\n",
     "is_executing": false
    }
   }
  },
  {
   "cell_type": "code",
   "execution_count": null,
   "outputs": [],
   "source": [
    "\n"
   ],
   "metadata": {
    "collapsed": false,
    "pycharm": {
     "name": "#%%\n"
    }
   }
  }
 ],
 "metadata": {
  "language_info": {
   "codemirror_mode": {
    "name": "ipython",
    "version": 2
   },
   "file_extension": ".py",
   "mimetype": "text/x-python",
   "name": "python",
   "nbconvert_exporter": "python",
   "pygments_lexer": "ipython2",
   "version": "2.7.6"
  },
  "kernelspec": {
   "name": "python3",
   "language": "python",
   "display_name": "Python 3"
  },
  "pycharm": {
   "stem_cell": {
    "cell_type": "raw",
    "source": [],
    "metadata": {
     "collapsed": false
    }
   }
  }
 },
 "nbformat": 4,
 "nbformat_minor": 0
}