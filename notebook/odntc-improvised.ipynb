{
 "cells": [
  {
   "cell_type": "code",
   "execution_count": 1,
   "outputs": [
    {
     "name": "stdout",
     "text": [
      "Importing Library...\n",
      "Importing Library Success\n"
     ],
     "output_type": "stream"
    }
   ],
   "source": [
    "print(\"Importing Library...\")\n",
    "import torch\n",
    "import torchvision\n",
    "import torch.utils.data as putils\n",
    "\n",
    "from torch import nn, optim\n",
    "from torchvision import datasets,transforms\n",
    "from torch.autograd import Variable\n",
    "from PIL import Image\n",
    "import numpy\n",
    "import numpy as np\n",
    "import math\n",
    "\n",
    "print(\"Importing Library Success\")\n"
   ],
   "metadata": {
    "collapsed": false,
    "pycharm": {
     "name": "#%% importing library\n",
     "is_executing": false
    }
   }
  },
  {
   "cell_type": "code",
   "execution_count": 2,
   "outputs": [
    {
     "name": "stdout",
     "text": [
      "Defining Class...\nDefining Class Succes\n"
     ],
     "output_type": "stream"
    }
   ],
   "source": [
    "print(\"Defining Class...\")\n",
    "class ComCNN(nn.Module):\n",
    "    def __init__(self, channel):\n",
    "        super(ComCNN, self).__init__()\n",
    "        self.conv1 = nn.Conv2d(channel, out_channels=64, kernel_size=3, padding=1)\n",
    "        self.conv2 = nn.Conv2d(64, 64, kernel_size=3, stride=2, padding=1)\n",
    "        self.bn1 = nn.BatchNorm2d(64, affine=False)\n",
    "        self.conv3 = nn.Conv2d(64, channel, kernel_size=3, padding=1)\n",
    "        self.relu = nn.ReLU()\n",
    "\n",
    "    def forward(self, x):\n",
    "        out = self.relu(self.conv1(x))\n",
    "        out = self.relu(self.bn1(self.conv2(out)))\n",
    "        return self.conv3(out)\n",
    "\n",
    "class MinMaxCNN(nn.Module):\n",
    "    def __init__(self, channel,interpolate_size=2,mode='bicubic',deep=3):\n",
    "        super(MinMaxCNN, self).__init__()\n",
    "        self.deconv1 = nn.Conv2d(channel, out_channels=64,stride=4, kernel_size=3, padding=1)\n",
    "        self.bn2 = nn.BatchNorm2d(64, affine=False)\n",
    "        self.deconv_n = nn.Conv2d(in_channels=64, out_channels=64, kernel_size=3, padding=1)\n",
    "        self.bn_n = nn.BatchNorm2d(64, affine=False)\n",
    "        self.deconv3 = nn.ConvTranspose2d(64, 2, kernel_size=3,padding=1)\n",
    "        self.relu = nn.ReLU()\n",
    "\n",
    "    def forward(self, x):\n",
    "        out = self.relu(self.deconv1(x))\n",
    "        out = self.relu(self.bn_n(self.deconv_n(out)))\n",
    "        out = self.deconv3(out)\n",
    "        return self.relu(out)\n",
    "\n",
    "class BitmapRecCNN(nn.Module):\n",
    "    def __init__(self, channel,interpolate_size=2,mode='bicubic',deep=5):\n",
    "        super(BitmapRecCNN, self).__init__()\n",
    "        self.deconv1 = nn.Conv2d(channel, out_channels=64, kernel_size=3, padding=1)\n",
    "        self.bn2 = nn.BatchNorm2d(64, affine=False)\n",
    "        self.deconv_n = nn.Conv2d(in_channels=64, out_channels=64, kernel_size=3, padding=1)\n",
    "        self.bn_n = nn.BatchNorm2d(64, affine=False)\n",
    "        self.deconv3 = nn.ConvTranspose2d(64, channel, kernel_size=3, padding=1)\n",
    "        self.relu = nn.ReLU()\n",
    "        self.sigmoid = nn.Sigmoid()\n",
    "\n",
    "        self.interpolate_size = interpolate_size\n",
    "        self.mode = mode\n",
    "        self.deep = 5\n",
    "\n",
    "    def forward(self, x):\n",
    "        x = self.interpolate(x)\n",
    "        out = self.relu(self.deconv1(x))\n",
    "        for _ in range(self.deep):\n",
    "            out = self.relu(self.bn_n(self.deconv_n(out)))\n",
    "        out = self.sigmoid(self.deconv3(out))\n",
    "        rounding = self.rounding_layer(out)\n",
    "        return rounding\n",
    "\n",
    "    def interpolate(self,x):\n",
    "        return nn.functional.interpolate(input=x, scale_factor=self.interpolate_size, mode=self.mode,\n",
    "                                         align_corners=False)\n",
    "\n",
    "    def rounding_layer(self,batch_image):\n",
    "        return batch_image.round()\n",
    "    \n",
    "    \n",
    "class Network(nn.Module):\n",
    "    def __init__(self,comCNN,bitmapCNN,minmaxCNN):\n",
    "        super(Network,self).__init__()\n",
    "        self.first = comCNN\n",
    "        self.second = bitmapCNN\n",
    "        self.third = minmaxCNN\n",
    "        \n",
    "    def forward(self, x):\n",
    "        compact_repre = self.first(x.cuda())\n",
    "        \n",
    "        bitmap_repre = self.second(compact_repre.cuda())\n",
    "        \n",
    "        minmax_repre = self.third(compact_repre.cuda())\n",
    "        \n",
    "        recon = self.btc(bitmap_repre,minmax_repre)\n",
    "        \n",
    "        return recon,minmax_repre,bitmap_repre,compact_repre\n",
    "    \n",
    "    def btc(self,bitmap,minmax):\n",
    "        for i in range(len(minmax)):\n",
    "            counterx = 0\n",
    "            for j in range(0,len(bitmap[0][0]),4):\n",
    "                countery = 0\n",
    "                for k in range(0,len(bitmap[0][0][0]),4):\n",
    "                    if bitmap[i][0][j][k] == 1:\n",
    "                        bitmap[i][0][j][k] = minmax[i][1][counterx][countery]\n",
    "                    else:\n",
    "                        bitmap[i][0][j][k] = minmax[i][0][counterx][countery]\n",
    "                countery = countery + 1\n",
    "            counterx = counterx + 1\n",
    "                \n",
    "        return bitmap\n",
    "\n",
    "def loss(original_image,reconstructed_image):\n",
    "    return torch.nn.MSELoss(size_average=False)(reconstructed_image,original_image)\n",
    "\n",
    "def psnr(img1, img2):\n",
    "    mse = numpy.mean( (img1 - img2) ** 2 )\n",
    "    if mse == 0:\n",
    "        return 100\n",
    "    PIXEL_MAX = 1\n",
    "    return 20 * math.log10(PIXEL_MAX / math.sqrt(mse))\n",
    "\n",
    "print(\"Defining Class Succes\")\n",
    "    "
   ],
   "metadata": {
    "collapsed": false,
    "pycharm": {
     "name": "#%% Create Class\n",
     "is_executing": false
    }
   }
  },
  {
   "cell_type": "code",
   "execution_count": 7,
   "outputs": [
    {
     "name": "stdout",
     "text": [
      "Load Image Dataset\nLoad Image Dataset Success\n"
     ],
     "output_type": "stream"
    }
   ],
   "source": [
    "print(\"Load Image Dataset\")\n",
    "train_image_transform = transforms.Compose([\n",
    "    transforms.Grayscale(num_output_channels=1),\n",
    "    transforms.CenterCrop(size=(32,32)),\n",
    "    transforms.ToTensor(),\n",
    "    transforms.Normalize((0.5,),(0.5,))\n",
    "])\n",
    "\n",
    "test_image_transform = transforms.Compose([\n",
    "    transforms.Grayscale(num_output_channels=1),\n",
    "    transforms.CenterCrop(size=(32,32)),\n",
    "    transforms.ToTensor(),\n",
    "    transforms.Normalize((0.5,),(0.5,))\n",
    "])\n",
    "\n",
    "\n",
    "train_path = '../dataset/train/'\n",
    "test_path = '../dataset/test/'\n",
    "train_dataset = torchvision.datasets.ImageFolder(\n",
    "    root=train_path,\n",
    "    transform=train_image_transform\n",
    ")\n",
    "\n",
    "train_loader = torch.utils.data.DataLoader(train_dataset, batch_size=24,\n",
    "                                          shuffle=True, num_workers=2)\n",
    "\n",
    "test_dataset = torchvision.datasets.ImageFolder(\n",
    "    root=test_path,\n",
    "    transform=test_image_transform\n",
    ")\n",
    "\n",
    "test_loader = torch.utils.data.DataLoader(test_dataset,batch_size=24,\n",
    "                                          shuffle=True,num_workers=2)\n",
    "\n",
    "print(\"Load Image Dataset Success\")\n",
    "\n"
   ],
   "metadata": {
    "collapsed": false,
    "pycharm": {
     "name": "#%% Prepared Dataset\n",
     "is_executing": false
    }
   }
  },
  {
   "cell_type": "code",
   "execution_count": 10,
   "outputs": [
    {
     "name": "stdout",
     "text": [
      "Initialize Model....\nCuda is available, using gpu instead\nInitialize Model Success\n"
     ],
     "output_type": "stream"
    }
   ],
   "source": [
    "print(\"Initialize Model....\")\n",
    "CUDA = torch.cuda.is_available()\n",
    "\n",
    "if CUDA:\n",
    "    comCNN = ComCNN(1).cuda()\n",
    "    bitmapRecCNN = BitmapRecCNN(1).cuda()\n",
    "    minMaxCNN = MinMaxCNN(1).cuda()\n",
    "    network = Network(bitmapCNN=bitmapRecCNN,comCNN=comCNN,minmaxCNN=minMaxCNN).cuda()\n",
    "    print(\"Cuda is available, using gpu instead\")\n",
    "else:\n",
    "    comCNN = ComCNN(1)\n",
    "    bitmapRecCNN = BitmapRecCNN(1)\n",
    "    minMaxCNN = MinMaxCNN(1).cuda()\n",
    "    network = Network(bitmapCNN=bitmapRecCNN,comCNN=comCNN,minmaxCNN=minMaxCNN)\n",
    "    print(\"Cuda is not available, using cpu instead\")\n",
    "\n",
    "optimizer = optim.Adam(network.parameters(),lr=5)\n",
    "\n",
    "\n",
    "print(\"Initialize Model Success\")\n",
    "\n"
   ],
   "metadata": {
    "collapsed": false,
    "pycharm": {
     "name": "#%% Create a model\n",
     "is_executing": false
    }
   }
  },
  {
   "cell_type": "code",
   "execution_count": 11,
   "outputs": [
    {
     "name": "stdout",
     "text": [
      "Begin Training...\n",
      "====>Epoch 0\nLoss Average : 27073.606387867647\nTime     : 22.47698998451233\nAvg psnr    : -44.28853121446804\n",
      "====>Epoch 1\nLoss Average : 26881.010857077206\nTime     : 22.405093669891357\nAvg psnr    : -44.246248858347776\n",
      "====>Epoch 2\nLoss Average : 26921.963350183825\nTime     : 25.60654592514038\nAvg psnr    : -44.25904742069003\n",
      "====>Epoch 3\nLoss Average : 26838.340073529413\nTime     : 22.032244443893433\nAvg psnr    : -44.25715865755512\n",
      "====>Epoch 4\nLoss Average : 26783.391888786766\nTime     : 22.204740285873413\nAvg psnr    : -44.22858368322733\n",
      "====>Epoch 5\nLoss Average : 26999.466681985294\nTime     : 21.931516647338867\nAvg psnr    : -44.268763857148144\n"
     ],
     "output_type": "stream"
    },
    {
     "traceback": [
      "\u001b[1;31m---------------------------------------------------------------------------\u001b[0m",
      "\u001b[1;31mKeyboardInterrupt\u001b[0m                         Traceback (most recent call last)",
      "\u001b[1;32m<ipython-input-11-55cb40dbebee>\u001b[0m in \u001b[0;36m<module>\u001b[1;34m\u001b[0m\n\u001b[0;32m     10\u001b[0m         \u001b[0moptimizer\u001b[0m\u001b[1;33m.\u001b[0m\u001b[0mzero_grad\u001b[0m\u001b[1;33m(\u001b[0m\u001b[1;33m)\u001b[0m\u001b[1;33m\u001b[0m\u001b[1;33m\u001b[0m\u001b[0m\n\u001b[0;32m     11\u001b[0m         \u001b[0mdata\u001b[0m \u001b[1;33m=\u001b[0m \u001b[0mVariable\u001b[0m\u001b[1;33m(\u001b[0m\u001b[0mdata\u001b[0m\u001b[1;33m)\u001b[0m\u001b[1;33m\u001b[0m\u001b[1;33m\u001b[0m\u001b[0m\n\u001b[1;32m---> 12\u001b[1;33m         \u001b[0mrecon\u001b[0m\u001b[1;33m,\u001b[0m\u001b[0mminmax\u001b[0m\u001b[1;33m,\u001b[0m\u001b[0mbitmap\u001b[0m\u001b[1;33m,\u001b[0m\u001b[0mcompact\u001b[0m \u001b[1;33m=\u001b[0m \u001b[0mnetwork\u001b[0m\u001b[1;33m(\u001b[0m\u001b[0mdata\u001b[0m\u001b[1;33m.\u001b[0m\u001b[0mcuda\u001b[0m\u001b[1;33m(\u001b[0m\u001b[1;33m)\u001b[0m\u001b[1;33m)\u001b[0m\u001b[1;33m\u001b[0m\u001b[1;33m\u001b[0m\u001b[0m\n\u001b[0m\u001b[0;32m     13\u001b[0m \u001b[1;33m\u001b[0m\u001b[0m\n\u001b[0;32m     14\u001b[0m         \u001b[0mloss_val\u001b[0m \u001b[1;33m=\u001b[0m \u001b[0mloss\u001b[0m\u001b[1;33m(\u001b[0m\u001b[0mdata\u001b[0m\u001b[1;33m.\u001b[0m\u001b[0mcuda\u001b[0m\u001b[1;33m(\u001b[0m\u001b[1;33m)\u001b[0m\u001b[1;33m,\u001b[0m\u001b[0mrecon\u001b[0m\u001b[1;33m.\u001b[0m\u001b[0mcuda\u001b[0m\u001b[1;33m(\u001b[0m\u001b[1;33m)\u001b[0m\u001b[1;33m)\u001b[0m\u001b[1;33m\u001b[0m\u001b[1;33m\u001b[0m\u001b[0m\n",
      "\u001b[1;32md:\\pycharmprojects\\end-to-end-compression-framework\\venv\\lib\\site-packages\\torch\\nn\\modules\\module.py\u001b[0m in \u001b[0;36m__call__\u001b[1;34m(self, *input, **kwargs)\u001b[0m\n\u001b[0;32m    545\u001b[0m             \u001b[0mresult\u001b[0m \u001b[1;33m=\u001b[0m \u001b[0mself\u001b[0m\u001b[1;33m.\u001b[0m\u001b[0m_slow_forward\u001b[0m\u001b[1;33m(\u001b[0m\u001b[1;33m*\u001b[0m\u001b[0minput\u001b[0m\u001b[1;33m,\u001b[0m \u001b[1;33m**\u001b[0m\u001b[0mkwargs\u001b[0m\u001b[1;33m)\u001b[0m\u001b[1;33m\u001b[0m\u001b[1;33m\u001b[0m\u001b[0m\n\u001b[0;32m    546\u001b[0m         \u001b[1;32melse\u001b[0m\u001b[1;33m:\u001b[0m\u001b[1;33m\u001b[0m\u001b[1;33m\u001b[0m\u001b[0m\n\u001b[1;32m--> 547\u001b[1;33m             \u001b[0mresult\u001b[0m \u001b[1;33m=\u001b[0m \u001b[0mself\u001b[0m\u001b[1;33m.\u001b[0m\u001b[0mforward\u001b[0m\u001b[1;33m(\u001b[0m\u001b[1;33m*\u001b[0m\u001b[0minput\u001b[0m\u001b[1;33m,\u001b[0m \u001b[1;33m**\u001b[0m\u001b[0mkwargs\u001b[0m\u001b[1;33m)\u001b[0m\u001b[1;33m\u001b[0m\u001b[1;33m\u001b[0m\u001b[0m\n\u001b[0m\u001b[0;32m    548\u001b[0m         \u001b[1;32mfor\u001b[0m \u001b[0mhook\u001b[0m \u001b[1;32min\u001b[0m \u001b[0mself\u001b[0m\u001b[1;33m.\u001b[0m\u001b[0m_forward_hooks\u001b[0m\u001b[1;33m.\u001b[0m\u001b[0mvalues\u001b[0m\u001b[1;33m(\u001b[0m\u001b[1;33m)\u001b[0m\u001b[1;33m:\u001b[0m\u001b[1;33m\u001b[0m\u001b[1;33m\u001b[0m\u001b[0m\n\u001b[0;32m    549\u001b[0m             \u001b[0mhook_result\u001b[0m \u001b[1;33m=\u001b[0m \u001b[0mhook\u001b[0m\u001b[1;33m(\u001b[0m\u001b[0mself\u001b[0m\u001b[1;33m,\u001b[0m \u001b[0minput\u001b[0m\u001b[1;33m,\u001b[0m \u001b[0mresult\u001b[0m\u001b[1;33m)\u001b[0m\u001b[1;33m\u001b[0m\u001b[1;33m\u001b[0m\u001b[0m\n",
      "\u001b[1;32m<ipython-input-2-bededacaad30>\u001b[0m in \u001b[0;36mforward\u001b[1;34m(self, x)\u001b[0m\n\u001b[0;32m     76\u001b[0m         \u001b[0mminmax_repre\u001b[0m \u001b[1;33m=\u001b[0m \u001b[0mself\u001b[0m\u001b[1;33m.\u001b[0m\u001b[0mthird\u001b[0m\u001b[1;33m(\u001b[0m\u001b[0mcompact_repre\u001b[0m\u001b[1;33m.\u001b[0m\u001b[0mcuda\u001b[0m\u001b[1;33m(\u001b[0m\u001b[1;33m)\u001b[0m\u001b[1;33m)\u001b[0m\u001b[1;33m\u001b[0m\u001b[1;33m\u001b[0m\u001b[0m\n\u001b[0;32m     77\u001b[0m \u001b[1;33m\u001b[0m\u001b[0m\n\u001b[1;32m---> 78\u001b[1;33m         \u001b[0mrecon\u001b[0m \u001b[1;33m=\u001b[0m \u001b[0mself\u001b[0m\u001b[1;33m.\u001b[0m\u001b[0mbtc\u001b[0m\u001b[1;33m(\u001b[0m\u001b[0mbitmap_repre\u001b[0m\u001b[1;33m,\u001b[0m\u001b[0mminmax_repre\u001b[0m\u001b[1;33m)\u001b[0m\u001b[1;33m\u001b[0m\u001b[1;33m\u001b[0m\u001b[0m\n\u001b[0m\u001b[0;32m     79\u001b[0m \u001b[1;33m\u001b[0m\u001b[0m\n\u001b[0;32m     80\u001b[0m         \u001b[1;32mreturn\u001b[0m \u001b[0mrecon\u001b[0m\u001b[1;33m,\u001b[0m\u001b[0mminmax_repre\u001b[0m\u001b[1;33m,\u001b[0m\u001b[0mbitmap_repre\u001b[0m\u001b[1;33m,\u001b[0m\u001b[0mcompact_repre\u001b[0m\u001b[1;33m\u001b[0m\u001b[1;33m\u001b[0m\u001b[0m\n",
      "\u001b[1;32m<ipython-input-2-bededacaad30>\u001b[0m in \u001b[0;36mbtc\u001b[1;34m(self, bitmap, minmax)\u001b[0m\n\u001b[0;32m     86\u001b[0m                 \u001b[0mcountery\u001b[0m \u001b[1;33m=\u001b[0m \u001b[1;36m0\u001b[0m\u001b[1;33m\u001b[0m\u001b[1;33m\u001b[0m\u001b[0m\n\u001b[0;32m     87\u001b[0m                 \u001b[1;32mfor\u001b[0m \u001b[0mk\u001b[0m \u001b[1;32min\u001b[0m \u001b[0mrange\u001b[0m\u001b[1;33m(\u001b[0m\u001b[1;36m0\u001b[0m\u001b[1;33m,\u001b[0m\u001b[0mlen\u001b[0m\u001b[1;33m(\u001b[0m\u001b[0mbitmap\u001b[0m\u001b[1;33m[\u001b[0m\u001b[1;36m0\u001b[0m\u001b[1;33m]\u001b[0m\u001b[1;33m[\u001b[0m\u001b[1;36m0\u001b[0m\u001b[1;33m]\u001b[0m\u001b[1;33m[\u001b[0m\u001b[1;36m0\u001b[0m\u001b[1;33m]\u001b[0m\u001b[1;33m)\u001b[0m\u001b[1;33m,\u001b[0m\u001b[1;36m4\u001b[0m\u001b[1;33m)\u001b[0m\u001b[1;33m:\u001b[0m\u001b[1;33m\u001b[0m\u001b[1;33m\u001b[0m\u001b[0m\n\u001b[1;32m---> 88\u001b[1;33m                     \u001b[1;32mif\u001b[0m \u001b[0mbitmap\u001b[0m\u001b[1;33m[\u001b[0m\u001b[0mi\u001b[0m\u001b[1;33m]\u001b[0m\u001b[1;33m[\u001b[0m\u001b[1;36m0\u001b[0m\u001b[1;33m]\u001b[0m\u001b[1;33m[\u001b[0m\u001b[0mj\u001b[0m\u001b[1;33m]\u001b[0m\u001b[1;33m[\u001b[0m\u001b[0mk\u001b[0m\u001b[1;33m]\u001b[0m \u001b[1;33m==\u001b[0m \u001b[1;36m1\u001b[0m\u001b[1;33m:\u001b[0m\u001b[1;33m\u001b[0m\u001b[1;33m\u001b[0m\u001b[0m\n\u001b[0m\u001b[0;32m     89\u001b[0m                         \u001b[0mbitmap\u001b[0m\u001b[1;33m[\u001b[0m\u001b[0mi\u001b[0m\u001b[1;33m]\u001b[0m\u001b[1;33m[\u001b[0m\u001b[1;36m0\u001b[0m\u001b[1;33m]\u001b[0m\u001b[1;33m[\u001b[0m\u001b[0mj\u001b[0m\u001b[1;33m]\u001b[0m\u001b[1;33m[\u001b[0m\u001b[0mk\u001b[0m\u001b[1;33m]\u001b[0m \u001b[1;33m=\u001b[0m \u001b[0mminmax\u001b[0m\u001b[1;33m[\u001b[0m\u001b[0mi\u001b[0m\u001b[1;33m]\u001b[0m\u001b[1;33m[\u001b[0m\u001b[1;36m1\u001b[0m\u001b[1;33m]\u001b[0m\u001b[1;33m[\u001b[0m\u001b[0mcounterx\u001b[0m\u001b[1;33m]\u001b[0m\u001b[1;33m[\u001b[0m\u001b[0mcountery\u001b[0m\u001b[1;33m]\u001b[0m\u001b[1;33m\u001b[0m\u001b[1;33m\u001b[0m\u001b[0m\n\u001b[0;32m     90\u001b[0m                     \u001b[1;32melse\u001b[0m\u001b[1;33m:\u001b[0m\u001b[1;33m\u001b[0m\u001b[1;33m\u001b[0m\u001b[0m\n",
      "\u001b[1;31mKeyboardInterrupt\u001b[0m: "
     ],
     "ename": "KeyboardInterrupt",
     "evalue": "",
     "output_type": "error"
    }
   ],
   "source": [
    "import time\n",
    "print(\"Begin Training...\")\n",
    "epoch = 10\n",
    "network.train()\n",
    "for i in range(epoch):\n",
    "    loss_temp = 0\n",
    "    psnr_avg = 0\n",
    "    start = time.time()\n",
    "    for batch_idx,(data,_) in enumerate(train_loader):\n",
    "        optimizer.zero_grad()\n",
    "        data = Variable(data)\n",
    "        recon,minmax,bitmap,compact = network(data.cuda())\n",
    "        \n",
    "        loss_val = loss(data.cuda(),recon.cuda())\n",
    "        loss_temp += loss_val.item()\n",
    "        psnr_avg += 10 * math.log10(1 / loss_val.item())\n",
    "        loss_val.backward()\n",
    "        \n",
    "        optimizer.step()\n",
    "    end = time.time()\n",
    "    print(\"====>Epoch {}\\nLoss Average : {}\\nTime     : {}\\nAvg psnr    : {}\"\n",
    "          .format(i,\n",
    "                  (loss_temp/len(train_loader)),\n",
    "                  (end-start),\n",
    "                  (psnr_avg/len(train_loader))\n",
    "                  ))\n",
    "print(\"Training Success\")"
   ],
   "metadata": {
    "collapsed": false,
    "pycharm": {
     "name": "#%%\n",
     "is_executing": false
    }
   }
  },
  {
   "cell_type": "code",
   "execution_count": 8,
   "outputs": [
    {
     "name": "stdout",
     "text": [
      "0.01835903763771057\n",
      "0.03779703378677368\n"
     ],
     "output_type": "stream"
    }
   ],
   "source": [
    "temp = 0\n",
    "for batch_idx,(data,_) in enumerate(train_loader):\n",
    "    temp = temp + np.mean(data.numpy())\n",
    "print(temp/len(train_loader.dataset))\n",
    "\n",
    "temp = 0\n",
    "for batch_idx,(data,_) in enumerate(test_loader):\n",
    "    temp = temp + np.mean(data.numpy())\n",
    "print(temp/len(test_loader.dataset))\n",
    "\n",
    "\n",
    "    "
   ],
   "metadata": {
    "collapsed": false,
    "pycharm": {
     "name": "#%%\n",
     "is_executing": false
    }
   }
  },
  {
   "cell_type": "code",
   "execution_count": 9,
   "outputs": [
    {
     "name": "stdout",
     "text": [
      "tensor([[[[0.1294, 0.1176, 0.1137,  ..., 0.2902, 0.2824, 0.2745],\n          [0.1216, 0.1137, 0.1137,  ..., 0.2941, 0.2902, 0.2784],\n          [0.1216, 0.1137, 0.1176,  ..., 0.2980, 0.2941, 0.2863],\n          ...,\n          [0.1216, 0.0863, 0.1255,  ..., 0.2667, 0.2588, 0.2510],\n          [0.1451, 0.0784, 0.2157,  ..., 0.2706, 0.2588, 0.2549],\n          [0.1647, 0.0745, 0.1765,  ..., 0.2745, 0.2667, 0.2627]]],\n\n\n        [[[0.2627, 0.3882, 0.8471,  ..., 0.9490, 0.9490, 0.9451],\n          [0.4275, 0.9059, 0.8980,  ..., 0.9529, 0.9529, 0.9490],\n          [0.9255, 0.9216, 0.8275,  ..., 0.9412, 0.9412, 0.9490],\n          ...,\n          [0.0314, 0.0078, 0.0000,  ..., 0.4941, 0.4471, 0.5333],\n          [0.0196, 0.0039, 0.0000,  ..., 0.5176, 0.4863, 0.5529],\n          [0.0118, 0.0039, 0.0000,  ..., 0.5216, 0.4980, 0.5412]]],\n\n\n        [[[0.3333, 0.3804, 0.2745,  ..., 0.1804, 0.1725, 0.1686],\n          [0.3882, 0.2471, 0.2667,  ..., 0.1961, 0.1922, 0.2039],\n          [0.3412, 0.3137, 0.2039,  ..., 0.2275, 0.2431, 0.2471],\n          ...,\n          [0.0471, 0.1569, 0.1608,  ..., 0.4275, 0.4549, 0.4431],\n          [0.0667, 0.2078, 0.2118,  ..., 0.4549, 0.4392, 0.4706],\n          [0.0824, 0.1373, 0.2431,  ..., 0.4471, 0.4392, 0.4431]]],\n\n\n        ...,\n\n\n        [[[0.3569, 0.3569, 0.3569,  ..., 0.3529, 0.3569, 0.3569],\n          [0.3451, 0.3490, 0.3490,  ..., 0.3490, 0.3490, 0.3490],\n          [0.3373, 0.3333, 0.3333,  ..., 0.3333, 0.3333, 0.3333],\n          ...,\n          [0.9922, 0.9922, 0.9961,  ..., 0.3569, 0.5020, 0.5882],\n          [0.9961, 0.9961, 0.9961,  ..., 0.3490, 0.3804, 0.4471],\n          [0.9961, 0.9961, 0.9961,  ..., 0.5373, 0.5059, 0.4745]]],\n\n\n        [[[0.5569, 0.5843, 0.6510,  ..., 0.0078, 0.0196, 0.0235],\n          [0.5569, 0.5843, 0.5922,  ..., 0.0118, 0.0157, 0.0275],\n          [0.5647, 0.5843, 0.5804,  ..., 0.0196, 0.0196, 0.0314],\n          ...,\n          [0.0000, 0.0000, 0.0000,  ..., 0.2235, 0.2353, 0.2118],\n          [0.0000, 0.0000, 0.0000,  ..., 0.4314, 0.4706, 0.3961],\n          [0.0000, 0.0000, 0.0000,  ..., 0.8314, 0.6314, 0.4627]]],\n\n\n        [[[0.0706, 0.0549, 0.0392,  ..., 0.0549, 0.0549, 0.0471],\n          [0.0588, 0.0353, 0.0314,  ..., 0.0549, 0.0510, 0.0471],\n          [0.0627, 0.0275, 0.0314,  ..., 0.0549, 0.0549, 0.0471],\n          ...,\n          [0.0431, 0.0471, 0.0471,  ..., 0.6588, 0.2078, 0.9373],\n          [0.0471, 0.0471, 0.0431,  ..., 0.5373, 0.3020, 0.9608],\n          [0.0471, 0.0471, 0.0431,  ..., 0.4314, 0.4471, 0.9608]]]])\n"
     ],
     "output_type": "stream"
    }
   ],
   "source": [
    "for batch,(data,_) in enumerate(train_loader):\n",
    "    print(data)\n",
    "    break;"
   ],
   "metadata": {
    "collapsed": false,
    "pycharm": {
     "name": "#%%\n",
     "is_executing": false
    }
   }
  },
  {
   "cell_type": "code",
   "execution_count": null,
   "outputs": [],
   "source": [
    "\n"
   ],
   "metadata": {
    "collapsed": false,
    "pycharm": {
     "name": "#%%\n"
    }
   }
  }
 ],
 "metadata": {
  "language_info": {
   "codemirror_mode": {
    "name": "ipython",
    "version": 2
   },
   "file_extension": ".py",
   "mimetype": "text/x-python",
   "name": "python",
   "nbconvert_exporter": "python",
   "pygments_lexer": "ipython2",
   "version": "2.7.6"
  },
  "kernelspec": {
   "name": "python3",
   "language": "python",
   "display_name": "Python 3"
  },
  "pycharm": {
   "stem_cell": {
    "cell_type": "raw",
    "source": [],
    "metadata": {
     "collapsed": false
    }
   }
  }
 },
 "nbformat": 4,
 "nbformat_minor": 0
}