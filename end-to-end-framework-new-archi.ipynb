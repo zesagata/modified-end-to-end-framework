{
 "cells": [
  {
   "cell_type": "code",
   "execution_count": 27,
   "outputs": [
    {
     "name": "stdout",
     "text": [
      "Importing Library...\nImporting Library Success\n"
     ],
     "output_type": "stream"
    }
   ],
   "source": [
    "print(\"Importing Library...\")\n",
    "import torch\n",
    "import torchvision\n",
    "\n",
    "from torch import nn, optim\n",
    "from torchvision import datasets,transforms\n",
    "from torch.autograd import Variable\n",
    "from PIL import Image\n",
    "import numpy\n",
    "import numpy as np\n",
    "print(\"Importing Library Success\")"
   ],
   "metadata": {
    "collapsed": false,
    "pycharm": {
     "name": "#%% importing library\n",
     "is_executing": false
    }
   }
  },
  {
   "cell_type": "code",
   "execution_count": 31,
   "outputs": [
    {
     "name": "stdout",
     "text": [
      "Defining Class...\nDefining Class Success\n"
     ],
     "output_type": "stream"
    }
   ],
   "source": [
    "print(\"Defining Class...\")\n",
    "class ComCNN(nn.Module):\n",
    "    def __init__(self,channel):\n",
    "        super(ComCNN,self).__init__()\n",
    "        self.conv1 = nn.Conv2d(channel,out_channels=64,kernel_size=3,stride=1,padding=1)\n",
    "        self.conv2 = nn.Conv2d(64,64,kernel_size=3,stride=2,padding=0)\n",
    "        self.bn1 = nn.BatchNorm2d(64,affine=False)\n",
    "        self.conv3 = nn.Conv2d(64, channel, kernel_size=3, stride=1, padding=1)\n",
    "        self.relu = nn.ReLU()\n",
    "    \n",
    "    def forward(self,x):\n",
    "        out = self.relu(self.conv1(x))\n",
    "        out = self.relu(self.bn1(self.conv2(out)))\n",
    "        return self.conv3(out)\n",
    "    \n",
    "class RecCNN(nn.Module):\n",
    "    def __init__(self,channel):\n",
    "        super(RecCNN,self).__init__()\n",
    "        self.deconv1 = nn.Conv2d(channel,out_channels=64,kernel_size=3,stride=1,padding=1)\n",
    "        self.bn2 = nn.BatchNorm2d(64,affine=False)\n",
    "        self.deconv_n = nn.Conv2d(in_channels=64,out_channels=64,kernel_size=3,stride=1,padding=1)\n",
    "        self.bn_n = nn.BatchNorm2d(64,affine=False)\n",
    "        self.deconv3 = nn.ConvTranspose2d(64,channel,kernel_size=3,stride=1,padding=1)\n",
    "        self.relu = nn.ReLU()\n",
    "        \n",
    "    def forward(self, x):\n",
    "        out = self.relu(self.deconv1(x))\n",
    "        for _ in range(18):\n",
    "            out = self.relu(self.bn_n(self.deconv_n(out)))\n",
    "        out = self.deconv3(out)\n",
    "        final = out + x\n",
    "        return final,out,x\n",
    "\n",
    "\n",
    "class CODEC():\n",
    "    def __init__(self,size,interpolate_size,mode):\n",
    "        self.size = size\n",
    "        self.interpolate_size = interpolate_size\n",
    "        self.mode = mode\n",
    "    \n",
    "    def btc(self,image):\n",
    "        # TODO: Reshape block_image to bethe same as image shape\n",
    "        x = image.shape[0]/self.size\n",
    "        y = image.shape[1]/self.size\n",
    "        block_image = numpy.split(numpy.concatenate(numpy.split(image,y,axis=1)),x*y)\n",
    "        for i in range(len(block_image)):\n",
    "            mean = numpy.mean(np.mean(block_image[i],axis=1))\n",
    "            std = numpy.std(block_image[i])\n",
    "            m =  self.size*self.size\n",
    "            q = numpy.sum(block_image[i] > mean)\n",
    "            \n",
    "            a = mean - std*numpy.sqrt(q/(m-q))\n",
    "            b = mean + std*numpy.sqrt((m-q)/q)\n",
    "            \n",
    "            \n",
    "            block_image[i][block_image[i]>mean] = b\n",
    "            block_image[i][block_image[i]<mean] = a\n",
    "            \n",
    "        return block_image\n",
    "    \n",
    "    def interpolate(image):\n",
    "        return nn.functional.interpolate(image,size=self.size,mode=self.mode)\n",
    "\n",
    "def loss_function_l1(reconstructed_image,original_image):\n",
    "    return nn.MSELoss(size_average=False)(original_image,reconstructed_image)\n",
    "\n",
    "def loss_function_l2(residual_image,decoded_image,original_image):\n",
    "    return nn.MSELoss(size_average=False)(residual_image-decoded_image,original_image)\n",
    "\n",
    "\n",
    "print(\"Defining Class Success\")"
   ],
   "metadata": {
    "collapsed": false,
    "pycharm": {
     "name": "#%% Define Network\n",
     "is_executing": false
    }
   }
  },
  {
   "cell_type": "code",
   "execution_count": 3,
   "outputs": [
    {
     "name": "stdout",
     "text": [
      "Load Image Dataset\n",
      "Files already downloaded and verified\n",
      "Files already downloaded and verified\n",
      "Load Image Dataset Success\n"
     ],
     "output_type": "stream"
    }
   ],
   "source": [
    "print(\"Load Image Dataset\")\n",
    "image_transform = transforms.Compose([\n",
    "    transforms.Grayscale(num_output_channels=1),\n",
    "    transforms.ToTensor(),\n",
    "    transforms.Normalize((0.5,),(0.5,))\n",
    "])\n",
    "\n",
    "train_set = datasets.CIFAR10(root='./data',train=True,download=True,transform=image_transform)\n",
    "\n",
    "train_loader = torch.utils.data.DataLoader(train_set, batch_size=32,\n",
    "                                          shuffle=True, num_workers=2)\n",
    "\n",
    "test_set = datasets.CIFAR10(root='./data',train=False,download=True,transform=image_transform)\n",
    "\n",
    "test_loader = torch.utils.data.DataLoader(test_set,batch_size=32,\n",
    "                                          shuffle=True,num_workers=2)\n",
    "print(\"Load Image Dataset Success\")"
   ],
   "metadata": {
    "collapsed": false,
    "pycharm": {
     "name": "#%% prepare dataset\n",
     "is_executing": false
    }
   }
  },
  {
   "cell_type": "code",
   "execution_count": 25,
   "outputs": [
    {
     "name": "stdout",
     "text": [
      "Initialize Model....\nCuda is available, using gpu instead\nInitialize Model Success\n"
     ],
     "output_type": "stream"
    }
   ],
   "source": [
    "print(\"Initialize Model....\")\n",
    "CUDA = torch.cuda.is_available()\n",
    "\n",
    "codec = CODEC(4,2,'bicubic')\n",
    "\n",
    "if CUDA:\n",
    "    comCNN = ComCNN(1).cuda()\n",
    "    recCNN = RecCNN(1).cuda()\n",
    "    print(\"Cuda is available, using gpu instead\")\n",
    "else:\n",
    "    comCNN = ComCNN(1)\n",
    "    recCNN = RecCNN(1)\n",
    "    print(\"Cuda is not available, using cpu instead\")\n",
    "\n",
    "comCNNOptimizer = optim.Adam(comCNN.parameters(),lr=1e-3)\n",
    "\n",
    "recCNNOptimizer = optim.Adam(recCNN.parameters(),lr=1e-3)\n",
    "\n",
    "print(\"Initialize Model Success\")\n"
   ],
   "metadata": {
    "collapsed": false,
    "pycharm": {
     "name": "#%% create a model\n",
     "is_executing": false
    }
   }
  },
  {
   "cell_type": "code",
   "execution_count": 5,
   "outputs": [
    {
     "name": "stdout",
     "text": [
      "testing\n",
      "end\n"
     ],
     "output_type": "stream"
    }
   ],
   "source": [
    "print(\"testing\")\n",
    "comCNN.train()\n",
    "recCNN.train()\n",
    "for batch_idx, (data,_) in enumerate (train_loader):\n",
    "    data = Variable(data)\n",
    "    comCNNOptimizer.zero_grad()\n",
    "    recCNNOptimizer.zero_grad()\n",
    "    \n",
    "    compact_image = comCNN(data.cuda())\n",
    "    break;\n",
    "\n",
    "print(\"end\")\n"
   ],
   "metadata": {
    "collapsed": false,
    "pycharm": {
     "name": "#%% testing\n",
     "is_executing": false
    }
   }
  },
  {
   "cell_type": "code",
   "execution_count": 18,
   "outputs": [
    {
     "data": {
      "text/plain": "<matplotlib.image.AxesImage at 0x268de9c4c50>"
     },
     "metadata": {},
     "output_type": "execute_result",
     "execution_count": 18
    },
    {
     "data": {
      "text/plain": "<Figure size 432x288 with 1 Axes>",
      "image/png": "[encoded data removed]"
     },
     "metadata": {
      "needs_background": "light"
     },
     "output_type": "display_data"
    }
   ],
   "source": [
    "import matplotlib.pyplot as plt\n",
    "a = compact_image.cpu()\n",
    "a = a.detach()\n",
    "plt.imshow(a[0][0])"
   ],
   "metadata": {
    "collapsed": false,
    "pycharm": {
     "name": "#%%\n",
     "is_executing": false
    }
   }
  },
  {
   "cell_type": "code",
   "execution_count": 22,
   "outputs": [
    {
     "data": {
      "text/plain": "<matplotlib.image.AxesImage at 0x268ded87470>"
     },
     "metadata": {},
     "output_type": "execute_result",
     "execution_count": 22
    },
    {
     "data": {
      "text/plain": "<Figure size 432x288 with 1 Axes>",
      "image/png": "[encoded data removed]"
     },
     "metadata": {
      "needs_background": "light"
     },
     "output_type": "display_data"
    }
   ],
   "source": [
    "plt.imshow(data[0][0])"
   ],
   "metadata": {
    "collapsed": false,
    "pycharm": {
     "name": "#%%\n",
     "is_executing": false
    }
   }
  },
  {
   "cell_type": "code",
   "execution_count": 29,
   "outputs": [
    {
     "traceback": [
      "\u001b[1;31m---------------------------------------------------------------------------\u001b[0m",
      "\u001b[1;31mTypeError\u001b[0m                                 Traceback (most recent call last)",
      "\u001b[1;32md:\\pycharmprojects\\end-to-end-compression-framework\\venv\\lib\\site-packages\\numpy\\lib\\shape_base.py\u001b[0m in \u001b[0;36msplit\u001b[1;34m(ary, indices_or_sections, axis)\u001b[0m\n\u001b[0;32m    849\u001b[0m     \u001b[1;32mtry\u001b[0m\u001b[1;33m:\u001b[0m\u001b[1;33m\u001b[0m\u001b[1;33m\u001b[0m\u001b[0m\n\u001b[1;32m--> 850\u001b[1;33m         \u001b[0mlen\u001b[0m\u001b[1;33m(\u001b[0m\u001b[0mindices_or_sections\u001b[0m\u001b[1;33m)\u001b[0m\u001b[1;33m\u001b[0m\u001b[1;33m\u001b[0m\u001b[0m\n\u001b[0m\u001b[0;32m    851\u001b[0m     \u001b[1;32mexcept\u001b[0m \u001b[0mTypeError\u001b[0m\u001b[1;33m:\u001b[0m\u001b[1;33m\u001b[0m\u001b[1;33m\u001b[0m\u001b[0m\n",
      "\u001b[1;31mTypeError\u001b[0m: object of type 'float' has no len()",
      "\nDuring handling of the above exception, another exception occurred:\n",
      "\u001b[1;31mValueError\u001b[0m                                Traceback (most recent call last)",
      "\u001b[1;32m<ipython-input-29-28317bbe4085>\u001b[0m in \u001b[0;36m<module>\u001b[1;34m\u001b[0m\n\u001b[0;32m      1\u001b[0m \u001b[0mcompressed\u001b[0m \u001b[1;33m=\u001b[0m \u001b[0mcodec\u001b[0m\u001b[1;33m.\u001b[0m\u001b[0mbtc\u001b[0m\u001b[1;33m(\u001b[0m\u001b[0mdata\u001b[0m\u001b[1;33m[\u001b[0m\u001b[1;36m0\u001b[0m\u001b[1;33m]\u001b[0m\u001b[1;33m[\u001b[0m\u001b[1;36m0\u001b[0m\u001b[1;33m]\u001b[0m\u001b[1;33m)\u001b[0m\u001b[1;33m\u001b[0m\u001b[1;33m\u001b[0m\u001b[0m\n\u001b[0;32m      2\u001b[0m \u001b[0mc\u001b[0m \u001b[1;33m=\u001b[0m \u001b[0mnp\u001b[0m\u001b[1;33m.\u001b[0m\u001b[0mconcatenate\u001b[0m\u001b[1;33m(\u001b[0m\u001b[0mcompressed\u001b[0m\u001b[1;33m)\u001b[0m\u001b[1;33m\u001b[0m\u001b[1;33m\u001b[0m\u001b[0m\n\u001b[1;32m----> 3\u001b[1;33m \u001b[0mb\u001b[0m \u001b[1;33m=\u001b[0m \u001b[0mnp\u001b[0m\u001b[1;33m.\u001b[0m\u001b[0msplit\u001b[0m\u001b[1;33m(\u001b[0m\u001b[0mc\u001b[0m\u001b[1;33m,\u001b[0m\u001b[1;36m15\u001b[0m\u001b[1;33m/\u001b[0m\u001b[1;36m4\u001b[0m\u001b[1;33m)\u001b[0m\u001b[1;33m\u001b[0m\u001b[1;33m\u001b[0m\u001b[0m\n\u001b[0m\u001b[0;32m      4\u001b[0m \u001b[0md\u001b[0m \u001b[1;33m=\u001b[0m \u001b[0mnp\u001b[0m\u001b[1;33m.\u001b[0m\u001b[0mconcatenate\u001b[0m\u001b[1;33m(\u001b[0m\u001b[0mb\u001b[0m\u001b[1;33m,\u001b[0m\u001b[0maxis\u001b[0m\u001b[1;33m=\u001b[0m\u001b[1;36m1\u001b[0m\u001b[1;33m)\u001b[0m\u001b[1;33m\u001b[0m\u001b[1;33m\u001b[0m\u001b[0m\n\u001b[0;32m      5\u001b[0m \u001b[0mprint\u001b[0m\u001b[1;33m(\u001b[0m\u001b[0md\u001b[0m\u001b[1;33m)\u001b[0m\u001b[1;33m\u001b[0m\u001b[1;33m\u001b[0m\u001b[0m\n",
      "\u001b[1;32m<__array_function__ internals>\u001b[0m in \u001b[0;36msplit\u001b[1;34m(*args, **kwargs)\u001b[0m\n",
      "\u001b[1;32md:\\pycharmprojects\\end-to-end-compression-framework\\venv\\lib\\site-packages\\numpy\\lib\\shape_base.py\u001b[0m in \u001b[0;36msplit\u001b[1;34m(ary, indices_or_sections, axis)\u001b[0m\n\u001b[0;32m    854\u001b[0m         \u001b[1;32mif\u001b[0m \u001b[0mN\u001b[0m \u001b[1;33m%\u001b[0m \u001b[0msections\u001b[0m\u001b[1;33m:\u001b[0m\u001b[1;33m\u001b[0m\u001b[1;33m\u001b[0m\u001b[0m\n\u001b[0;32m    855\u001b[0m             raise ValueError(\n\u001b[1;32m--> 856\u001b[1;33m                 'array split does not result in an equal division')\n\u001b[0m\u001b[0;32m    857\u001b[0m     \u001b[0mres\u001b[0m \u001b[1;33m=\u001b[0m \u001b[0marray_split\u001b[0m\u001b[1;33m(\u001b[0m\u001b[0mary\u001b[0m\u001b[1;33m,\u001b[0m \u001b[0mindices_or_sections\u001b[0m\u001b[1;33m,\u001b[0m \u001b[0maxis\u001b[0m\u001b[1;33m)\u001b[0m\u001b[1;33m\u001b[0m\u001b[1;33m\u001b[0m\u001b[0m\n\u001b[0;32m    858\u001b[0m     \u001b[1;32mreturn\u001b[0m \u001b[0mres\u001b[0m\u001b[1;33m\u001b[0m\u001b[1;33m\u001b[0m\u001b[0m\n",
      "\u001b[1;31mValueError\u001b[0m: array split does not result in an equal division"
     ],
     "ename": "ValueError",
     "evalue": "array split does not result in an equal division",
     "output_type": "error"
    }
   ],
   "source": [
    "compressed = codec.btc(data[0][0])\n",
    "c = np.concatenate(compressed)\n",
    "b = np.split(c,15/4)\n",
    "d = np.concatenate(b,axis=1)\n",
    "print(d)\n",
    "print(d.shape)"
   ],
   "metadata": {
    "collapsed": false,
    "pycharm": {
     "name": "#%%\n",
     "is_executing": false
    }
   }
  }
 ],
 "metadata": {
  "language_info": {
   "codemirror_mode": {
    "name": "ipython",
    "version": 2
   },
   "file_extension": ".py",
   "mimetype": "text/x-python",
   "name": "python",
   "nbconvert_exporter": "python",
   "pygments_lexer": "ipython2",
   "version": "2.7.6"
  },
  "kernelspec": {
   "name": "python3",
   "language": "python",
   "display_name": "Python 3"
  },
  "pycharm": {
   "stem_cell": {
    "cell_type": "raw",
    "source": [],
    "metadata": {
     "collapsed": false
    }
   }
  }
 },
 "nbformat": 4,
 "nbformat_minor": 0
}