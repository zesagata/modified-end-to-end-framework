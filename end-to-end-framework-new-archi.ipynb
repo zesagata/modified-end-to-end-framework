{
 "cells": [
  {
   "cell_type": "code",
   "execution_count": 1,
   "outputs": [
    {
     "name": "stdout",
     "text": [
      "Importing Library...\n",
      "Importing Library Success\n"
     ],
     "output_type": "stream"
    }
   ],
   "source": [
    "print(\"Importing Library...\")\n",
    "import torch\n",
    "import torchvision\n",
    "import torch.utils.data as putils\n",
    "\n",
    "from torch import nn, optim\n",
    "from torchvision import datasets,transforms\n",
    "from torch.autograd import Variable\n",
    "from PIL import Image\n",
    "import numpy\n",
    "import numpy as np\n",
    "print(\"Importing Library Success\")"
   ],
   "metadata": {
    "collapsed": false,
    "pycharm": {
     "name": "#%% importing library\n",
     "is_executing": false
    }
   }
  },
  {
   "cell_type": "code",
   "execution_count": 34,
   "outputs": [
    {
     "name": "stdout",
     "text": [
      "Defining Class...\nDefining Class Success\n"
     ],
     "output_type": "stream"
    }
   ],
   "source": [
    "print(\"Defining Class...\")\n",
    "class ComCNN(nn.Module):\n",
    "    def __init__(self,channel):\n",
    "        super(ComCNN,self).__init__()\n",
    "        self.conv1 = nn.Conv2d(channel,out_channels=64,kernel_size=3,padding=1)\n",
    "        self.conv2 = nn.Conv2d(64,64,kernel_size=3,stride=2,padding=1)\n",
    "        self.bn1 = nn.BatchNorm2d(64,affine=False)\n",
    "        self.conv3 = nn.Conv2d(64, channel, kernel_size=3,padding=1)\n",
    "        self.relu = nn.ReLU()\n",
    "    \n",
    "    def forward(self,x):\n",
    "        out = self.relu(self.conv1(x))\n",
    "        out = self.relu(self.bn1(self.conv2(out)))\n",
    "        return self.conv3(out)\n",
    "    \n",
    "class RecCNN(nn.Module):\n",
    "    def __init__(self,channel):\n",
    "        super(RecCNN,self).__init__()\n",
    "        self.deconv1 = nn.Conv2d(channel,out_channels=64,kernel_size=3,padding=1)\n",
    "        self.bn2 = nn.BatchNorm2d(64,affine=False)\n",
    "        self.deconv_n = nn.Conv2d(in_channels=64,out_channels=64,kernel_size=3,padding=1)\n",
    "        self.bn_n = nn.BatchNorm2d(64,affine=False)\n",
    "        self.deconv3 = nn.ConvTranspose2d(64,channel,kernel_size=3,padding=1)\n",
    "        self.relu = nn.ReLU()\n",
    "        \n",
    "    def forward(self, x):\n",
    "        out = self.relu(self.deconv1(x))\n",
    "        for _ in range(18):\n",
    "            out = self.relu(self.bn_n(self.deconv_n(out)))\n",
    "        out = self.deconv3(out)\n",
    "        final = out.add(x)\n",
    "        return final,out\n",
    "\n",
    "\n",
    "class CODEC():\n",
    "    def __init__(self,size,interpolate_size,mode):\n",
    "        self.size = size\n",
    "        self.interpolate_size = interpolate_size\n",
    "        self.mode = mode\n",
    "    \n",
    "    def btc(self,image):\n",
    "        if image.shape[0]%self.size != 0:\n",
    "            n = ((self.size*int(image.shape[0]/self.size))+self.size)-image.shape[0]\n",
    "            image = np.pad(array=image,pad_width=(0,n))\n",
    "            \n",
    "        x = image.shape[0]/self.size\n",
    "        y = image.shape[1]/self.size\n",
    "        block_image = numpy.split(numpy.concatenate(numpy.split(image,y,axis=1)),x*y)\n",
    "        for i in range(len(block_image)):\n",
    "            mean = numpy.mean(np.mean(block_image[i],axis=1))\n",
    "            std = numpy.std(block_image[i])\n",
    "            m =  self.size*self.size\n",
    "            q = numpy.sum(block_image[i] > mean)\n",
    "            \n",
    "            a = mean - std*numpy.sqrt(q/(m-q))\n",
    "            b = mean + std*numpy.sqrt((m-q)/q)\n",
    "            \n",
    "            \n",
    "            block_image[i][block_image[i]>mean] = b\n",
    "            block_image[i][block_image[i]<mean] = a\n",
    "        \n",
    "        block_image = np.concatenate(block_image)\n",
    "        block_image = np.split(block_image,x)\n",
    "        \n",
    "        temp = np.concatenate(block_image,axis=1)\n",
    "        \n",
    "        if image.shape[0]%self.size != 0:\n",
    "            temp = temp[1:-n+1,1:-n+1]\n",
    "        \n",
    "        return torch.tensor(temp)\n",
    "    \n",
    "    def BlockTruncationCoding(self,images_tensor):\n",
    "        results_tensor = images_tensor.new_empty(size=images_tensor.size())\n",
    "        for i in range(len(images_tensor)):\n",
    "            compact_image = images_tensor[i][0]\n",
    "            compressed_image = self.btc(compact_image)\n",
    "            results_tensor[i][0] = compressed_image\n",
    "        return results_tensor\n",
    "    \n",
    "    def Interpolate(self,image):\n",
    "        return nn.functional.interpolate(input=image,scale_factor=self.interpolate_size,mode=self.mode,align_corners=False)\n",
    "        \n",
    "def loss_function_l1(reconstructed_image,original_image):\n",
    "    return nn.MSELoss(size_average=False)(reconstructed_image,original_image)\n",
    "\n",
    "def loss_function_l2(residual_image,decoded_image,original_image):\n",
    "    return nn.MSELoss(size_average=False)(residual_image,decoded_image-original_image)\n",
    "\n",
    "\n",
    "print(\"Defining Class Success\")"
   ],
   "metadata": {
    "collapsed": false,
    "pycharm": {
     "name": "#%%\n",
     "is_executing": false
    }
   }
  },
  {
   "cell_type": "code",
   "execution_count": 22,
   "outputs": [
    {
     "name": "stdout",
     "text": [
      "Load Image Dataset\nLoad Image Dataset Success\n"
     ],
     "output_type": "stream"
    }
   ],
   "source": [
    "print(\"Load Image Dataset\")\n",
    "image_transform = transforms.Compose([\n",
    "    transforms.Grayscale(num_output_channels=1),\n",
    "    transforms.Resize(size=(64,64)),\n",
    "    transforms.ToTensor(),\n",
    "    transforms.Normalize((0.5,),(0.5,))\n",
    "])\n",
    "\n",
    "\n",
    "data_path = './dataset/'\n",
    "train_dataset = torchvision.datasets.ImageFolder(\n",
    "    root=data_path,\n",
    "    transform=image_transform\n",
    ")\n",
    "\n",
    "train_loader = torch.utils.data.DataLoader(train_dataset, batch_size=16,\n",
    "                                          shuffle=True, num_workers=2)\n",
    "\n",
    "print(\"Load Image Dataset Success\")"
   ],
   "metadata": {
    "collapsed": false,
    "pycharm": {
     "name": "#%% prepare dataset\n",
     "is_executing": false
    }
   }
  },
  {
   "cell_type": "code",
   "execution_count": 23,
   "outputs": [
    {
     "name": "stdout",
     "text": [
      "Initialize Model....\nCuda is available, using gpu instead\nInitialize Model Success\n"
     ],
     "output_type": "stream"
    }
   ],
   "source": [
    "print(\"Initialize Model....\")\n",
    "CUDA = torch.cuda.is_available()\n",
    "\n",
    "codec = CODEC(4,2,'bicubic')\n",
    "\n",
    "if CUDA:\n",
    "    comCNN = ComCNN(1).cuda()\n",
    "    recCNN = RecCNN(1).cuda()\n",
    "    print(\"Cuda is available, using gpu instead\")\n",
    "else:\n",
    "    comCNN = ComCNN(1)\n",
    "    recCNN = RecCNN(1)\n",
    "    print(\"Cuda is not available, using cpu instead\")\n",
    "\n",
    "comCNNOptimizer = optim.Adam(comCNN.parameters(),lr=1e-3)\n",
    "\n",
    "recCNNOptimizer = optim.Adam(recCNN.parameters(),lr=1e-3)\n",
    "\n",
    "print(\"Initialize Model Success\")\n"
   ],
   "metadata": {
    "collapsed": false,
    "pycharm": {
     "name": "#%% create a model\n",
     "is_executing": false
    }
   }
  },
  {
   "cell_type": "code",
   "execution_count": 24,
   "outputs": [
    {
     "name": "stdout",
     "text": [
      "Begin Training....\n",
      "====> Epoch: 0\nAverage loss 1: 3700.0984\nAverage Loss 2: 3810.2811\nTime : 9.945987939834595\n",
      "====> Epoch: 1\nAverage loss 1: 680.6147\nAverage Loss 2: 710.9112\nTime : 9.405177354812622\n",
      "====> Epoch: 2\nAverage loss 1: 486.0086\nAverage Loss 2: 589.8097\nTime : 8.767268896102905\n",
      "====> Epoch: 3\nAverage loss 1: 513.3658\nAverage Loss 2: 825.9324\nTime : 8.891199111938477\n",
      "====> Epoch: 4\nAverage loss 1: 554.6572\nAverage Loss 2: 731.9870\nTime : 8.503303527832031\n",
      "====> Epoch: 5\nAverage loss 1: 792.1207\nAverage Loss 2: 955.0133\nTime : 8.734632015228271\n",
      "====> Epoch: 6\nAverage loss 1: 500.4068\nAverage Loss 2: 489.1569\nTime : 8.549147605895996\n",
      "====> Epoch: 7\nAverage loss 1: 395.8275\nAverage Loss 2: 796.8589\nTime : 8.599012613296509\n",
      "====> Epoch: 8\nAverage loss 1: 357.6812\nAverage Loss 2: 410.7341\nTime : 8.533153772354126\n",
      "====> Epoch: 9\nAverage loss 1: 269.0867\nAverage Loss 2: 380.3864\nTime : 8.600027561187744\n",
      "====> Epoch: 10\nAverage loss 1: 272.2495\nAverage Loss 2: 398.4133\nTime : 8.641232252120972\n",
      "====> Epoch: 11\nAverage loss 1: 278.0659\nAverage Loss 2: 444.6325\nTime : 8.63096570968628\n",
      "====> Epoch: 12\nAverage loss 1: 183.4521\nAverage Loss 2: 276.2731\nTime : 8.476337671279907\n",
      "====> Epoch: 13\nAverage loss 1: 250.3017\nAverage Loss 2: 339.6137\nTime : 8.547121047973633\n",
      "====> Epoch: 14\nAverage loss 1: 354.7706\nAverage Loss 2: 507.3233\nTime : 8.495578050613403\n",
      "====> Epoch: 15\nAverage loss 1: 500.0013\nAverage Loss 2: 866.1248\nTime : 8.497327089309692\n",
      "====> Epoch: 16\nAverage loss 1: 396.9613\nAverage Loss 2: 680.5321\nTime : 8.652123928070068\n",
      "====> Epoch: 17\nAverage loss 1: 270.8918\nAverage Loss 2: 369.2692\nTime : 8.553132772445679\n",
      "====> Epoch: 18\nAverage loss 1: 157.6832\nAverage Loss 2: 284.6750\nTime : 8.553317070007324\n",
      "====> Epoch: 19\nAverage loss 1: 127.1796\nAverage Loss 2: 257.7502\nTime : 8.569239139556885\n",
      "====> Epoch: 20\nAverage loss 1: 114.6896\nAverage Loss 2: 192.1041\nTime : 8.628074645996094\n",
      "====> Epoch: 21\nAverage loss 1: 67.1087\nAverage Loss 2: 104.2043\nTime : 8.601987838745117\n",
      "====> Epoch: 22\nAverage loss 1: 86.8131\nAverage Loss 2: 131.3943\nTime : 8.629948377609253\n",
      "====> Epoch: 23\nAverage loss 1: 93.2742\nAverage Loss 2: 141.4627\nTime : 8.552509307861328\n",
      "====> Epoch: 24\nAverage loss 1: 124.2026\nAverage Loss 2: 190.4369\nTime : 8.55540919303894\n",
      "====> Epoch: 25\nAverage loss 1: 108.3683\nAverage Loss 2: 184.9043\nTime : 8.52731990814209\n",
      "====> Epoch: 26\nAverage loss 1: 131.9819\nAverage Loss 2: 204.5426\nTime : 8.516228437423706\n",
      "====> Epoch: 27\nAverage loss 1: 165.6247\nAverage Loss 2: 271.9791\nTime : 8.536238431930542\n",
      "====> Epoch: 28\nAverage loss 1: 128.5205\nAverage Loss 2: 259.3233\nTime : 8.858668327331543\n",
      "====> Epoch: 29\nAverage loss 1: 171.9862\nAverage Loss 2: 305.0487\nTime : 8.673955917358398\n",
      "====> Epoch: 30\nAverage loss 1: 142.7654\nAverage Loss 2: 302.4749\nTime : 8.573048114776611\n",
      "====> Epoch: 31\nAverage loss 1: 126.6142\nAverage Loss 2: 245.4838\nTime : 8.638942003250122\n",
      "====> Epoch: 32\nAverage loss 1: 124.1183\nAverage Loss 2: 226.0371\nTime : 8.779530048370361\n",
      "====> Epoch: 33\nAverage loss 1: 104.1057\nAverage Loss 2: 201.2131\nTime : 8.582055807113647\n",
      "====> Epoch: 34\nAverage loss 1: 82.2483\nAverage Loss 2: 148.0331\nTime : 8.716696500778198\n",
      "====> Epoch: 35\nAverage loss 1: 97.5628\nAverage Loss 2: 167.2936\nTime : 8.570360660552979\n",
      "====> Epoch: 36\nAverage loss 1: 95.5639\nAverage Loss 2: 156.1184\nTime : 8.511533260345459\n",
      "====> Epoch: 37\nAverage loss 1: 86.0511\nAverage Loss 2: 169.4480\nTime : 8.515268564224243\n",
      "====> Epoch: 38\nAverage loss 1: 73.0571\nAverage Loss 2: 111.5547\nTime : 8.570151090621948\n",
      "====> Epoch: 39\nAverage loss 1: 82.2347\nAverage Loss 2: 119.1855\nTime : 8.567501544952393\n",
      "====> Epoch: 40\nAverage loss 1: 81.8581\nAverage Loss 2: 122.5404\nTime : 8.542420864105225\n",
      "====> Epoch: 41\nAverage loss 1: 67.8115\nAverage Loss 2: 103.0968\nTime : 8.498582601547241\n",
      "====> Epoch: 42\nAverage loss 1: 135.9081\nAverage Loss 2: 231.7544\nTime : 8.55959415435791\n",
      "====> Epoch: 43\nAverage loss 1: 166.7066\nAverage Loss 2: 236.4902\nTime : 8.552169561386108\n",
      "====> Epoch: 44\nAverage loss 1: 273.3707\nAverage Loss 2: 517.6314\nTime : 8.537177324295044\n",
      "====> Epoch: 45\nAverage loss 1: 316.7884\nAverage Loss 2: 828.3915\nTime : 8.662923097610474\n",
      "====> Epoch: 46\nAverage loss 1: 312.3929\nAverage Loss 2: 612.7380\nTime : 8.57211446762085\n",
      "====> Epoch: 47\nAverage loss 1: 135.5371\nAverage Loss 2: 239.7937\nTime : 8.624971866607666\n",
      "====> Epoch: 48\nAverage loss 1: 65.6140\nAverage Loss 2: 119.3823\nTime : 8.570127964019775\n",
      "====> Epoch: 49\nAverage loss 1: 74.1097\nAverage Loss 2: 133.6637\nTime : 8.562110900878906\nTraining Success\n"
     ],
     "output_type": "stream"
    },
    {
     "name": "stderr",
     "text": [
      "d:\\pycharmprojects\\end-to-end-compression-framework\\venv\\lib\\site-packages\\torch\\nn\\_reduction.py:43: UserWarning: size_average and reduce args will be deprecated, please use reduction='sum' instead.\n  warnings.warn(warning.format(ret))\n",
      "d:\\pycharmprojects\\end-to-end-compression-framework\\venv\\lib\\site-packages\\ipykernel_launcher.py:56: RuntimeWarning: divide by zero encountered in long_scalars\nd:\\pycharmprojects\\end-to-end-compression-framework\\venv\\lib\\site-packages\\ipykernel_launcher.py:56: RuntimeWarning: invalid value encountered in multiply\n"
     ],
     "output_type": "stream"
    }
   ],
   "source": [
    "import time\n",
    "print(\"Begin Training....\")\n",
    "comCNN.train()\n",
    "recCNN.train()\n",
    "for epoch in range(50):\n",
    "    start = time.time()\n",
    "    train_loss_1 = 0\n",
    "    train_loss_2 = 0\n",
    "    for batch_idx,(data,_) in enumerate(train_loader):\n",
    "        \n",
    "        data = Variable(data)\n",
    "        \n",
    "        compact_image = comCNN(data.cuda())\n",
    "        compact_image_temp = compact_image.cpu().detach()\n",
    "        compressed_image_btc = codec.BlockTruncationCoding(compact_image_temp)\n",
    "        upscaled_image_btc = codec.Interpolate(compressed_image_btc)\n",
    "        \n",
    "        torch.cuda.empty_cache()\n",
    "        \n",
    "        \n",
    "        # update beta with eq 5\n",
    "    \n",
    "        recCNNOptimizer.zero_grad()\n",
    "        reconstructed_image,residual = recCNN(upscaled_image_btc.cuda())\n",
    "        loss2 = loss_function_l2(\n",
    "            residual_image=residual,\n",
    "            decoded_image=upscaled_image_btc.cuda(),\n",
    "            original_image=data.cuda()\n",
    "        )\n",
    "        loss2.backward()\n",
    "        recCNNOptimizer.step()\n",
    "    \n",
    "    \n",
    "        comCNNOptimizer.zero_grad()\n",
    "        upscaled_image_nonbtc = codec.Interpolate(compact_image)\n",
    "        reconstructed_without_btc,_ = recCNN(upscaled_image_nonbtc.cuda())\n",
    "        loss1 = loss_function_l1(\n",
    "            reconstructed_image=reconstructed_without_btc.cuda(),\n",
    "            original_image=data.cuda()\n",
    "        )\n",
    "        loss1.backward()\n",
    "        comCNNOptimizer.step()\n",
    "        train_loss_1 += loss1.item()\n",
    "        train_loss_2 += loss2.item()\n",
    "        # print('Train Epoch: {} [{}/{} ({:.0f}%)]\\tLoss: {:.6f} - {:.6f}'.format(\n",
    "        #         epoch, batch_idx * len(data), len(train_loader.dataset),\n",
    "        #         100. * batch_idx / len(train_loader),\n",
    "        #         loss1.item() / len(data) , loss2.item()/len(data)))\n",
    "    end = time.time()\n",
    "    print('====> Epoch: {}\\nAverage loss 1: {:.4f}\\nAverage Loss 2: {:.4f}\\nTime : {}'.format(\n",
    "          epoch, train_loss_1/len(train_loader.dataset),train_loss_2/len(train_loader.dataset),(end-start)))\n",
    "print(\"Training Success\")"
   ],
   "metadata": {
    "collapsed": false,
    "pycharm": {
     "name": "#%% testing\n",
     "is_executing": false
    }
   }
  },
  {
   "cell_type": "code",
   "execution_count": 28,
   "outputs": [
    {
     "name": "stdout",
     "text": [
      "(64, 64)\n(64, 64)\n",
      "19.977254277109893\n"
     ],
     "output_type": "stream"
    },
    {
     "data": {
      "text/plain": "<Figure size 432x288 with 1 Axes>",
      "image/png": "[encoded data removed]"
     },
     "metadata": {
      "needs_background": "light"
     },
     "output_type": "display_data"
    }
   ],
   "source": [
    "import math\n",
    "import matplotlib.pyplot as plt\n",
    "from PIL import Image\n",
    "\n",
    "def psnr(img1, img2):\n",
    "    mse = numpy.mean( (img1 - img2) ** 2 )\n",
    "    if mse == 0:\n",
    "        return 100\n",
    "    PIXEL_MAX = 255.0\n",
    "    return 20 * math.log10(PIXEL_MAX / math.sqrt(mse))\n",
    "\n",
    "\n",
    "img1 = reconstructed_image[0][0].cpu().detach().numpy()*255.0\n",
    "img2 = data[0][0].cpu().detach().numpy()*255.0\n",
    "\n",
    "print(img1.shape)\n",
    "print(img2.shape)\n",
    "print(psnr(img1,img2))"
   ],
   "metadata": {
    "collapsed": false,
    "pycharm": {
     "name": "#%%\n",
     "is_executing": false
    }
   }
  },
  {
   "cell_type": "code",
   "execution_count": 33,
   "outputs": [
    {
     "data": {
      "text/plain": "<matplotlib.image.AxesImage at 0x283633c5a20>"
     },
     "metadata": {},
     "output_type": "execute_result",
     "execution_count": 33
    },
    {
     "data": {
      "text/plain": "<Figure size 432x288 with 1 Axes>",
      "image/png": "[encoded data removed]"
     },
     "metadata": {
      "needs_background": "light"
     },
     "output_type": "display_data"
    }
   ],
   "source": [
    "plt.imshow(img1, cmap='gray', vmin=0, vmax=255)"
   ],
   "metadata": {
    "collapsed": false,
    "pycharm": {
     "name": "#%%\n",
     "is_executing": false
    }
   }
  },
  {
   "cell_type": "code",
   "execution_count": 32,
   "outputs": [
    {
     "data": {
      "text/plain": "<matplotlib.image.AxesImage at 0x2835f4e0d30>"
     },
     "metadata": {},
     "output_type": "execute_result",
     "execution_count": 32
    },
    {
     "data": {
      "text/plain": "<Figure size 432x288 with 1 Axes>",
      "image/png": "[encoded data removed]"
     },
     "metadata": {
      "needs_background": "light"
     },
     "output_type": "display_data"
    }
   ],
   "source": [
    "plt.imshow(img2, cmap='gray', vmin=0, vmax=255)\n"
   ],
   "metadata": {
    "collapsed": false,
    "pycharm": {
     "name": "#%%\n",
     "is_executing": false
    }
   }
  },
  {
   "cell_type": "code",
   "execution_count": null,
   "outputs": [],
   "source": [
    "\n"
   ],
   "metadata": {
    "collapsed": false,
    "pycharm": {
     "name": "#%%\n"
    }
   }
  }
 ],
 "metadata": {
  "language_info": {
   "codemirror_mode": {
    "name": "ipython",
    "version": 2
   },
   "file_extension": ".py",
   "mimetype": "text/x-python",
   "name": "python",
   "nbconvert_exporter": "python",
   "pygments_lexer": "ipython2",
   "version": "2.7.6"
  },
  "kernelspec": {
   "name": "python3",
   "language": "python",
   "display_name": "Python 3"
  },
  "pycharm": {
   "stem_cell": {
    "cell_type": "raw",
    "source": [],
    "metadata": {
     "collapsed": false
    }
   }
  }
 },
 "nbformat": 4,
 "nbformat_minor": 0
}