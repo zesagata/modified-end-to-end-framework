{
 "cells": [
  {
   "cell_type": "code",
   "execution_count": 1,
   "outputs": [
    {
     "name": "stdout",
     "text": [
      "Importing Library...\n",
      "Importing Library Success\n"
     ],
     "output_type": "stream"
    }
   ],
   "source": [
    "print(\"Importing Library...\")\n",
    "import torch\n",
    "import torchvision\n",
    "import torch.utils.data as putils\n",
    "\n",
    "from torch import nn, optim\n",
    "from torchvision import datasets,transforms\n",
    "from torch.autograd import Variable\n",
    "from PIL import Image\n",
    "import numpy\n",
    "import numpy as np\n",
    "print(\"Importing Library Success\")"
   ],
   "metadata": {
    "collapsed": false,
    "pycharm": {
     "name": "#%% importing library\n",
     "is_executing": false
    }
   }
  },
  {
   "cell_type": "code",
   "execution_count": 2,
   "outputs": [
    {
     "name": "stdout",
     "text": [
      "Defining Class...\nDefining Class Success\n"
     ],
     "output_type": "stream"
    }
   ],
   "source": [
    "print(\"Defining Class...\")\n",
    "class ComCNN(nn.Module):\n",
    "    def __init__(self,channel):\n",
    "        super(ComCNN,self).__init__()\n",
    "        self.conv1 = nn.Conv2d(channel,out_channels=64,kernel_size=3,padding=1)\n",
    "        self.conv2 = nn.Conv2d(64,64,kernel_size=3,stride=2,padding=1)\n",
    "        self.bn1 = nn.BatchNorm2d(64,affine=False)\n",
    "        self.conv3 = nn.Conv2d(64, channel, kernel_size=3,padding=1)\n",
    "        self.relu = nn.ReLU()\n",
    "    \n",
    "    def forward(self,x):\n",
    "        out = self.relu(self.conv1(x))\n",
    "        out = self.relu(self.bn1(self.conv2(out)))\n",
    "        return self.conv3(out)\n",
    "    \n",
    "class RecCNN(nn.Module):\n",
    "    def __init__(self,channel):\n",
    "        super(RecCNN,self).__init__()\n",
    "        self.deconv1 = nn.Conv2d(channel,out_channels=64,kernel_size=3,padding=1)\n",
    "        self.bn2 = nn.BatchNorm2d(64,affine=False)\n",
    "        self.deconv_n = nn.Conv2d(in_channels=64,out_channels=64,kernel_size=3,padding=1)\n",
    "        self.bn_n = nn.BatchNorm2d(64,affine=False)\n",
    "        self.deconv3 = nn.ConvTranspose2d(64,channel,kernel_size=3,padding=1)\n",
    "        self.relu = nn.ReLU()\n",
    "        \n",
    "    def forward(self, x):\n",
    "        out = self.relu(self.deconv1(x))\n",
    "        for _ in range(18):\n",
    "            out = self.relu(self.bn_n(self.deconv_n(out)))\n",
    "        out = self.deconv3(out)\n",
    "        final = out.add(x)\n",
    "        return final,out\n",
    "\n",
    "\n",
    "class CODEC():\n",
    "    def __init__(self,size,interpolate_size,mode):\n",
    "        self.size = size\n",
    "        self.interpolate_size = interpolate_size\n",
    "        self.mode = mode\n",
    "    \n",
    "    def btc(self,image):\n",
    "        if image.shape[0]%self.size != 0:\n",
    "            n = ((self.size*int(image.shape[0]/self.size))+self.size)-image.shape[0]\n",
    "            image = np.pad(array=image,pad_width=(0,n))\n",
    "            \n",
    "        x = image.shape[0]/self.size\n",
    "        y = image.shape[1]/self.size\n",
    "        block_image = numpy.split(numpy.concatenate(numpy.split(image,y,axis=1)),x*y)\n",
    "        for i in range(len(block_image)):\n",
    "            mean = numpy.mean(np.mean(block_image[i],axis=1))\n",
    "            std = numpy.std(block_image[i])\n",
    "            m =  self.size*self.size\n",
    "            q = numpy.sum(block_image[i] > mean)\n",
    "            \n",
    "            a = mean - std*numpy.sqrt(q/(m-q))\n",
    "            b = mean + std*numpy.sqrt((m-q)/q)\n",
    "            \n",
    "            \n",
    "            block_image[i][block_image[i]>mean] = b\n",
    "            block_image[i][block_image[i]<mean] = a\n",
    "        \n",
    "        block_image = np.concatenate(block_image)\n",
    "        block_image = np.split(block_image,x)\n",
    "        \n",
    "        temp = np.concatenate(block_image,axis=1)\n",
    "        \n",
    "        if image.shape[0]%self.size != 0:\n",
    "            temp = temp[1:-n+1,1:-n+1]\n",
    "        \n",
    "        return torch.tensor(temp)\n",
    "    \n",
    "    def BlockTruncationCoding(self,images_tensor):\n",
    "        results_tensor = images_tensor.new_empty(size=images_tensor.size())\n",
    "        for i in range(len(images_tensor)):\n",
    "            compact_image = images_tensor[i][0]\n",
    "            compressed_image = self.btc(compact_image)\n",
    "            results_tensor[i][0] = compressed_image\n",
    "        return results_tensor\n",
    "    \n",
    "    def Interpolate(self,image):\n",
    "        return nn.functional.interpolate(input=image,scale_factor=self.interpolate_size,mode=self.mode,align_corners=False)\n",
    "        \n",
    "def loss_function_l1(reconstructed_image,original_image):\n",
    "    return nn.MSELoss(size_average=False)(reconstructed_image,original_image)\n",
    "\n",
    "def loss_function_l2(residual_image,decoded_image,original_image):\n",
    "    return nn.MSELoss(size_average=False)(residual_image,original_image-decoded_image)\n",
    "\n",
    "\n",
    "print(\"Defining Class Success\")"
   ],
   "metadata": {
    "collapsed": false,
    "pycharm": {
     "name": "#%%\n",
     "is_executing": false
    }
   }
  },
  {
   "cell_type": "code",
   "execution_count": 3,
   "outputs": [
    {
     "name": "stdout",
     "text": [
      "Load Image Dataset\n",
      "Load Image Dataset Success\n"
     ],
     "output_type": "stream"
    }
   ],
   "source": [
    "print(\"Load Image Dataset\")\n",
    "image_transform = transforms.Compose([\n",
    "    transforms.Grayscale(num_output_channels=1),\n",
    "    transforms.Resize(size=(64,64)),\n",
    "    transforms.ToTensor(),\n",
    "    transforms.Normalize((105.97411112882654,),(63.11390135470555,))\n",
    "])\n",
    "\n",
    "\n",
    "data_path = './dataset/'\n",
    "train_dataset = torchvision.datasets.ImageFolder(\n",
    "    root=data_path,\n",
    "    transform=image_transform\n",
    ")\n",
    "\n",
    "train_loader = torch.utils.data.DataLoader(train_dataset, batch_size=16,\n",
    "                                          shuffle=True, num_workers=2)\n",
    "\n",
    "print(\"Load Image Dataset Success\")"
   ],
   "metadata": {
    "collapsed": false,
    "pycharm": {
     "name": "#%% prepare dataset\n",
     "is_executing": false
    }
   }
  },
  {
   "cell_type": "code",
   "execution_count": 38,
   "outputs": [
    {
     "name": "stdout",
     "text": [
      "Initialize Model....\n",
      "Cuda is available, using gpu instead\nInitialize Model Success\n"
     ],
     "output_type": "stream"
    }
   ],
   "source": [
    "print(\"Initialize Model....\")\n",
    "CUDA = torch.cuda.is_available()\n",
    "\n",
    "codec = CODEC(4,2,'bicubic')\n",
    "\n",
    "if CUDA:\n",
    "    comCNN = ComCNN(1).cuda()\n",
    "    recCNN = RecCNN(1).cuda()\n",
    "    print(\"Cuda is available, using gpu instead\")\n",
    "else:\n",
    "    comCNN = ComCNN(1)\n",
    "    recCNN = RecCNN(1)\n",
    "    print(\"Cuda is not available, using cpu instead\")\n",
    "\n",
    "comCNNOptimizer = optim.Adam(comCNN.parameters(),lr=1e-3)\n",
    "\n",
    "recCNNOptimizer = optim.Adam(recCNN.parameters(),lr=1e-3)\n",
    "\n",
    "print(\"Initialize Model Success\")\n"
   ],
   "metadata": {
    "collapsed": false,
    "pycharm": {
     "name": "#%% create a model\n",
     "is_executing": false
    }
   }
  },
  {
   "cell_type": "code",
   "execution_count": 30,
   "outputs": [
    {
     "name": "stdout",
     "text": [
      "Begin Training....\n",
      "====> Epoch: 0\nAverage loss 1: 3861.6832\nAverage Loss 2: 5422.5469\nTime : 12.26221776008606\n",
      "====> Epoch: 1\nAverage loss 1: 215.5132\nAverage Loss 2: 253.7889\nTime : 12.144533157348633\n",
      "====> Epoch: 2\nAverage loss 1: 92.1510\nAverage Loss 2: 120.7307\nTime : 12.15051817893982\n",
      "====> Epoch: 3\nAverage loss 1: 59.5038\nAverage Loss 2: 81.2130\nTime : 12.184706926345825\n",
      "====> Epoch: 4\nAverage loss 1: 44.1496\nAverage Loss 2: 55.1799\nTime : 12.25131368637085\n",
      "====> Epoch: 5\nAverage loss 1: 33.5975\nAverage Loss 2: 36.9745\nTime : 12.15749979019165\n",
      "====> Epoch: 6\nAverage loss 1: 27.4546\nAverage Loss 2: 25.5249\nTime : 12.148523092269897\n",
      "====> Epoch: 7\nAverage loss 1: 23.2747\nAverage Loss 2: 19.6060\nTime : 12.24837350845337\n",
      "====> Epoch: 8\nAverage loss 1: 19.9156\nAverage Loss 2: 15.1277\nTime : 12.166558980941772\n",
      "====> Epoch: 9\nAverage loss 1: 16.3104\nAverage Loss 2: 12.4063\nTime : 12.21036148071289\n",
      "====> Epoch: 10\nAverage loss 1: 15.0440\nAverage Loss 2: 11.3761\nTime : 12.152509927749634\n",
      "====> Epoch: 11\nAverage loss 1: 12.8801\nAverage Loss 2: 9.0957\nTime : 12.14461874961853\n",
      "====> Epoch: 12\nAverage loss 1: 12.1414\nAverage Loss 2: 9.7001\nTime : 12.155634641647339\n",
      "====> Epoch: 13\nAverage loss 1: 11.1270\nAverage Loss 2: 8.4848\nTime : 12.176448822021484\n",
      "====> Epoch: 14\nAverage loss 1: 9.5527\nAverage Loss 2: 7.5847\nTime : 12.15051794052124\n",
      "====> Epoch: 15\nAverage loss 1: 9.5069\nAverage Loss 2: 7.1465\nTime : 12.151549577713013\n",
      "====> Epoch: 16\nAverage loss 1: 8.6728\nAverage Loss 2: 5.4915\nTime : 12.143535852432251\n",
      "====> Epoch: 17\nAverage loss 1: 9.4555\nAverage Loss 2: 7.1825\nTime : 12.155594110488892\n",
      "====> Epoch: 18\nAverage loss 1: 8.3209\nAverage Loss 2: 5.3832\nTime : 12.180538415908813\n",
      "====> Epoch: 19\nAverage loss 1: 7.0015\nAverage Loss 2: 3.5434\nTime : 12.222452878952026\n",
      "====> Epoch: 20\nAverage loss 1: 6.6213\nAverage Loss 2: 3.0217\nTime : 12.351157665252686\n",
      "====> Epoch: 21\nAverage loss 1: 6.4755\nAverage Loss 2: 2.7297\nTime : 12.141624450683594\n",
      "====> Epoch: 22\nAverage loss 1: 6.2981\nAverage Loss 2: 2.5128\nTime : 12.16148829460144\n",
      "====> Epoch: 23\nAverage loss 1: 6.1348\nAverage Loss 2: 2.3420\nTime : 12.426779747009277\n",
      "====> Epoch: 24\nAverage loss 1: 6.0285\nAverage Loss 2: 2.2053\nTime : 12.225317478179932\n",
      "====> Epoch: 25\nAverage loss 1: 5.9951\nAverage Loss 2: 2.1516\nTime : 12.15650224685669\n",
      "====> Epoch: 26\nAverage loss 1: 5.9180\nAverage Loss 2: 2.0852\nTime : 12.150602579116821\n",
      "====> Epoch: 27\nAverage loss 1: 5.6482\nAverage Loss 2: 1.9720\nTime : 12.16698431968689\n",
      "====> Epoch: 28\nAverage loss 1: 5.4289\nAverage Loss 2: 1.8337\nTime : 12.143536806106567\n",
      "====> Epoch: 29\nAverage loss 1: 5.4071\nAverage Loss 2: 1.7189\nTime : 12.194442749023438\n",
      "====> Epoch: 30\nAverage loss 1: 5.3139\nAverage Loss 2: 1.5935\nTime : 12.156502485275269\n",
      "====> Epoch: 31\nAverage loss 1: 5.2484\nAverage Loss 2: 1.5119\nTime : 12.152513265609741\n",
      "====> Epoch: 32\nAverage loss 1: 5.1564\nAverage Loss 2: 1.4537\nTime : 12.161487579345703\n",
      "====> Epoch: 33\nAverage loss 1: 5.1303\nAverage Loss 2: 1.3970\nTime : 12.159537076950073\n",
      "====> Epoch: 34\nAverage loss 1: 5.2256\nAverage Loss 2: 2.0585\nTime : 12.266289710998535\n",
      "====> Epoch: 35\nAverage loss 1: 5.0971\nAverage Loss 2: 2.1668\nTime : 12.19852590560913\n",
      "====> Epoch: 36\nAverage loss 1: 4.8650\nAverage Loss 2: 1.7871\nTime : 12.153546571731567\n",
      "====> Epoch: 37\nAverage loss 1: 4.7978\nAverage Loss 2: 1.5977\nTime : 12.167479276657104\n",
      "====> Epoch: 38\nAverage loss 1: 4.5548\nAverage Loss 2: 1.4591\nTime : 12.156495332717896\n",
      "====> Epoch: 39\nAverage loss 1: 4.4631\nAverage Loss 2: 1.3613\nTime : 12.131568908691406\n",
      "====> Epoch: 40\nAverage loss 1: 4.5427\nAverage Loss 2: 1.3784\nTime : 12.231300592422485\n",
      "====> Epoch: 41\nAverage loss 1: 4.4415\nAverage Loss 2: 1.4437\nTime : 12.277179479598999\n",
      "====> Epoch: 42\nAverage loss 1: 5.1754\nAverage Loss 2: 2.3963\nTime : 12.32110047340393\n",
      "====> Epoch: 43\nAverage loss 1: 5.8933\nAverage Loss 2: 2.9613\nTime : 12.272294521331787\n",
      "====> Epoch: 44\nAverage loss 1: 5.1435\nAverage Loss 2: 1.9794\nTime : 12.160529851913452\n",
      "====> Epoch: 45\nAverage loss 1: 3.8273\nAverage Loss 2: 1.5782\nTime : 12.166531562805176\n",
      "====> Epoch: 46\nAverage loss 1: 5.9659\nAverage Loss 2: 3.2906\nTime : 12.140573501586914\n",
      "====> Epoch: 47\nAverage loss 1: 4.6825\nAverage Loss 2: 2.1786\nTime : 12.154477596282959\n",
      "====> Epoch: 48\nAverage loss 1: 4.6309\nAverage Loss 2: 2.3286\nTime : 12.195403575897217\n",
      "====> Epoch: 49\nAverage loss 1: 4.0962\nAverage Loss 2: 1.9361\nTime : 12.354002475738525\nTraining Success\n"
     ],
     "output_type": "stream"
    },
    {
     "name": "stderr",
     "text": [
      "d:\\pycharmprojects\\end-to-end-compression-framework\\venv\\lib\\site-packages\\ipykernel_launcher.py:56: RuntimeWarning: divide by zero encountered in long_scalars\nd:\\pycharmprojects\\end-to-end-compression-framework\\venv\\lib\\site-packages\\ipykernel_launcher.py:56: RuntimeWarning: invalid value encountered in multiply\n"
     ],
     "output_type": "stream"
    }
   ],
   "source": [
    "import time\n",
    "print(\"Begin Training....\")\n",
    "comCNN.train()\n",
    "recCNN.train()\n",
    "graph_l1 = np.empty(50)\n",
    "graph_l2 = np.empty(50)\n",
    "\n",
    "for epoch in range(50):\n",
    "    start = time.time()\n",
    "    train_loss_1 = 0\n",
    "    train_loss_2 = 0\n",
    "    for batch_idx,(data,_) in enumerate(train_loader):\n",
    "        \n",
    "        data = Variable(data)\n",
    "        \n",
    "        compact_image = comCNN(data.cuda())\n",
    "        compact_image_temp = compact_image.cpu().detach()\n",
    "        compressed_image_btc = codec.BlockTruncationCoding(compact_image_temp)\n",
    "        upscaled_image_btc = codec.Interpolate(compressed_image_btc)\n",
    "        \n",
    "        torch.cuda.empty_cache()\n",
    "        \n",
    "        # update beta with eq 5\n",
    "    \n",
    "        recCNNOptimizer.zero_grad()\n",
    "        reconstructed_image,residual = recCNN(upscaled_image_btc.cuda())\n",
    "        loss2 = loss_function_l2(\n",
    "            residual_image=residual,\n",
    "            decoded_image=upscaled_image_btc.cuda(),\n",
    "            original_image=data.cuda()\n",
    "        )\n",
    "        loss2.backward()\n",
    "        \n",
    "        train_loss_2 += loss2.item()\n",
    "        recCNNOptimizer.step()\n",
    "    \n",
    "    \n",
    "        comCNNOptimizer.zero_grad()\n",
    "        upscaled_image_nonbtc = codec.Interpolate(compact_image)\n",
    "        reconstructed_without_btc,_ = recCNN(upscaled_image_nonbtc.cuda())\n",
    "        loss1 = loss_function_l1(\n",
    "            reconstructed_image=reconstructed_without_btc.cuda(),\n",
    "            original_image=data.cuda()\n",
    "        )\n",
    "        loss1.backward()\n",
    "        train_loss_1 += loss1.item()\n",
    "        comCNNOptimizer.step()\n",
    "        # print('Train Epoch: {} [{}/{} ({:.0f}%)]\\tLoss: {:.6f} - {:.6f}'.format(\n",
    "        #         epoch, batch_idx * len(data), len(train_loader.dataset),\n",
    "        #         100. * batch_idx / len(train_loader),\n",
    "        #         loss1.item() / len(data) , loss2.item()/len(data)))\n",
    "    end = time.time()\n",
    "    graph_l1[epoch] = train_loss_1/len(train_loader.dataset)\n",
    "    graph_l2[epoch] = train_loss_2/len(train_loader.dataset)\n",
    "    print('====> Epoch: {}\\nAverage loss 1: {:.4f}\\nAverage Loss 2: {:.4f}\\nTime : {}'.format(\n",
    "          epoch, train_loss_1/len(train_loader.dataset),train_loss_2/len(train_loader.dataset),(end-start)))\n",
    "print(\"Training Success\")"
   ],
   "metadata": {
    "collapsed": false,
    "pycharm": {
     "name": "#%% testing\n",
     "is_executing": false
    }
   }
  },
  {
   "cell_type": "code",
   "execution_count": 31,
   "outputs": [
    {
     "data": {
      "text/plain": "<Figure size 432x288 with 1 Axes>",
      "image/png": "[encoded data removed]"
     },
     "metadata": {
      "needs_background": "light"
     },
     "output_type": "display_data"
    }
   ],
   "source": [
    "import matplotlib.pyplot as plt\n",
    "plt.plot(graph_l1)\n",
    "plt.show()"
   ],
   "metadata": {
    "collapsed": false,
    "pycharm": {
     "name": "#%%\n",
     "is_executing": false
    }
   }
  },
  {
   "cell_type": "code",
   "execution_count": 32,
   "outputs": [
    {
     "data": {
      "text/plain": "<Figure size 432x288 with 1 Axes>",
      "image/png": "[encoded data removed]"
     },
     "metadata": {
      "needs_background": "light"
     },
     "output_type": "display_data"
    }
   ],
   "source": [
    "plt.plot(graph_l2)\n",
    "plt.show()"
   ],
   "metadata": {
    "collapsed": false,
    "pycharm": {
     "name": "#%%\n",
     "is_executing": false
    }
   }
  },
  {
   "cell_type": "code",
   "execution_count": 35,
   "outputs": [
    {
     "name": "stdout",
     "text": [
      "(64, 64)\n(64, 64)\n34.01630352316082\n"
     ],
     "output_type": "stream"
    }
   ],
   "source": [
    "import math\n",
    "import matplotlib.pyplot as plt\n",
    "from PIL import Image\n",
    "\n",
    "def psnr(img1, img2):\n",
    "    mse = numpy.mean( (img1 - img2) ** 2 )\n",
    "    if mse == 0:\n",
    "        return 100\n",
    "    PIXEL_MAX = 255.0\n",
    "    return 20 * math.log10(PIXEL_MAX / math.sqrt(mse))\n",
    "\n",
    "\n",
    "img1 = reconstructed_image[2][0].cpu().detach().numpy()*255.0\n",
    "img2 = data[2][0].cpu().detach().numpy()*255.0\n",
    "\n",
    "print(img1.shape)\n",
    "print(img2.shape)\n",
    "print(psnr(img1,img2))"
   ],
   "metadata": {
    "collapsed": false,
    "pycharm": {
     "name": "#%%\n",
     "is_executing": false
    }
   }
  },
  {
   "cell_type": "code",
   "execution_count": 33,
   "outputs": [
    {
     "data": {
      "text/plain": "<matplotlib.image.AxesImage at 0x21f655c4320>"
     },
     "metadata": {},
     "output_type": "execute_result",
     "execution_count": 33
    },
    {
     "data": {
      "text/plain": "<Figure size 432x288 with 1 Axes>",
      "image/png": "[encoded data removed]"
     },
     "metadata": {
      "needs_background": "light"
     },
     "output_type": "display_data"
    }
   ],
   "source": [
    "fplt.imshow(img1, cmap='gray', vmin=0, vmax=255)"
   ],
   "metadata": {
    "collapsed": false,
    "pycharm": {
     "name": "#%%\n",
     "is_executing": false
    }
   }
  },
  {
   "cell_type": "code",
   "execution_count": 34,
   "outputs": [
    {
     "data": {
      "text/plain": "<matplotlib.image.AxesImage at 0x21f6556a470>"
     },
     "metadata": {},
     "output_type": "execute_result",
     "execution_count": 34
    },
    {
     "data": {
      "text/plain": "<Figure size 432x288 with 1 Axes>",
      "image/png": "[encoded data removed]"
     },
     "metadata": {
      "needs_background": "light"
     },
     "output_type": "display_data"
    }
   ],
   "source": [
    "plt.imshow(img2, cmap='gray', vmin=0, vmax=255)"
   ],
   "metadata": {
    "collapsed": false,
    "pycharm": {
     "name": "#%%\n",
     "is_executing": false
    }
   }
  },
  {
   "cell_type": "code",
   "execution_count": null,
   "outputs": [],
   "source": [],
   "metadata": {
    "collapsed": false,
    "pycharm": {
     "name": "#%%\n"
    }
   }
  }
 ],
 "metadata": {
  "language_info": {
   "codemirror_mode": {
    "name": "ipython",
    "version": 2
   },
   "file_extension": ".py",
   "mimetype": "text/x-python",
   "name": "python",
   "nbconvert_exporter": "python",
   "pygments_lexer": "ipython2",
   "version": "2.7.6"
  },
  "kernelspec": {
   "name": "python3",
   "language": "python",
   "display_name": "Python 3"
  },
  "pycharm": {
   "stem_cell": {
    "cell_type": "raw",
    "source": [],
    "metadata": {
     "collapsed": false
    }
   }
  }
 },
 "nbformat": 4,
 "nbformat_minor": 0
}